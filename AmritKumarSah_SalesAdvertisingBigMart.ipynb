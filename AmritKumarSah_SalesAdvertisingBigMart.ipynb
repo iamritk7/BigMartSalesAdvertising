{
 "cells": [
  {
   "cell_type": "code",
   "execution_count": 3,
   "metadata": {},
   "outputs": [],
   "source": [
    "#Task 1\n",
    "#a\n",
    "import pandas as pd\n",
    "import numpy as np\n",
    "import matplotlib.pyplot as plt\n",
    "from mpl_toolkits.mplot3d import axes3d\n",
    "import seaborn as sns\n",
    "\n",
    "from sklearn.preprocessing import scale\n",
    "import sklearn.linear_model as skl_lm\n",
    "from sklearn.metrics import mean_squared_error, r2_score\n",
    "import statsmodels.api as sm\n",
    "import statsmodels.formula.api as smf\n",
    "\n",
    "%matplotlib inline\n",
    "plt.style.use('seaborn-white')"
   ]
  },
  {
   "cell_type": "code",
   "execution_count": 4,
   "metadata": {},
   "outputs": [
    {
     "name": "stdout",
     "output_type": "stream",
     "text": [
      "<class 'pandas.core.frame.DataFrame'>\n",
      "RangeIndex: 204 entries, 0 to 203\n",
      "Data columns (total 4 columns):\n",
      "TV           204 non-null float64\n",
      "radio        203 non-null float64\n",
      "newspaper    204 non-null float64\n",
      "sales        204 non-null float64\n",
      "dtypes: float64(4)\n",
      "memory usage: 6.5 KB\n"
     ]
    }
   ],
   "source": [
    "#Task 1\n",
    "#a & b\n",
    "df_marketing = pd.read_csv('SalesBasedOnAdvertising.csv', usecols=[1,2,3,4])\n",
    "df_marketing.info()"
   ]
  },
  {
   "cell_type": "code",
   "execution_count": 5,
   "metadata": {},
   "outputs": [
    {
     "data": {
      "text/html": [
       "<div>\n",
       "<style scoped>\n",
       "    .dataframe tbody tr th:only-of-type {\n",
       "        vertical-align: middle;\n",
       "    }\n",
       "\n",
       "    .dataframe tbody tr th {\n",
       "        vertical-align: top;\n",
       "    }\n",
       "\n",
       "    .dataframe thead th {\n",
       "        text-align: right;\n",
       "    }\n",
       "</style>\n",
       "<table border=\"1\" class=\"dataframe\">\n",
       "  <thead>\n",
       "    <tr style=\"text-align: right;\">\n",
       "      <th></th>\n",
       "      <th>TV</th>\n",
       "      <th>radio</th>\n",
       "      <th>newspaper</th>\n",
       "      <th>sales</th>\n",
       "    </tr>\n",
       "  </thead>\n",
       "  <tbody>\n",
       "    <tr>\n",
       "      <th>count</th>\n",
       "      <td>204.000000</td>\n",
       "      <td>203.000000</td>\n",
       "      <td>204.000000</td>\n",
       "      <td>204.000000</td>\n",
       "    </tr>\n",
       "    <tr>\n",
       "      <th>mean</th>\n",
       "      <td>146.602451</td>\n",
       "      <td>23.122167</td>\n",
       "      <td>30.712255</td>\n",
       "      <td>14.020588</td>\n",
       "    </tr>\n",
       "    <tr>\n",
       "      <th>std</th>\n",
       "      <td>86.062496</td>\n",
       "      <td>14.810692</td>\n",
       "      <td>21.731852</td>\n",
       "      <td>5.905251</td>\n",
       "    </tr>\n",
       "    <tr>\n",
       "      <th>min</th>\n",
       "      <td>0.000000</td>\n",
       "      <td>0.000000</td>\n",
       "      <td>0.300000</td>\n",
       "      <td>0.000000</td>\n",
       "    </tr>\n",
       "    <tr>\n",
       "      <th>25%</th>\n",
       "      <td>72.700000</td>\n",
       "      <td>9.950000</td>\n",
       "      <td>12.875000</td>\n",
       "      <td>10.250000</td>\n",
       "    </tr>\n",
       "    <tr>\n",
       "      <th>50%</th>\n",
       "      <td>149.750000</td>\n",
       "      <td>22.300000</td>\n",
       "      <td>26.050000</td>\n",
       "      <td>12.900000</td>\n",
       "    </tr>\n",
       "    <tr>\n",
       "      <th>75%</th>\n",
       "      <td>218.625000</td>\n",
       "      <td>36.400000</td>\n",
       "      <td>45.100000</td>\n",
       "      <td>17.400000</td>\n",
       "    </tr>\n",
       "    <tr>\n",
       "      <th>max</th>\n",
       "      <td>296.400000</td>\n",
       "      <td>49.600000</td>\n",
       "      <td>114.000000</td>\n",
       "      <td>48.900000</td>\n",
       "    </tr>\n",
       "  </tbody>\n",
       "</table>\n",
       "</div>"
      ],
      "text/plain": [
       "               TV       radio   newspaper       sales\n",
       "count  204.000000  203.000000  204.000000  204.000000\n",
       "mean   146.602451   23.122167   30.712255   14.020588\n",
       "std     86.062496   14.810692   21.731852    5.905251\n",
       "min      0.000000    0.000000    0.300000    0.000000\n",
       "25%     72.700000    9.950000   12.875000   10.250000\n",
       "50%    149.750000   22.300000   26.050000   12.900000\n",
       "75%    218.625000   36.400000   45.100000   17.400000\n",
       "max    296.400000   49.600000  114.000000   48.900000"
      ]
     },
     "execution_count": 5,
     "metadata": {},
     "output_type": "execute_result"
    }
   ],
   "source": [
    "#Task 1\n",
    "#c\n",
    "df_marketing.describe()"
   ]
  },
  {
   "cell_type": "code",
   "execution_count": 6,
   "metadata": {
    "scrolled": true
   },
   "outputs": [
    {
     "data": {
      "text/plain": [
       "pandas.core.frame.DataFrame"
      ]
     },
     "execution_count": 6,
     "metadata": {},
     "output_type": "execute_result"
    }
   ],
   "source": [
    "type(df_marketing)"
   ]
  },
  {
   "cell_type": "code",
   "execution_count": 7,
   "metadata": {},
   "outputs": [
    {
     "data": {
      "text/html": [
       "<div>\n",
       "<style scoped>\n",
       "    .dataframe tbody tr th:only-of-type {\n",
       "        vertical-align: middle;\n",
       "    }\n",
       "\n",
       "    .dataframe tbody tr th {\n",
       "        vertical-align: top;\n",
       "    }\n",
       "\n",
       "    .dataframe thead th {\n",
       "        text-align: right;\n",
       "    }\n",
       "</style>\n",
       "<table border=\"1\" class=\"dataframe\">\n",
       "  <thead>\n",
       "    <tr style=\"text-align: right;\">\n",
       "      <th></th>\n",
       "      <th>TV</th>\n",
       "      <th>radio</th>\n",
       "      <th>newspaper</th>\n",
       "      <th>sales</th>\n",
       "    </tr>\n",
       "  </thead>\n",
       "  <tbody>\n",
       "    <tr>\n",
       "      <th>TV</th>\n",
       "      <td>7406.753245</td>\n",
       "      <td>79.314771</td>\n",
       "      <td>74.000216</td>\n",
       "      <td>369.128619</td>\n",
       "    </tr>\n",
       "    <tr>\n",
       "      <th>radio</th>\n",
       "      <td>79.314771</td>\n",
       "      <td>219.356585</td>\n",
       "      <td>111.707667</td>\n",
       "      <td>45.836834</td>\n",
       "    </tr>\n",
       "    <tr>\n",
       "      <th>newspaper</th>\n",
       "      <td>74.000216</td>\n",
       "      <td>111.707667</td>\n",
       "      <td>472.273396</td>\n",
       "      <td>23.763983</td>\n",
       "    </tr>\n",
       "    <tr>\n",
       "      <th>sales</th>\n",
       "      <td>369.128619</td>\n",
       "      <td>45.836834</td>\n",
       "      <td>23.763983</td>\n",
       "      <td>34.871988</td>\n",
       "    </tr>\n",
       "  </tbody>\n",
       "</table>\n",
       "</div>"
      ],
      "text/plain": [
       "                    TV       radio   newspaper       sales\n",
       "TV         7406.753245   79.314771   74.000216  369.128619\n",
       "radio        79.314771  219.356585  111.707667   45.836834\n",
       "newspaper    74.000216  111.707667  472.273396   23.763983\n",
       "sales       369.128619   45.836834   23.763983   34.871988"
      ]
     },
     "execution_count": 7,
     "metadata": {},
     "output_type": "execute_result"
    }
   ],
   "source": [
    "df_marketing.cov() "
   ]
  },
  {
   "cell_type": "code",
   "execution_count": 8,
   "metadata": {},
   "outputs": [
    {
     "data": {
      "text/html": [
       "<div>\n",
       "<style scoped>\n",
       "    .dataframe tbody tr th:only-of-type {\n",
       "        vertical-align: middle;\n",
       "    }\n",
       "\n",
       "    .dataframe tbody tr th {\n",
       "        vertical-align: top;\n",
       "    }\n",
       "\n",
       "    .dataframe thead th {\n",
       "        text-align: right;\n",
       "    }\n",
       "</style>\n",
       "<table border=\"1\" class=\"dataframe\">\n",
       "  <thead>\n",
       "    <tr style=\"text-align: right;\">\n",
       "      <th></th>\n",
       "      <th>TV</th>\n",
       "      <th>radio</th>\n",
       "      <th>newspaper</th>\n",
       "      <th>sales</th>\n",
       "    </tr>\n",
       "  </thead>\n",
       "  <tbody>\n",
       "    <tr>\n",
       "      <th>TV</th>\n",
       "      <td>1.000000</td>\n",
       "      <td>0.062181</td>\n",
       "      <td>0.039566</td>\n",
       "      <td>0.726316</td>\n",
       "    </tr>\n",
       "    <tr>\n",
       "      <th>radio</th>\n",
       "      <td>0.062181</td>\n",
       "      <td>1.000000</td>\n",
       "      <td>0.346235</td>\n",
       "      <td>0.574775</td>\n",
       "    </tr>\n",
       "    <tr>\n",
       "      <th>newspaper</th>\n",
       "      <td>0.039566</td>\n",
       "      <td>0.346235</td>\n",
       "      <td>1.000000</td>\n",
       "      <td>0.185176</td>\n",
       "    </tr>\n",
       "    <tr>\n",
       "      <th>sales</th>\n",
       "      <td>0.726316</td>\n",
       "      <td>0.574775</td>\n",
       "      <td>0.185176</td>\n",
       "      <td>1.000000</td>\n",
       "    </tr>\n",
       "  </tbody>\n",
       "</table>\n",
       "</div>"
      ],
      "text/plain": [
       "                 TV     radio  newspaper     sales\n",
       "TV         1.000000  0.062181   0.039566  0.726316\n",
       "radio      0.062181  1.000000   0.346235  0.574775\n",
       "newspaper  0.039566  0.346235   1.000000  0.185176\n",
       "sales      0.726316  0.574775   0.185176  1.000000"
      ]
     },
     "execution_count": 8,
     "metadata": {},
     "output_type": "execute_result"
    }
   ],
   "source": [
    "df_marketing.corr()"
   ]
  },
  {
   "cell_type": "code",
   "execution_count": 9,
   "metadata": {},
   "outputs": [
    {
     "data": {
      "text/plain": [
       "TV          -0.076086\n",
       "radio        0.109375\n",
       "newspaper    0.883296\n",
       "sales        1.159119\n",
       "dtype: float64"
      ]
     },
     "execution_count": 9,
     "metadata": {},
     "output_type": "execute_result"
    }
   ],
   "source": [
    "df_marketing.skew()"
   ]
  },
  {
   "cell_type": "code",
   "execution_count": 10,
   "metadata": {},
   "outputs": [
    {
     "data": {
      "text/plain": [
       "TV          -1.230897\n",
       "radio       -1.248134\n",
       "newspaper    0.620698\n",
       "sales        5.038951\n",
       "dtype: float64"
      ]
     },
     "execution_count": 10,
     "metadata": {},
     "output_type": "execute_result"
    }
   ],
   "source": [
    "df_marketing.kurtosis()"
   ]
  },
  {
   "cell_type": "code",
   "execution_count": 11,
   "metadata": {},
   "outputs": [
    {
     "data": {
      "text/plain": [
       "'By the analysis of above Data the type of the DataFrame is \"pandas.core.frame.DataFrame\", and by analysing  their stats of \\nthe DataFrame the mean of the TV, radio newspaper, sales are:-146.602,23.122,30.712,14.020 respectively and their standard \\ndeviation are:-86.062,14.810,21.711,5.905 \\'the standard deviation tells a quantity expressing by how much the members of \\na group differ from the mean value for the group\\' the min is almost zero for all, and the max are:-296.400,49.60,114.000\\n48.900 respectively and the range of the mean raise to (13,147) and their standard range raise to (4,87). the covariance of \\nevery stats are find by using the formula \\'cov(x,y)=sumation(xi-xbar)(yi-ybar)/n-1, in mathematics and statistics covariance\\n is a measure of the relationship between to random variance\\' and the correlation of every stats are find by using the\\n formula corr(x,y=sumation(xi-xbar)(yi-ybar)/underroot_of_all_sumation(xi-xbar)sqaure_sumation(yi-ybar)square) and the \\n correlation coefficient that indicates the strength of the relationship between two variable'"
      ]
     },
     "execution_count": 11,
     "metadata": {},
     "output_type": "execute_result"
    }
   ],
   "source": [
    "\"\"\"By the analysis of above Data the type of the DataFrame is \"pandas.core.frame.DataFrame\", and by analysing  their stats of \n",
    "the DataFrame the mean of the TV, radio newspaper, sales are:-146.602,23.122,30.712,14.020 respectively and their standard \n",
    "deviation are:-86.062,14.810,21.711,5.905 'the standard deviation tells a quantity expressing by how much the members of \n",
    "a group differ from the mean value for the group' the min is almost zero for all, and the max are:-296.400,49.60,114.000\n",
    "48.900 respectively and the range of the mean raise to (13,147) and their standard range raise to (4,87). the covariance of \n",
    "every stats are find by using the formula 'cov(x,y)=sumation(xi-xbar)(yi-ybar)/n-1, in mathematics and statistics covariance\n",
    " is a measure of the relationship between to random variance' and the correlation of every stats are find by using the\n",
    " formula corr(x,y=sumation(xi-xbar)(yi-ybar)/underroot_of_all_sumation(xi-xbar)sqaure_sumation(yi-ybar)square) and the \n",
    " correlation coefficient that indicates the strength of the relationship between two variable\"\"\" "
   ]
  },
  {
   "cell_type": "code",
   "execution_count": 12,
   "metadata": {},
   "outputs": [
    {
     "data": {
      "text/html": [
       "<div>\n",
       "<style scoped>\n",
       "    .dataframe tbody tr th:only-of-type {\n",
       "        vertical-align: middle;\n",
       "    }\n",
       "\n",
       "    .dataframe tbody tr th {\n",
       "        vertical-align: top;\n",
       "    }\n",
       "\n",
       "    .dataframe thead th {\n",
       "        text-align: right;\n",
       "    }\n",
       "</style>\n",
       "<table border=\"1\" class=\"dataframe\">\n",
       "  <thead>\n",
       "    <tr style=\"text-align: right;\">\n",
       "      <th></th>\n",
       "      <th>TV</th>\n",
       "      <th>radio</th>\n",
       "      <th>newspaper</th>\n",
       "      <th>sales</th>\n",
       "    </tr>\n",
       "  </thead>\n",
       "  <tbody>\n",
       "    <tr>\n",
       "      <th>0</th>\n",
       "      <td>219.0</td>\n",
       "      <td>NaN</td>\n",
       "      <td>34.5</td>\n",
       "      <td>48.9</td>\n",
       "    </tr>\n",
       "    <tr>\n",
       "      <th>1</th>\n",
       "      <td>230.1</td>\n",
       "      <td>37.8</td>\n",
       "      <td>69.2</td>\n",
       "      <td>22.1</td>\n",
       "    </tr>\n",
       "    <tr>\n",
       "      <th>2</th>\n",
       "      <td>44.5</td>\n",
       "      <td>39.3</td>\n",
       "      <td>45.1</td>\n",
       "      <td>10.4</td>\n",
       "    </tr>\n",
       "    <tr>\n",
       "      <th>3</th>\n",
       "      <td>17.2</td>\n",
       "      <td>45.9</td>\n",
       "      <td>69.3</td>\n",
       "      <td>9.3</td>\n",
       "    </tr>\n",
       "    <tr>\n",
       "      <th>4</th>\n",
       "      <td>151.5</td>\n",
       "      <td>41.3</td>\n",
       "      <td>58.5</td>\n",
       "      <td>18.5</td>\n",
       "    </tr>\n",
       "    <tr>\n",
       "      <th>5</th>\n",
       "      <td>180.8</td>\n",
       "      <td>10.8</td>\n",
       "      <td>58.4</td>\n",
       "      <td>12.9</td>\n",
       "    </tr>\n",
       "    <tr>\n",
       "      <th>6</th>\n",
       "      <td>8.7</td>\n",
       "      <td>48.9</td>\n",
       "      <td>75.0</td>\n",
       "      <td>7.2</td>\n",
       "    </tr>\n",
       "    <tr>\n",
       "      <th>7</th>\n",
       "      <td>57.5</td>\n",
       "      <td>32.8</td>\n",
       "      <td>23.5</td>\n",
       "      <td>11.8</td>\n",
       "    </tr>\n",
       "    <tr>\n",
       "      <th>8</th>\n",
       "      <td>120.2</td>\n",
       "      <td>19.6</td>\n",
       "      <td>11.6</td>\n",
       "      <td>13.2</td>\n",
       "    </tr>\n",
       "    <tr>\n",
       "      <th>9</th>\n",
       "      <td>8.6</td>\n",
       "      <td>2.1</td>\n",
       "      <td>1.0</td>\n",
       "      <td>4.8</td>\n",
       "    </tr>\n",
       "    <tr>\n",
       "      <th>10</th>\n",
       "      <td>199.8</td>\n",
       "      <td>2.6</td>\n",
       "      <td>21.2</td>\n",
       "      <td>10.6</td>\n",
       "    </tr>\n",
       "    <tr>\n",
       "      <th>11</th>\n",
       "      <td>66.1</td>\n",
       "      <td>5.8</td>\n",
       "      <td>24.2</td>\n",
       "      <td>8.6</td>\n",
       "    </tr>\n",
       "    <tr>\n",
       "      <th>12</th>\n",
       "      <td>214.7</td>\n",
       "      <td>24.0</td>\n",
       "      <td>4.0</td>\n",
       "      <td>17.4</td>\n",
       "    </tr>\n",
       "    <tr>\n",
       "      <th>13</th>\n",
       "      <td>23.8</td>\n",
       "      <td>35.1</td>\n",
       "      <td>65.9</td>\n",
       "      <td>9.2</td>\n",
       "    </tr>\n",
       "    <tr>\n",
       "      <th>14</th>\n",
       "      <td>97.5</td>\n",
       "      <td>7.6</td>\n",
       "      <td>7.2</td>\n",
       "      <td>9.7</td>\n",
       "    </tr>\n",
       "    <tr>\n",
       "      <th>15</th>\n",
       "      <td>204.1</td>\n",
       "      <td>32.9</td>\n",
       "      <td>46.0</td>\n",
       "      <td>19.0</td>\n",
       "    </tr>\n",
       "    <tr>\n",
       "      <th>16</th>\n",
       "      <td>195.4</td>\n",
       "      <td>47.7</td>\n",
       "      <td>52.9</td>\n",
       "      <td>22.4</td>\n",
       "    </tr>\n",
       "    <tr>\n",
       "      <th>17</th>\n",
       "      <td>67.8</td>\n",
       "      <td>36.6</td>\n",
       "      <td>114.0</td>\n",
       "      <td>12.5</td>\n",
       "    </tr>\n",
       "    <tr>\n",
       "      <th>18</th>\n",
       "      <td>281.4</td>\n",
       "      <td>39.6</td>\n",
       "      <td>55.8</td>\n",
       "      <td>24.4</td>\n",
       "    </tr>\n",
       "    <tr>\n",
       "      <th>19</th>\n",
       "      <td>69.2</td>\n",
       "      <td>20.5</td>\n",
       "      <td>18.3</td>\n",
       "      <td>11.3</td>\n",
       "    </tr>\n",
       "    <tr>\n",
       "      <th>20</th>\n",
       "      <td>147.3</td>\n",
       "      <td>23.9</td>\n",
       "      <td>19.1</td>\n",
       "      <td>14.6</td>\n",
       "    </tr>\n",
       "    <tr>\n",
       "      <th>21</th>\n",
       "      <td>218.4</td>\n",
       "      <td>27.7</td>\n",
       "      <td>53.4</td>\n",
       "      <td>18.0</td>\n",
       "    </tr>\n",
       "    <tr>\n",
       "      <th>22</th>\n",
       "      <td>237.4</td>\n",
       "      <td>5.1</td>\n",
       "      <td>23.5</td>\n",
       "      <td>12.5</td>\n",
       "    </tr>\n",
       "    <tr>\n",
       "      <th>23</th>\n",
       "      <td>13.2</td>\n",
       "      <td>15.9</td>\n",
       "      <td>49.6</td>\n",
       "      <td>5.6</td>\n",
       "    </tr>\n",
       "    <tr>\n",
       "      <th>24</th>\n",
       "      <td>228.3</td>\n",
       "      <td>16.9</td>\n",
       "      <td>26.2</td>\n",
       "      <td>15.5</td>\n",
       "    </tr>\n",
       "    <tr>\n",
       "      <th>25</th>\n",
       "      <td>62.3</td>\n",
       "      <td>12.6</td>\n",
       "      <td>18.3</td>\n",
       "      <td>9.7</td>\n",
       "    </tr>\n",
       "    <tr>\n",
       "      <th>26</th>\n",
       "      <td>262.9</td>\n",
       "      <td>3.5</td>\n",
       "      <td>19.5</td>\n",
       "      <td>12.0</td>\n",
       "    </tr>\n",
       "    <tr>\n",
       "      <th>27</th>\n",
       "      <td>142.9</td>\n",
       "      <td>29.3</td>\n",
       "      <td>12.6</td>\n",
       "      <td>15.0</td>\n",
       "    </tr>\n",
       "    <tr>\n",
       "      <th>28</th>\n",
       "      <td>240.1</td>\n",
       "      <td>16.7</td>\n",
       "      <td>22.9</td>\n",
       "      <td>15.9</td>\n",
       "    </tr>\n",
       "    <tr>\n",
       "      <th>29</th>\n",
       "      <td>248.8</td>\n",
       "      <td>27.1</td>\n",
       "      <td>22.9</td>\n",
       "      <td>18.9</td>\n",
       "    </tr>\n",
       "    <tr>\n",
       "      <th>...</th>\n",
       "      <td>...</td>\n",
       "      <td>...</td>\n",
       "      <td>...</td>\n",
       "      <td>...</td>\n",
       "    </tr>\n",
       "    <tr>\n",
       "      <th>174</th>\n",
       "      <td>50.0</td>\n",
       "      <td>11.6</td>\n",
       "      <td>18.4</td>\n",
       "      <td>8.4</td>\n",
       "    </tr>\n",
       "    <tr>\n",
       "      <th>175</th>\n",
       "      <td>164.5</td>\n",
       "      <td>20.9</td>\n",
       "      <td>47.4</td>\n",
       "      <td>14.5</td>\n",
       "    </tr>\n",
       "    <tr>\n",
       "      <th>176</th>\n",
       "      <td>19.6</td>\n",
       "      <td>20.1</td>\n",
       "      <td>17.0</td>\n",
       "      <td>7.6</td>\n",
       "    </tr>\n",
       "    <tr>\n",
       "      <th>177</th>\n",
       "      <td>168.4</td>\n",
       "      <td>7.1</td>\n",
       "      <td>12.8</td>\n",
       "      <td>11.7</td>\n",
       "    </tr>\n",
       "    <tr>\n",
       "      <th>178</th>\n",
       "      <td>222.4</td>\n",
       "      <td>3.4</td>\n",
       "      <td>13.1</td>\n",
       "      <td>11.5</td>\n",
       "    </tr>\n",
       "    <tr>\n",
       "      <th>179</th>\n",
       "      <td>276.9</td>\n",
       "      <td>48.9</td>\n",
       "      <td>41.8</td>\n",
       "      <td>27.0</td>\n",
       "    </tr>\n",
       "    <tr>\n",
       "      <th>180</th>\n",
       "      <td>248.4</td>\n",
       "      <td>30.2</td>\n",
       "      <td>20.3</td>\n",
       "      <td>20.2</td>\n",
       "    </tr>\n",
       "    <tr>\n",
       "      <th>181</th>\n",
       "      <td>170.2</td>\n",
       "      <td>7.8</td>\n",
       "      <td>35.2</td>\n",
       "      <td>11.7</td>\n",
       "    </tr>\n",
       "    <tr>\n",
       "      <th>182</th>\n",
       "      <td>276.7</td>\n",
       "      <td>2.3</td>\n",
       "      <td>23.7</td>\n",
       "      <td>11.8</td>\n",
       "    </tr>\n",
       "    <tr>\n",
       "      <th>183</th>\n",
       "      <td>165.6</td>\n",
       "      <td>10.0</td>\n",
       "      <td>17.6</td>\n",
       "      <td>12.6</td>\n",
       "    </tr>\n",
       "    <tr>\n",
       "      <th>184</th>\n",
       "      <td>156.6</td>\n",
       "      <td>2.6</td>\n",
       "      <td>8.3</td>\n",
       "      <td>10.5</td>\n",
       "    </tr>\n",
       "    <tr>\n",
       "      <th>185</th>\n",
       "      <td>218.5</td>\n",
       "      <td>5.4</td>\n",
       "      <td>27.4</td>\n",
       "      <td>12.2</td>\n",
       "    </tr>\n",
       "    <tr>\n",
       "      <th>186</th>\n",
       "      <td>56.2</td>\n",
       "      <td>5.7</td>\n",
       "      <td>29.7</td>\n",
       "      <td>8.7</td>\n",
       "    </tr>\n",
       "    <tr>\n",
       "      <th>187</th>\n",
       "      <td>287.6</td>\n",
       "      <td>43.0</td>\n",
       "      <td>71.8</td>\n",
       "      <td>26.2</td>\n",
       "    </tr>\n",
       "    <tr>\n",
       "      <th>188</th>\n",
       "      <td>253.8</td>\n",
       "      <td>21.3</td>\n",
       "      <td>30.0</td>\n",
       "      <td>17.6</td>\n",
       "    </tr>\n",
       "    <tr>\n",
       "      <th>189</th>\n",
       "      <td>205.0</td>\n",
       "      <td>45.1</td>\n",
       "      <td>19.6</td>\n",
       "      <td>22.6</td>\n",
       "    </tr>\n",
       "    <tr>\n",
       "      <th>190</th>\n",
       "      <td>139.5</td>\n",
       "      <td>2.1</td>\n",
       "      <td>26.6</td>\n",
       "      <td>10.3</td>\n",
       "    </tr>\n",
       "    <tr>\n",
       "      <th>191</th>\n",
       "      <td>191.1</td>\n",
       "      <td>28.7</td>\n",
       "      <td>18.2</td>\n",
       "      <td>17.3</td>\n",
       "    </tr>\n",
       "    <tr>\n",
       "      <th>192</th>\n",
       "      <td>286.0</td>\n",
       "      <td>13.9</td>\n",
       "      <td>3.7</td>\n",
       "      <td>15.9</td>\n",
       "    </tr>\n",
       "    <tr>\n",
       "      <th>193</th>\n",
       "      <td>18.7</td>\n",
       "      <td>12.1</td>\n",
       "      <td>23.4</td>\n",
       "      <td>6.7</td>\n",
       "    </tr>\n",
       "    <tr>\n",
       "      <th>194</th>\n",
       "      <td>39.5</td>\n",
       "      <td>41.1</td>\n",
       "      <td>5.8</td>\n",
       "      <td>10.8</td>\n",
       "    </tr>\n",
       "    <tr>\n",
       "      <th>195</th>\n",
       "      <td>75.5</td>\n",
       "      <td>10.8</td>\n",
       "      <td>6.0</td>\n",
       "      <td>9.9</td>\n",
       "    </tr>\n",
       "    <tr>\n",
       "      <th>196</th>\n",
       "      <td>17.2</td>\n",
       "      <td>4.1</td>\n",
       "      <td>31.6</td>\n",
       "      <td>5.9</td>\n",
       "    </tr>\n",
       "    <tr>\n",
       "      <th>197</th>\n",
       "      <td>166.8</td>\n",
       "      <td>42.0</td>\n",
       "      <td>3.6</td>\n",
       "      <td>19.6</td>\n",
       "    </tr>\n",
       "    <tr>\n",
       "      <th>198</th>\n",
       "      <td>149.7</td>\n",
       "      <td>35.6</td>\n",
       "      <td>6.0</td>\n",
       "      <td>17.3</td>\n",
       "    </tr>\n",
       "    <tr>\n",
       "      <th>199</th>\n",
       "      <td>38.2</td>\n",
       "      <td>3.7</td>\n",
       "      <td>13.8</td>\n",
       "      <td>7.6</td>\n",
       "    </tr>\n",
       "    <tr>\n",
       "      <th>200</th>\n",
       "      <td>94.2</td>\n",
       "      <td>4.9</td>\n",
       "      <td>8.1</td>\n",
       "      <td>9.7</td>\n",
       "    </tr>\n",
       "    <tr>\n",
       "      <th>201</th>\n",
       "      <td>177.0</td>\n",
       "      <td>9.3</td>\n",
       "      <td>6.4</td>\n",
       "      <td>12.8</td>\n",
       "    </tr>\n",
       "    <tr>\n",
       "      <th>202</th>\n",
       "      <td>283.6</td>\n",
       "      <td>42.0</td>\n",
       "      <td>66.2</td>\n",
       "      <td>25.5</td>\n",
       "    </tr>\n",
       "    <tr>\n",
       "      <th>203</th>\n",
       "      <td>232.1</td>\n",
       "      <td>8.6</td>\n",
       "      <td>8.7</td>\n",
       "      <td>13.4</td>\n",
       "    </tr>\n",
       "  </tbody>\n",
       "</table>\n",
       "<p>204 rows × 4 columns</p>\n",
       "</div>"
      ],
      "text/plain": [
       "        TV  radio  newspaper  sales\n",
       "0    219.0    NaN       34.5   48.9\n",
       "1    230.1   37.8       69.2   22.1\n",
       "2     44.5   39.3       45.1   10.4\n",
       "3     17.2   45.9       69.3    9.3\n",
       "4    151.5   41.3       58.5   18.5\n",
       "5    180.8   10.8       58.4   12.9\n",
       "6      8.7   48.9       75.0    7.2\n",
       "7     57.5   32.8       23.5   11.8\n",
       "8    120.2   19.6       11.6   13.2\n",
       "9      8.6    2.1        1.0    4.8\n",
       "10   199.8    2.6       21.2   10.6\n",
       "11    66.1    5.8       24.2    8.6\n",
       "12   214.7   24.0        4.0   17.4\n",
       "13    23.8   35.1       65.9    9.2\n",
       "14    97.5    7.6        7.2    9.7\n",
       "15   204.1   32.9       46.0   19.0\n",
       "16   195.4   47.7       52.9   22.4\n",
       "17    67.8   36.6      114.0   12.5\n",
       "18   281.4   39.6       55.8   24.4\n",
       "19    69.2   20.5       18.3   11.3\n",
       "20   147.3   23.9       19.1   14.6\n",
       "21   218.4   27.7       53.4   18.0\n",
       "22   237.4    5.1       23.5   12.5\n",
       "23    13.2   15.9       49.6    5.6\n",
       "24   228.3   16.9       26.2   15.5\n",
       "25    62.3   12.6       18.3    9.7\n",
       "26   262.9    3.5       19.5   12.0\n",
       "27   142.9   29.3       12.6   15.0\n",
       "28   240.1   16.7       22.9   15.9\n",
       "29   248.8   27.1       22.9   18.9\n",
       "..     ...    ...        ...    ...\n",
       "174   50.0   11.6       18.4    8.4\n",
       "175  164.5   20.9       47.4   14.5\n",
       "176   19.6   20.1       17.0    7.6\n",
       "177  168.4    7.1       12.8   11.7\n",
       "178  222.4    3.4       13.1   11.5\n",
       "179  276.9   48.9       41.8   27.0\n",
       "180  248.4   30.2       20.3   20.2\n",
       "181  170.2    7.8       35.2   11.7\n",
       "182  276.7    2.3       23.7   11.8\n",
       "183  165.6   10.0       17.6   12.6\n",
       "184  156.6    2.6        8.3   10.5\n",
       "185  218.5    5.4       27.4   12.2\n",
       "186   56.2    5.7       29.7    8.7\n",
       "187  287.6   43.0       71.8   26.2\n",
       "188  253.8   21.3       30.0   17.6\n",
       "189  205.0   45.1       19.6   22.6\n",
       "190  139.5    2.1       26.6   10.3\n",
       "191  191.1   28.7       18.2   17.3\n",
       "192  286.0   13.9        3.7   15.9\n",
       "193   18.7   12.1       23.4    6.7\n",
       "194   39.5   41.1        5.8   10.8\n",
       "195   75.5   10.8        6.0    9.9\n",
       "196   17.2    4.1       31.6    5.9\n",
       "197  166.8   42.0        3.6   19.6\n",
       "198  149.7   35.6        6.0   17.3\n",
       "199   38.2    3.7       13.8    7.6\n",
       "200   94.2    4.9        8.1    9.7\n",
       "201  177.0    9.3        6.4   12.8\n",
       "202  283.6   42.0       66.2   25.5\n",
       "203  232.1    8.6        8.7   13.4\n",
       "\n",
       "[204 rows x 4 columns]"
      ]
     },
     "execution_count": 12,
     "metadata": {},
     "output_type": "execute_result"
    }
   ],
   "source": [
    "#Task 1\n",
    "#d\n",
    "df_marketing"
   ]
  },
  {
   "cell_type": "code",
   "execution_count": 13,
   "metadata": {},
   "outputs": [
    {
     "data": {
      "text/html": [
       "<div>\n",
       "<style scoped>\n",
       "    .dataframe tbody tr th:only-of-type {\n",
       "        vertical-align: middle;\n",
       "    }\n",
       "\n",
       "    .dataframe tbody tr th {\n",
       "        vertical-align: top;\n",
       "    }\n",
       "\n",
       "    .dataframe thead th {\n",
       "        text-align: right;\n",
       "    }\n",
       "</style>\n",
       "<table border=\"1\" class=\"dataframe\">\n",
       "  <thead>\n",
       "    <tr style=\"text-align: right;\">\n",
       "      <th></th>\n",
       "      <th>TV</th>\n",
       "      <th>radio</th>\n",
       "      <th>newspaper</th>\n",
       "      <th>sales</th>\n",
       "    </tr>\n",
       "  </thead>\n",
       "  <tbody>\n",
       "    <tr>\n",
       "      <th>97</th>\n",
       "      <td>0.0</td>\n",
       "      <td>18.0</td>\n",
       "      <td>67.0</td>\n",
       "      <td>0.0</td>\n",
       "    </tr>\n",
       "    <tr>\n",
       "      <th>121</th>\n",
       "      <td>69.4</td>\n",
       "      <td>3.0</td>\n",
       "      <td>34.0</td>\n",
       "      <td>0.0</td>\n",
       "    </tr>\n",
       "  </tbody>\n",
       "</table>\n",
       "</div>"
      ],
      "text/plain": [
       "       TV  radio  newspaper  sales\n",
       "97    0.0   18.0       67.0    0.0\n",
       "121  69.4    3.0       34.0    0.0"
      ]
     },
     "execution_count": 13,
     "metadata": {},
     "output_type": "execute_result"
    }
   ],
   "source": [
    "df_marketing[df_marketing['sales'] == 0]"
   ]
  },
  {
   "cell_type": "code",
   "execution_count": 14,
   "metadata": {},
   "outputs": [],
   "source": [
    "df_marketing1=df_marketing.drop([97,121])"
   ]
  },
  {
   "cell_type": "code",
   "execution_count": 15,
   "metadata": {},
   "outputs": [
    {
     "data": {
      "text/html": [
       "<div>\n",
       "<style scoped>\n",
       "    .dataframe tbody tr th:only-of-type {\n",
       "        vertical-align: middle;\n",
       "    }\n",
       "\n",
       "    .dataframe tbody tr th {\n",
       "        vertical-align: top;\n",
       "    }\n",
       "\n",
       "    .dataframe thead th {\n",
       "        text-align: right;\n",
       "    }\n",
       "</style>\n",
       "<table border=\"1\" class=\"dataframe\">\n",
       "  <thead>\n",
       "    <tr style=\"text-align: right;\">\n",
       "      <th></th>\n",
       "      <th>TV</th>\n",
       "      <th>radio</th>\n",
       "      <th>newspaper</th>\n",
       "      <th>sales</th>\n",
       "    </tr>\n",
       "  </thead>\n",
       "  <tbody>\n",
       "    <tr>\n",
       "      <th>0</th>\n",
       "      <td>219.0</td>\n",
       "      <td>NaN</td>\n",
       "      <td>34.5</td>\n",
       "      <td>48.9</td>\n",
       "    </tr>\n",
       "    <tr>\n",
       "      <th>1</th>\n",
       "      <td>230.1</td>\n",
       "      <td>37.8</td>\n",
       "      <td>69.2</td>\n",
       "      <td>22.1</td>\n",
       "    </tr>\n",
       "    <tr>\n",
       "      <th>2</th>\n",
       "      <td>44.5</td>\n",
       "      <td>39.3</td>\n",
       "      <td>45.1</td>\n",
       "      <td>10.4</td>\n",
       "    </tr>\n",
       "    <tr>\n",
       "      <th>3</th>\n",
       "      <td>17.2</td>\n",
       "      <td>45.9</td>\n",
       "      <td>69.3</td>\n",
       "      <td>9.3</td>\n",
       "    </tr>\n",
       "    <tr>\n",
       "      <th>4</th>\n",
       "      <td>151.5</td>\n",
       "      <td>41.3</td>\n",
       "      <td>58.5</td>\n",
       "      <td>18.5</td>\n",
       "    </tr>\n",
       "    <tr>\n",
       "      <th>5</th>\n",
       "      <td>180.8</td>\n",
       "      <td>10.8</td>\n",
       "      <td>58.4</td>\n",
       "      <td>12.9</td>\n",
       "    </tr>\n",
       "    <tr>\n",
       "      <th>6</th>\n",
       "      <td>8.7</td>\n",
       "      <td>48.9</td>\n",
       "      <td>75.0</td>\n",
       "      <td>7.2</td>\n",
       "    </tr>\n",
       "    <tr>\n",
       "      <th>7</th>\n",
       "      <td>57.5</td>\n",
       "      <td>32.8</td>\n",
       "      <td>23.5</td>\n",
       "      <td>11.8</td>\n",
       "    </tr>\n",
       "    <tr>\n",
       "      <th>8</th>\n",
       "      <td>120.2</td>\n",
       "      <td>19.6</td>\n",
       "      <td>11.6</td>\n",
       "      <td>13.2</td>\n",
       "    </tr>\n",
       "    <tr>\n",
       "      <th>9</th>\n",
       "      <td>8.6</td>\n",
       "      <td>2.1</td>\n",
       "      <td>1.0</td>\n",
       "      <td>4.8</td>\n",
       "    </tr>\n",
       "    <tr>\n",
       "      <th>10</th>\n",
       "      <td>199.8</td>\n",
       "      <td>2.6</td>\n",
       "      <td>21.2</td>\n",
       "      <td>10.6</td>\n",
       "    </tr>\n",
       "    <tr>\n",
       "      <th>11</th>\n",
       "      <td>66.1</td>\n",
       "      <td>5.8</td>\n",
       "      <td>24.2</td>\n",
       "      <td>8.6</td>\n",
       "    </tr>\n",
       "    <tr>\n",
       "      <th>12</th>\n",
       "      <td>214.7</td>\n",
       "      <td>24.0</td>\n",
       "      <td>4.0</td>\n",
       "      <td>17.4</td>\n",
       "    </tr>\n",
       "    <tr>\n",
       "      <th>13</th>\n",
       "      <td>23.8</td>\n",
       "      <td>35.1</td>\n",
       "      <td>65.9</td>\n",
       "      <td>9.2</td>\n",
       "    </tr>\n",
       "    <tr>\n",
       "      <th>14</th>\n",
       "      <td>97.5</td>\n",
       "      <td>7.6</td>\n",
       "      <td>7.2</td>\n",
       "      <td>9.7</td>\n",
       "    </tr>\n",
       "    <tr>\n",
       "      <th>15</th>\n",
       "      <td>204.1</td>\n",
       "      <td>32.9</td>\n",
       "      <td>46.0</td>\n",
       "      <td>19.0</td>\n",
       "    </tr>\n",
       "    <tr>\n",
       "      <th>16</th>\n",
       "      <td>195.4</td>\n",
       "      <td>47.7</td>\n",
       "      <td>52.9</td>\n",
       "      <td>22.4</td>\n",
       "    </tr>\n",
       "    <tr>\n",
       "      <th>17</th>\n",
       "      <td>67.8</td>\n",
       "      <td>36.6</td>\n",
       "      <td>114.0</td>\n",
       "      <td>12.5</td>\n",
       "    </tr>\n",
       "    <tr>\n",
       "      <th>18</th>\n",
       "      <td>281.4</td>\n",
       "      <td>39.6</td>\n",
       "      <td>55.8</td>\n",
       "      <td>24.4</td>\n",
       "    </tr>\n",
       "    <tr>\n",
       "      <th>19</th>\n",
       "      <td>69.2</td>\n",
       "      <td>20.5</td>\n",
       "      <td>18.3</td>\n",
       "      <td>11.3</td>\n",
       "    </tr>\n",
       "    <tr>\n",
       "      <th>20</th>\n",
       "      <td>147.3</td>\n",
       "      <td>23.9</td>\n",
       "      <td>19.1</td>\n",
       "      <td>14.6</td>\n",
       "    </tr>\n",
       "    <tr>\n",
       "      <th>21</th>\n",
       "      <td>218.4</td>\n",
       "      <td>27.7</td>\n",
       "      <td>53.4</td>\n",
       "      <td>18.0</td>\n",
       "    </tr>\n",
       "    <tr>\n",
       "      <th>22</th>\n",
       "      <td>237.4</td>\n",
       "      <td>5.1</td>\n",
       "      <td>23.5</td>\n",
       "      <td>12.5</td>\n",
       "    </tr>\n",
       "    <tr>\n",
       "      <th>23</th>\n",
       "      <td>13.2</td>\n",
       "      <td>15.9</td>\n",
       "      <td>49.6</td>\n",
       "      <td>5.6</td>\n",
       "    </tr>\n",
       "    <tr>\n",
       "      <th>24</th>\n",
       "      <td>228.3</td>\n",
       "      <td>16.9</td>\n",
       "      <td>26.2</td>\n",
       "      <td>15.5</td>\n",
       "    </tr>\n",
       "    <tr>\n",
       "      <th>25</th>\n",
       "      <td>62.3</td>\n",
       "      <td>12.6</td>\n",
       "      <td>18.3</td>\n",
       "      <td>9.7</td>\n",
       "    </tr>\n",
       "    <tr>\n",
       "      <th>26</th>\n",
       "      <td>262.9</td>\n",
       "      <td>3.5</td>\n",
       "      <td>19.5</td>\n",
       "      <td>12.0</td>\n",
       "    </tr>\n",
       "    <tr>\n",
       "      <th>27</th>\n",
       "      <td>142.9</td>\n",
       "      <td>29.3</td>\n",
       "      <td>12.6</td>\n",
       "      <td>15.0</td>\n",
       "    </tr>\n",
       "    <tr>\n",
       "      <th>28</th>\n",
       "      <td>240.1</td>\n",
       "      <td>16.7</td>\n",
       "      <td>22.9</td>\n",
       "      <td>15.9</td>\n",
       "    </tr>\n",
       "    <tr>\n",
       "      <th>29</th>\n",
       "      <td>248.8</td>\n",
       "      <td>27.1</td>\n",
       "      <td>22.9</td>\n",
       "      <td>18.9</td>\n",
       "    </tr>\n",
       "    <tr>\n",
       "      <th>...</th>\n",
       "      <td>...</td>\n",
       "      <td>...</td>\n",
       "      <td>...</td>\n",
       "      <td>...</td>\n",
       "    </tr>\n",
       "    <tr>\n",
       "      <th>174</th>\n",
       "      <td>50.0</td>\n",
       "      <td>11.6</td>\n",
       "      <td>18.4</td>\n",
       "      <td>8.4</td>\n",
       "    </tr>\n",
       "    <tr>\n",
       "      <th>175</th>\n",
       "      <td>164.5</td>\n",
       "      <td>20.9</td>\n",
       "      <td>47.4</td>\n",
       "      <td>14.5</td>\n",
       "    </tr>\n",
       "    <tr>\n",
       "      <th>176</th>\n",
       "      <td>19.6</td>\n",
       "      <td>20.1</td>\n",
       "      <td>17.0</td>\n",
       "      <td>7.6</td>\n",
       "    </tr>\n",
       "    <tr>\n",
       "      <th>177</th>\n",
       "      <td>168.4</td>\n",
       "      <td>7.1</td>\n",
       "      <td>12.8</td>\n",
       "      <td>11.7</td>\n",
       "    </tr>\n",
       "    <tr>\n",
       "      <th>178</th>\n",
       "      <td>222.4</td>\n",
       "      <td>3.4</td>\n",
       "      <td>13.1</td>\n",
       "      <td>11.5</td>\n",
       "    </tr>\n",
       "    <tr>\n",
       "      <th>179</th>\n",
       "      <td>276.9</td>\n",
       "      <td>48.9</td>\n",
       "      <td>41.8</td>\n",
       "      <td>27.0</td>\n",
       "    </tr>\n",
       "    <tr>\n",
       "      <th>180</th>\n",
       "      <td>248.4</td>\n",
       "      <td>30.2</td>\n",
       "      <td>20.3</td>\n",
       "      <td>20.2</td>\n",
       "    </tr>\n",
       "    <tr>\n",
       "      <th>181</th>\n",
       "      <td>170.2</td>\n",
       "      <td>7.8</td>\n",
       "      <td>35.2</td>\n",
       "      <td>11.7</td>\n",
       "    </tr>\n",
       "    <tr>\n",
       "      <th>182</th>\n",
       "      <td>276.7</td>\n",
       "      <td>2.3</td>\n",
       "      <td>23.7</td>\n",
       "      <td>11.8</td>\n",
       "    </tr>\n",
       "    <tr>\n",
       "      <th>183</th>\n",
       "      <td>165.6</td>\n",
       "      <td>10.0</td>\n",
       "      <td>17.6</td>\n",
       "      <td>12.6</td>\n",
       "    </tr>\n",
       "    <tr>\n",
       "      <th>184</th>\n",
       "      <td>156.6</td>\n",
       "      <td>2.6</td>\n",
       "      <td>8.3</td>\n",
       "      <td>10.5</td>\n",
       "    </tr>\n",
       "    <tr>\n",
       "      <th>185</th>\n",
       "      <td>218.5</td>\n",
       "      <td>5.4</td>\n",
       "      <td>27.4</td>\n",
       "      <td>12.2</td>\n",
       "    </tr>\n",
       "    <tr>\n",
       "      <th>186</th>\n",
       "      <td>56.2</td>\n",
       "      <td>5.7</td>\n",
       "      <td>29.7</td>\n",
       "      <td>8.7</td>\n",
       "    </tr>\n",
       "    <tr>\n",
       "      <th>187</th>\n",
       "      <td>287.6</td>\n",
       "      <td>43.0</td>\n",
       "      <td>71.8</td>\n",
       "      <td>26.2</td>\n",
       "    </tr>\n",
       "    <tr>\n",
       "      <th>188</th>\n",
       "      <td>253.8</td>\n",
       "      <td>21.3</td>\n",
       "      <td>30.0</td>\n",
       "      <td>17.6</td>\n",
       "    </tr>\n",
       "    <tr>\n",
       "      <th>189</th>\n",
       "      <td>205.0</td>\n",
       "      <td>45.1</td>\n",
       "      <td>19.6</td>\n",
       "      <td>22.6</td>\n",
       "    </tr>\n",
       "    <tr>\n",
       "      <th>190</th>\n",
       "      <td>139.5</td>\n",
       "      <td>2.1</td>\n",
       "      <td>26.6</td>\n",
       "      <td>10.3</td>\n",
       "    </tr>\n",
       "    <tr>\n",
       "      <th>191</th>\n",
       "      <td>191.1</td>\n",
       "      <td>28.7</td>\n",
       "      <td>18.2</td>\n",
       "      <td>17.3</td>\n",
       "    </tr>\n",
       "    <tr>\n",
       "      <th>192</th>\n",
       "      <td>286.0</td>\n",
       "      <td>13.9</td>\n",
       "      <td>3.7</td>\n",
       "      <td>15.9</td>\n",
       "    </tr>\n",
       "    <tr>\n",
       "      <th>193</th>\n",
       "      <td>18.7</td>\n",
       "      <td>12.1</td>\n",
       "      <td>23.4</td>\n",
       "      <td>6.7</td>\n",
       "    </tr>\n",
       "    <tr>\n",
       "      <th>194</th>\n",
       "      <td>39.5</td>\n",
       "      <td>41.1</td>\n",
       "      <td>5.8</td>\n",
       "      <td>10.8</td>\n",
       "    </tr>\n",
       "    <tr>\n",
       "      <th>195</th>\n",
       "      <td>75.5</td>\n",
       "      <td>10.8</td>\n",
       "      <td>6.0</td>\n",
       "      <td>9.9</td>\n",
       "    </tr>\n",
       "    <tr>\n",
       "      <th>196</th>\n",
       "      <td>17.2</td>\n",
       "      <td>4.1</td>\n",
       "      <td>31.6</td>\n",
       "      <td>5.9</td>\n",
       "    </tr>\n",
       "    <tr>\n",
       "      <th>197</th>\n",
       "      <td>166.8</td>\n",
       "      <td>42.0</td>\n",
       "      <td>3.6</td>\n",
       "      <td>19.6</td>\n",
       "    </tr>\n",
       "    <tr>\n",
       "      <th>198</th>\n",
       "      <td>149.7</td>\n",
       "      <td>35.6</td>\n",
       "      <td>6.0</td>\n",
       "      <td>17.3</td>\n",
       "    </tr>\n",
       "    <tr>\n",
       "      <th>199</th>\n",
       "      <td>38.2</td>\n",
       "      <td>3.7</td>\n",
       "      <td>13.8</td>\n",
       "      <td>7.6</td>\n",
       "    </tr>\n",
       "    <tr>\n",
       "      <th>200</th>\n",
       "      <td>94.2</td>\n",
       "      <td>4.9</td>\n",
       "      <td>8.1</td>\n",
       "      <td>9.7</td>\n",
       "    </tr>\n",
       "    <tr>\n",
       "      <th>201</th>\n",
       "      <td>177.0</td>\n",
       "      <td>9.3</td>\n",
       "      <td>6.4</td>\n",
       "      <td>12.8</td>\n",
       "    </tr>\n",
       "    <tr>\n",
       "      <th>202</th>\n",
       "      <td>283.6</td>\n",
       "      <td>42.0</td>\n",
       "      <td>66.2</td>\n",
       "      <td>25.5</td>\n",
       "    </tr>\n",
       "    <tr>\n",
       "      <th>203</th>\n",
       "      <td>232.1</td>\n",
       "      <td>8.6</td>\n",
       "      <td>8.7</td>\n",
       "      <td>13.4</td>\n",
       "    </tr>\n",
       "  </tbody>\n",
       "</table>\n",
       "<p>202 rows × 4 columns</p>\n",
       "</div>"
      ],
      "text/plain": [
       "        TV  radio  newspaper  sales\n",
       "0    219.0    NaN       34.5   48.9\n",
       "1    230.1   37.8       69.2   22.1\n",
       "2     44.5   39.3       45.1   10.4\n",
       "3     17.2   45.9       69.3    9.3\n",
       "4    151.5   41.3       58.5   18.5\n",
       "5    180.8   10.8       58.4   12.9\n",
       "6      8.7   48.9       75.0    7.2\n",
       "7     57.5   32.8       23.5   11.8\n",
       "8    120.2   19.6       11.6   13.2\n",
       "9      8.6    2.1        1.0    4.8\n",
       "10   199.8    2.6       21.2   10.6\n",
       "11    66.1    5.8       24.2    8.6\n",
       "12   214.7   24.0        4.0   17.4\n",
       "13    23.8   35.1       65.9    9.2\n",
       "14    97.5    7.6        7.2    9.7\n",
       "15   204.1   32.9       46.0   19.0\n",
       "16   195.4   47.7       52.9   22.4\n",
       "17    67.8   36.6      114.0   12.5\n",
       "18   281.4   39.6       55.8   24.4\n",
       "19    69.2   20.5       18.3   11.3\n",
       "20   147.3   23.9       19.1   14.6\n",
       "21   218.4   27.7       53.4   18.0\n",
       "22   237.4    5.1       23.5   12.5\n",
       "23    13.2   15.9       49.6    5.6\n",
       "24   228.3   16.9       26.2   15.5\n",
       "25    62.3   12.6       18.3    9.7\n",
       "26   262.9    3.5       19.5   12.0\n",
       "27   142.9   29.3       12.6   15.0\n",
       "28   240.1   16.7       22.9   15.9\n",
       "29   248.8   27.1       22.9   18.9\n",
       "..     ...    ...        ...    ...\n",
       "174   50.0   11.6       18.4    8.4\n",
       "175  164.5   20.9       47.4   14.5\n",
       "176   19.6   20.1       17.0    7.6\n",
       "177  168.4    7.1       12.8   11.7\n",
       "178  222.4    3.4       13.1   11.5\n",
       "179  276.9   48.9       41.8   27.0\n",
       "180  248.4   30.2       20.3   20.2\n",
       "181  170.2    7.8       35.2   11.7\n",
       "182  276.7    2.3       23.7   11.8\n",
       "183  165.6   10.0       17.6   12.6\n",
       "184  156.6    2.6        8.3   10.5\n",
       "185  218.5    5.4       27.4   12.2\n",
       "186   56.2    5.7       29.7    8.7\n",
       "187  287.6   43.0       71.8   26.2\n",
       "188  253.8   21.3       30.0   17.6\n",
       "189  205.0   45.1       19.6   22.6\n",
       "190  139.5    2.1       26.6   10.3\n",
       "191  191.1   28.7       18.2   17.3\n",
       "192  286.0   13.9        3.7   15.9\n",
       "193   18.7   12.1       23.4    6.7\n",
       "194   39.5   41.1        5.8   10.8\n",
       "195   75.5   10.8        6.0    9.9\n",
       "196   17.2    4.1       31.6    5.9\n",
       "197  166.8   42.0        3.6   19.6\n",
       "198  149.7   35.6        6.0   17.3\n",
       "199   38.2    3.7       13.8    7.6\n",
       "200   94.2    4.9        8.1    9.7\n",
       "201  177.0    9.3        6.4   12.8\n",
       "202  283.6   42.0       66.2   25.5\n",
       "203  232.1    8.6        8.7   13.4\n",
       "\n",
       "[202 rows x 4 columns]"
      ]
     },
     "execution_count": 15,
     "metadata": {},
     "output_type": "execute_result"
    }
   ],
   "source": [
    "df_marketing1"
   ]
  },
  {
   "cell_type": "code",
   "execution_count": 16,
   "metadata": {},
   "outputs": [
    {
     "data": {
      "text/html": [
       "<div>\n",
       "<style scoped>\n",
       "    .dataframe tbody tr th:only-of-type {\n",
       "        vertical-align: middle;\n",
       "    }\n",
       "\n",
       "    .dataframe tbody tr th {\n",
       "        vertical-align: top;\n",
       "    }\n",
       "\n",
       "    .dataframe thead th {\n",
       "        text-align: right;\n",
       "    }\n",
       "</style>\n",
       "<table border=\"1\" class=\"dataframe\">\n",
       "  <thead>\n",
       "    <tr style=\"text-align: right;\">\n",
       "      <th></th>\n",
       "      <th>TV</th>\n",
       "      <th>radio</th>\n",
       "      <th>newspaper</th>\n",
       "      <th>sales</th>\n",
       "    </tr>\n",
       "  </thead>\n",
       "  <tbody>\n",
       "    <tr>\n",
       "      <th>98</th>\n",
       "      <td>210.0</td>\n",
       "      <td>20.0</td>\n",
       "      <td>19.0</td>\n",
       "      <td>6.8</td>\n",
       "    </tr>\n",
       "    <tr>\n",
       "      <th>123</th>\n",
       "      <td>19.4</td>\n",
       "      <td>16.0</td>\n",
       "      <td>22.3</td>\n",
       "      <td>6.6</td>\n",
       "    </tr>\n",
       "  </tbody>\n",
       "</table>\n",
       "</div>"
      ],
      "text/plain": [
       "        TV  radio  newspaper  sales\n",
       "98   210.0   20.0       19.0    6.8\n",
       "123   19.4   16.0       22.3    6.6"
      ]
     },
     "execution_count": 16,
     "metadata": {},
     "output_type": "execute_result"
    }
   ],
   "source": [
    "df_marketing1.iloc[[97,121]]"
   ]
  },
  {
   "cell_type": "code",
   "execution_count": 17,
   "metadata": {},
   "outputs": [
    {
     "data": {
      "text/html": [
       "<div>\n",
       "<style scoped>\n",
       "    .dataframe tbody tr th:only-of-type {\n",
       "        vertical-align: middle;\n",
       "    }\n",
       "\n",
       "    .dataframe tbody tr th {\n",
       "        vertical-align: top;\n",
       "    }\n",
       "\n",
       "    .dataframe thead th {\n",
       "        text-align: right;\n",
       "    }\n",
       "</style>\n",
       "<table border=\"1\" class=\"dataframe\">\n",
       "  <thead>\n",
       "    <tr style=\"text-align: right;\">\n",
       "      <th></th>\n",
       "      <th>TV</th>\n",
       "      <th>radio</th>\n",
       "      <th>newspaper</th>\n",
       "      <th>sales</th>\n",
       "    </tr>\n",
       "  </thead>\n",
       "  <tbody>\n",
       "  </tbody>\n",
       "</table>\n",
       "</div>"
      ],
      "text/plain": [
       "Empty DataFrame\n",
       "Columns: [TV, radio, newspaper, sales]\n",
       "Index: []"
      ]
     },
     "execution_count": 17,
     "metadata": {},
     "output_type": "execute_result"
    }
   ],
   "source": [
    "df_marketing1[df_marketing1['TV'] == 0]"
   ]
  },
  {
   "cell_type": "code",
   "execution_count": 18,
   "metadata": {},
   "outputs": [
    {
     "data": {
      "text/html": [
       "<div>\n",
       "<style scoped>\n",
       "    .dataframe tbody tr th:only-of-type {\n",
       "        vertical-align: middle;\n",
       "    }\n",
       "\n",
       "    .dataframe tbody tr th {\n",
       "        vertical-align: top;\n",
       "    }\n",
       "\n",
       "    .dataframe thead th {\n",
       "        text-align: right;\n",
       "    }\n",
       "</style>\n",
       "<table border=\"1\" class=\"dataframe\">\n",
       "  <thead>\n",
       "    <tr style=\"text-align: right;\">\n",
       "      <th></th>\n",
       "      <th>TV</th>\n",
       "      <th>radio</th>\n",
       "      <th>newspaper</th>\n",
       "      <th>sales</th>\n",
       "    </tr>\n",
       "  </thead>\n",
       "  <tbody>\n",
       "  </tbody>\n",
       "</table>\n",
       "</div>"
      ],
      "text/plain": [
       "Empty DataFrame\n",
       "Columns: [TV, radio, newspaper, sales]\n",
       "Index: []"
      ]
     },
     "execution_count": 18,
     "metadata": {},
     "output_type": "execute_result"
    }
   ],
   "source": [
    "df_marketing1[df_marketing1['newspaper']==0]"
   ]
  },
  {
   "cell_type": "code",
   "execution_count": 19,
   "metadata": {},
   "outputs": [
    {
     "data": {
      "text/html": [
       "<div>\n",
       "<style scoped>\n",
       "    .dataframe tbody tr th:only-of-type {\n",
       "        vertical-align: middle;\n",
       "    }\n",
       "\n",
       "    .dataframe tbody tr th {\n",
       "        vertical-align: top;\n",
       "    }\n",
       "\n",
       "    .dataframe thead th {\n",
       "        text-align: right;\n",
       "    }\n",
       "</style>\n",
       "<table border=\"1\" class=\"dataframe\">\n",
       "  <thead>\n",
       "    <tr style=\"text-align: right;\">\n",
       "      <th></th>\n",
       "      <th>TV</th>\n",
       "      <th>radio</th>\n",
       "      <th>newspaper</th>\n",
       "      <th>sales</th>\n",
       "    </tr>\n",
       "  </thead>\n",
       "  <tbody>\n",
       "    <tr>\n",
       "      <th>131</th>\n",
       "      <td>80.2</td>\n",
       "      <td>0.0</td>\n",
       "      <td>9.2</td>\n",
       "      <td>8.8</td>\n",
       "    </tr>\n",
       "  </tbody>\n",
       "</table>\n",
       "</div>"
      ],
      "text/plain": [
       "       TV  radio  newspaper  sales\n",
       "131  80.2    0.0        9.2    8.8"
      ]
     },
     "execution_count": 19,
     "metadata": {},
     "output_type": "execute_result"
    }
   ],
   "source": [
    "df_marketing1[df_marketing1['radio']==0]"
   ]
  },
  {
   "cell_type": "code",
   "execution_count": 20,
   "metadata": {},
   "outputs": [],
   "source": [
    "df_marketing2=df_marketing1['radio'].iloc[[131]].mean()"
   ]
  },
  {
   "cell_type": "code",
   "execution_count": 21,
   "metadata": {},
   "outputs": [
    {
     "data": {
      "text/plain": [
       "12.0"
      ]
     },
     "execution_count": 21,
     "metadata": {},
     "output_type": "execute_result"
    }
   ],
   "source": [
    "df_marketing2"
   ]
  },
  {
   "cell_type": "code",
   "execution_count": 22,
   "metadata": {},
   "outputs": [
    {
     "data": {
      "text/html": [
       "<div>\n",
       "<style scoped>\n",
       "    .dataframe tbody tr th:only-of-type {\n",
       "        vertical-align: middle;\n",
       "    }\n",
       "\n",
       "    .dataframe tbody tr th {\n",
       "        vertical-align: top;\n",
       "    }\n",
       "\n",
       "    .dataframe thead th {\n",
       "        text-align: right;\n",
       "    }\n",
       "</style>\n",
       "<table border=\"1\" class=\"dataframe\">\n",
       "  <thead>\n",
       "    <tr style=\"text-align: right;\">\n",
       "      <th></th>\n",
       "      <th>TV</th>\n",
       "      <th>radio</th>\n",
       "      <th>newspaper</th>\n",
       "      <th>sales</th>\n",
       "    </tr>\n",
       "  </thead>\n",
       "  <tbody>\n",
       "    <tr>\n",
       "      <th>133</th>\n",
       "      <td>59.6</td>\n",
       "      <td>12.0</td>\n",
       "      <td>43.1</td>\n",
       "      <td>9.7</td>\n",
       "    </tr>\n",
       "  </tbody>\n",
       "</table>\n",
       "</div>"
      ],
      "text/plain": [
       "       TV  radio  newspaper  sales\n",
       "133  59.6   12.0       43.1    9.7"
      ]
     },
     "execution_count": 22,
     "metadata": {},
     "output_type": "execute_result"
    }
   ],
   "source": [
    "df_marketing1.iloc[[131]]"
   ]
  },
  {
   "cell_type": "code",
   "execution_count": 23,
   "metadata": {},
   "outputs": [
    {
     "data": {
      "text/html": [
       "<div>\n",
       "<style scoped>\n",
       "    .dataframe tbody tr th:only-of-type {\n",
       "        vertical-align: middle;\n",
       "    }\n",
       "\n",
       "    .dataframe tbody tr th {\n",
       "        vertical-align: top;\n",
       "    }\n",
       "\n",
       "    .dataframe thead th {\n",
       "        text-align: right;\n",
       "    }\n",
       "</style>\n",
       "<table border=\"1\" class=\"dataframe\">\n",
       "  <thead>\n",
       "    <tr style=\"text-align: right;\">\n",
       "      <th></th>\n",
       "      <th>TV</th>\n",
       "      <th>radio</th>\n",
       "      <th>newspaper</th>\n",
       "      <th>sales</th>\n",
       "    </tr>\n",
       "  </thead>\n",
       "  <tbody>\n",
       "    <tr>\n",
       "      <th>0</th>\n",
       "      <td>219.0</td>\n",
       "      <td>NaN</td>\n",
       "      <td>34.5</td>\n",
       "      <td>48.9</td>\n",
       "    </tr>\n",
       "    <tr>\n",
       "      <th>1</th>\n",
       "      <td>230.1</td>\n",
       "      <td>37.8</td>\n",
       "      <td>69.2</td>\n",
       "      <td>22.1</td>\n",
       "    </tr>\n",
       "    <tr>\n",
       "      <th>2</th>\n",
       "      <td>44.5</td>\n",
       "      <td>39.3</td>\n",
       "      <td>45.1</td>\n",
       "      <td>10.4</td>\n",
       "    </tr>\n",
       "    <tr>\n",
       "      <th>3</th>\n",
       "      <td>17.2</td>\n",
       "      <td>45.9</td>\n",
       "      <td>69.3</td>\n",
       "      <td>9.3</td>\n",
       "    </tr>\n",
       "    <tr>\n",
       "      <th>4</th>\n",
       "      <td>151.5</td>\n",
       "      <td>41.3</td>\n",
       "      <td>58.5</td>\n",
       "      <td>18.5</td>\n",
       "    </tr>\n",
       "    <tr>\n",
       "      <th>5</th>\n",
       "      <td>180.8</td>\n",
       "      <td>10.8</td>\n",
       "      <td>58.4</td>\n",
       "      <td>12.9</td>\n",
       "    </tr>\n",
       "    <tr>\n",
       "      <th>6</th>\n",
       "      <td>8.7</td>\n",
       "      <td>48.9</td>\n",
       "      <td>75.0</td>\n",
       "      <td>7.2</td>\n",
       "    </tr>\n",
       "    <tr>\n",
       "      <th>7</th>\n",
       "      <td>57.5</td>\n",
       "      <td>32.8</td>\n",
       "      <td>23.5</td>\n",
       "      <td>11.8</td>\n",
       "    </tr>\n",
       "    <tr>\n",
       "      <th>8</th>\n",
       "      <td>120.2</td>\n",
       "      <td>19.6</td>\n",
       "      <td>11.6</td>\n",
       "      <td>13.2</td>\n",
       "    </tr>\n",
       "    <tr>\n",
       "      <th>9</th>\n",
       "      <td>8.6</td>\n",
       "      <td>2.1</td>\n",
       "      <td>1.0</td>\n",
       "      <td>4.8</td>\n",
       "    </tr>\n",
       "    <tr>\n",
       "      <th>10</th>\n",
       "      <td>199.8</td>\n",
       "      <td>2.6</td>\n",
       "      <td>21.2</td>\n",
       "      <td>10.6</td>\n",
       "    </tr>\n",
       "    <tr>\n",
       "      <th>11</th>\n",
       "      <td>66.1</td>\n",
       "      <td>5.8</td>\n",
       "      <td>24.2</td>\n",
       "      <td>8.6</td>\n",
       "    </tr>\n",
       "    <tr>\n",
       "      <th>12</th>\n",
       "      <td>214.7</td>\n",
       "      <td>24.0</td>\n",
       "      <td>4.0</td>\n",
       "      <td>17.4</td>\n",
       "    </tr>\n",
       "    <tr>\n",
       "      <th>13</th>\n",
       "      <td>23.8</td>\n",
       "      <td>35.1</td>\n",
       "      <td>65.9</td>\n",
       "      <td>9.2</td>\n",
       "    </tr>\n",
       "    <tr>\n",
       "      <th>14</th>\n",
       "      <td>97.5</td>\n",
       "      <td>7.6</td>\n",
       "      <td>7.2</td>\n",
       "      <td>9.7</td>\n",
       "    </tr>\n",
       "    <tr>\n",
       "      <th>15</th>\n",
       "      <td>204.1</td>\n",
       "      <td>32.9</td>\n",
       "      <td>46.0</td>\n",
       "      <td>19.0</td>\n",
       "    </tr>\n",
       "    <tr>\n",
       "      <th>16</th>\n",
       "      <td>195.4</td>\n",
       "      <td>47.7</td>\n",
       "      <td>52.9</td>\n",
       "      <td>22.4</td>\n",
       "    </tr>\n",
       "    <tr>\n",
       "      <th>17</th>\n",
       "      <td>67.8</td>\n",
       "      <td>36.6</td>\n",
       "      <td>114.0</td>\n",
       "      <td>12.5</td>\n",
       "    </tr>\n",
       "    <tr>\n",
       "      <th>18</th>\n",
       "      <td>281.4</td>\n",
       "      <td>39.6</td>\n",
       "      <td>55.8</td>\n",
       "      <td>24.4</td>\n",
       "    </tr>\n",
       "    <tr>\n",
       "      <th>19</th>\n",
       "      <td>69.2</td>\n",
       "      <td>20.5</td>\n",
       "      <td>18.3</td>\n",
       "      <td>11.3</td>\n",
       "    </tr>\n",
       "    <tr>\n",
       "      <th>20</th>\n",
       "      <td>147.3</td>\n",
       "      <td>23.9</td>\n",
       "      <td>19.1</td>\n",
       "      <td>14.6</td>\n",
       "    </tr>\n",
       "    <tr>\n",
       "      <th>21</th>\n",
       "      <td>218.4</td>\n",
       "      <td>27.7</td>\n",
       "      <td>53.4</td>\n",
       "      <td>18.0</td>\n",
       "    </tr>\n",
       "    <tr>\n",
       "      <th>22</th>\n",
       "      <td>237.4</td>\n",
       "      <td>5.1</td>\n",
       "      <td>23.5</td>\n",
       "      <td>12.5</td>\n",
       "    </tr>\n",
       "    <tr>\n",
       "      <th>23</th>\n",
       "      <td>13.2</td>\n",
       "      <td>15.9</td>\n",
       "      <td>49.6</td>\n",
       "      <td>5.6</td>\n",
       "    </tr>\n",
       "    <tr>\n",
       "      <th>24</th>\n",
       "      <td>228.3</td>\n",
       "      <td>16.9</td>\n",
       "      <td>26.2</td>\n",
       "      <td>15.5</td>\n",
       "    </tr>\n",
       "    <tr>\n",
       "      <th>25</th>\n",
       "      <td>62.3</td>\n",
       "      <td>12.6</td>\n",
       "      <td>18.3</td>\n",
       "      <td>9.7</td>\n",
       "    </tr>\n",
       "    <tr>\n",
       "      <th>26</th>\n",
       "      <td>262.9</td>\n",
       "      <td>3.5</td>\n",
       "      <td>19.5</td>\n",
       "      <td>12.0</td>\n",
       "    </tr>\n",
       "    <tr>\n",
       "      <th>27</th>\n",
       "      <td>142.9</td>\n",
       "      <td>29.3</td>\n",
       "      <td>12.6</td>\n",
       "      <td>15.0</td>\n",
       "    </tr>\n",
       "    <tr>\n",
       "      <th>28</th>\n",
       "      <td>240.1</td>\n",
       "      <td>16.7</td>\n",
       "      <td>22.9</td>\n",
       "      <td>15.9</td>\n",
       "    </tr>\n",
       "    <tr>\n",
       "      <th>29</th>\n",
       "      <td>248.8</td>\n",
       "      <td>27.1</td>\n",
       "      <td>22.9</td>\n",
       "      <td>18.9</td>\n",
       "    </tr>\n",
       "    <tr>\n",
       "      <th>...</th>\n",
       "      <td>...</td>\n",
       "      <td>...</td>\n",
       "      <td>...</td>\n",
       "      <td>...</td>\n",
       "    </tr>\n",
       "    <tr>\n",
       "      <th>174</th>\n",
       "      <td>50.0</td>\n",
       "      <td>11.6</td>\n",
       "      <td>18.4</td>\n",
       "      <td>8.4</td>\n",
       "    </tr>\n",
       "    <tr>\n",
       "      <th>175</th>\n",
       "      <td>164.5</td>\n",
       "      <td>20.9</td>\n",
       "      <td>47.4</td>\n",
       "      <td>14.5</td>\n",
       "    </tr>\n",
       "    <tr>\n",
       "      <th>176</th>\n",
       "      <td>19.6</td>\n",
       "      <td>20.1</td>\n",
       "      <td>17.0</td>\n",
       "      <td>7.6</td>\n",
       "    </tr>\n",
       "    <tr>\n",
       "      <th>177</th>\n",
       "      <td>168.4</td>\n",
       "      <td>7.1</td>\n",
       "      <td>12.8</td>\n",
       "      <td>11.7</td>\n",
       "    </tr>\n",
       "    <tr>\n",
       "      <th>178</th>\n",
       "      <td>222.4</td>\n",
       "      <td>3.4</td>\n",
       "      <td>13.1</td>\n",
       "      <td>11.5</td>\n",
       "    </tr>\n",
       "    <tr>\n",
       "      <th>179</th>\n",
       "      <td>276.9</td>\n",
       "      <td>48.9</td>\n",
       "      <td>41.8</td>\n",
       "      <td>27.0</td>\n",
       "    </tr>\n",
       "    <tr>\n",
       "      <th>180</th>\n",
       "      <td>248.4</td>\n",
       "      <td>30.2</td>\n",
       "      <td>20.3</td>\n",
       "      <td>20.2</td>\n",
       "    </tr>\n",
       "    <tr>\n",
       "      <th>181</th>\n",
       "      <td>170.2</td>\n",
       "      <td>7.8</td>\n",
       "      <td>35.2</td>\n",
       "      <td>11.7</td>\n",
       "    </tr>\n",
       "    <tr>\n",
       "      <th>182</th>\n",
       "      <td>276.7</td>\n",
       "      <td>2.3</td>\n",
       "      <td>23.7</td>\n",
       "      <td>11.8</td>\n",
       "    </tr>\n",
       "    <tr>\n",
       "      <th>183</th>\n",
       "      <td>165.6</td>\n",
       "      <td>10.0</td>\n",
       "      <td>17.6</td>\n",
       "      <td>12.6</td>\n",
       "    </tr>\n",
       "    <tr>\n",
       "      <th>184</th>\n",
       "      <td>156.6</td>\n",
       "      <td>2.6</td>\n",
       "      <td>8.3</td>\n",
       "      <td>10.5</td>\n",
       "    </tr>\n",
       "    <tr>\n",
       "      <th>185</th>\n",
       "      <td>218.5</td>\n",
       "      <td>5.4</td>\n",
       "      <td>27.4</td>\n",
       "      <td>12.2</td>\n",
       "    </tr>\n",
       "    <tr>\n",
       "      <th>186</th>\n",
       "      <td>56.2</td>\n",
       "      <td>5.7</td>\n",
       "      <td>29.7</td>\n",
       "      <td>8.7</td>\n",
       "    </tr>\n",
       "    <tr>\n",
       "      <th>187</th>\n",
       "      <td>287.6</td>\n",
       "      <td>43.0</td>\n",
       "      <td>71.8</td>\n",
       "      <td>26.2</td>\n",
       "    </tr>\n",
       "    <tr>\n",
       "      <th>188</th>\n",
       "      <td>253.8</td>\n",
       "      <td>21.3</td>\n",
       "      <td>30.0</td>\n",
       "      <td>17.6</td>\n",
       "    </tr>\n",
       "    <tr>\n",
       "      <th>189</th>\n",
       "      <td>205.0</td>\n",
       "      <td>45.1</td>\n",
       "      <td>19.6</td>\n",
       "      <td>22.6</td>\n",
       "    </tr>\n",
       "    <tr>\n",
       "      <th>190</th>\n",
       "      <td>139.5</td>\n",
       "      <td>2.1</td>\n",
       "      <td>26.6</td>\n",
       "      <td>10.3</td>\n",
       "    </tr>\n",
       "    <tr>\n",
       "      <th>191</th>\n",
       "      <td>191.1</td>\n",
       "      <td>28.7</td>\n",
       "      <td>18.2</td>\n",
       "      <td>17.3</td>\n",
       "    </tr>\n",
       "    <tr>\n",
       "      <th>192</th>\n",
       "      <td>286.0</td>\n",
       "      <td>13.9</td>\n",
       "      <td>3.7</td>\n",
       "      <td>15.9</td>\n",
       "    </tr>\n",
       "    <tr>\n",
       "      <th>193</th>\n",
       "      <td>18.7</td>\n",
       "      <td>12.1</td>\n",
       "      <td>23.4</td>\n",
       "      <td>6.7</td>\n",
       "    </tr>\n",
       "    <tr>\n",
       "      <th>194</th>\n",
       "      <td>39.5</td>\n",
       "      <td>41.1</td>\n",
       "      <td>5.8</td>\n",
       "      <td>10.8</td>\n",
       "    </tr>\n",
       "    <tr>\n",
       "      <th>195</th>\n",
       "      <td>75.5</td>\n",
       "      <td>10.8</td>\n",
       "      <td>6.0</td>\n",
       "      <td>9.9</td>\n",
       "    </tr>\n",
       "    <tr>\n",
       "      <th>196</th>\n",
       "      <td>17.2</td>\n",
       "      <td>4.1</td>\n",
       "      <td>31.6</td>\n",
       "      <td>5.9</td>\n",
       "    </tr>\n",
       "    <tr>\n",
       "      <th>197</th>\n",
       "      <td>166.8</td>\n",
       "      <td>42.0</td>\n",
       "      <td>3.6</td>\n",
       "      <td>19.6</td>\n",
       "    </tr>\n",
       "    <tr>\n",
       "      <th>198</th>\n",
       "      <td>149.7</td>\n",
       "      <td>35.6</td>\n",
       "      <td>6.0</td>\n",
       "      <td>17.3</td>\n",
       "    </tr>\n",
       "    <tr>\n",
       "      <th>199</th>\n",
       "      <td>38.2</td>\n",
       "      <td>3.7</td>\n",
       "      <td>13.8</td>\n",
       "      <td>7.6</td>\n",
       "    </tr>\n",
       "    <tr>\n",
       "      <th>200</th>\n",
       "      <td>94.2</td>\n",
       "      <td>4.9</td>\n",
       "      <td>8.1</td>\n",
       "      <td>9.7</td>\n",
       "    </tr>\n",
       "    <tr>\n",
       "      <th>201</th>\n",
       "      <td>177.0</td>\n",
       "      <td>9.3</td>\n",
       "      <td>6.4</td>\n",
       "      <td>12.8</td>\n",
       "    </tr>\n",
       "    <tr>\n",
       "      <th>202</th>\n",
       "      <td>283.6</td>\n",
       "      <td>42.0</td>\n",
       "      <td>66.2</td>\n",
       "      <td>25.5</td>\n",
       "    </tr>\n",
       "    <tr>\n",
       "      <th>203</th>\n",
       "      <td>232.1</td>\n",
       "      <td>8.6</td>\n",
       "      <td>8.7</td>\n",
       "      <td>13.4</td>\n",
       "    </tr>\n",
       "  </tbody>\n",
       "</table>\n",
       "<p>202 rows × 4 columns</p>\n",
       "</div>"
      ],
      "text/plain": [
       "        TV  radio  newspaper  sales\n",
       "0    219.0    NaN       34.5   48.9\n",
       "1    230.1   37.8       69.2   22.1\n",
       "2     44.5   39.3       45.1   10.4\n",
       "3     17.2   45.9       69.3    9.3\n",
       "4    151.5   41.3       58.5   18.5\n",
       "5    180.8   10.8       58.4   12.9\n",
       "6      8.7   48.9       75.0    7.2\n",
       "7     57.5   32.8       23.5   11.8\n",
       "8    120.2   19.6       11.6   13.2\n",
       "9      8.6    2.1        1.0    4.8\n",
       "10   199.8    2.6       21.2   10.6\n",
       "11    66.1    5.8       24.2    8.6\n",
       "12   214.7   24.0        4.0   17.4\n",
       "13    23.8   35.1       65.9    9.2\n",
       "14    97.5    7.6        7.2    9.7\n",
       "15   204.1   32.9       46.0   19.0\n",
       "16   195.4   47.7       52.9   22.4\n",
       "17    67.8   36.6      114.0   12.5\n",
       "18   281.4   39.6       55.8   24.4\n",
       "19    69.2   20.5       18.3   11.3\n",
       "20   147.3   23.9       19.1   14.6\n",
       "21   218.4   27.7       53.4   18.0\n",
       "22   237.4    5.1       23.5   12.5\n",
       "23    13.2   15.9       49.6    5.6\n",
       "24   228.3   16.9       26.2   15.5\n",
       "25    62.3   12.6       18.3    9.7\n",
       "26   262.9    3.5       19.5   12.0\n",
       "27   142.9   29.3       12.6   15.0\n",
       "28   240.1   16.7       22.9   15.9\n",
       "29   248.8   27.1       22.9   18.9\n",
       "..     ...    ...        ...    ...\n",
       "174   50.0   11.6       18.4    8.4\n",
       "175  164.5   20.9       47.4   14.5\n",
       "176   19.6   20.1       17.0    7.6\n",
       "177  168.4    7.1       12.8   11.7\n",
       "178  222.4    3.4       13.1   11.5\n",
       "179  276.9   48.9       41.8   27.0\n",
       "180  248.4   30.2       20.3   20.2\n",
       "181  170.2    7.8       35.2   11.7\n",
       "182  276.7    2.3       23.7   11.8\n",
       "183  165.6   10.0       17.6   12.6\n",
       "184  156.6    2.6        8.3   10.5\n",
       "185  218.5    5.4       27.4   12.2\n",
       "186   56.2    5.7       29.7    8.7\n",
       "187  287.6   43.0       71.8   26.2\n",
       "188  253.8   21.3       30.0   17.6\n",
       "189  205.0   45.1       19.6   22.6\n",
       "190  139.5    2.1       26.6   10.3\n",
       "191  191.1   28.7       18.2   17.3\n",
       "192  286.0   13.9        3.7   15.9\n",
       "193   18.7   12.1       23.4    6.7\n",
       "194   39.5   41.1        5.8   10.8\n",
       "195   75.5   10.8        6.0    9.9\n",
       "196   17.2    4.1       31.6    5.9\n",
       "197  166.8   42.0        3.6   19.6\n",
       "198  149.7   35.6        6.0   17.3\n",
       "199   38.2    3.7       13.8    7.6\n",
       "200   94.2    4.9        8.1    9.7\n",
       "201  177.0    9.3        6.4   12.8\n",
       "202  283.6   42.0       66.2   25.5\n",
       "203  232.1    8.6        8.7   13.4\n",
       "\n",
       "[202 rows x 4 columns]"
      ]
     },
     "execution_count": 23,
     "metadata": {},
     "output_type": "execute_result"
    }
   ],
   "source": [
    "df_marketing1"
   ]
  },
  {
   "cell_type": "code",
   "execution_count": 24,
   "metadata": {},
   "outputs": [],
   "source": [
    "df_marketing2=df_marketing1.fillna(df_marketing1.mean())"
   ]
  },
  {
   "cell_type": "code",
   "execution_count": 25,
   "metadata": {},
   "outputs": [
    {
     "data": {
      "text/html": [
       "<div>\n",
       "<style scoped>\n",
       "    .dataframe tbody tr th:only-of-type {\n",
       "        vertical-align: middle;\n",
       "    }\n",
       "\n",
       "    .dataframe tbody tr th {\n",
       "        vertical-align: top;\n",
       "    }\n",
       "\n",
       "    .dataframe thead th {\n",
       "        text-align: right;\n",
       "    }\n",
       "</style>\n",
       "<table border=\"1\" class=\"dataframe\">\n",
       "  <thead>\n",
       "    <tr style=\"text-align: right;\">\n",
       "      <th></th>\n",
       "      <th>TV</th>\n",
       "      <th>radio</th>\n",
       "      <th>newspaper</th>\n",
       "      <th>sales</th>\n",
       "    </tr>\n",
       "  </thead>\n",
       "  <tbody>\n",
       "    <tr>\n",
       "      <th>0</th>\n",
       "      <td>219.0</td>\n",
       "      <td>23.247761</td>\n",
       "      <td>34.5</td>\n",
       "      <td>48.9</td>\n",
       "    </tr>\n",
       "    <tr>\n",
       "      <th>1</th>\n",
       "      <td>230.1</td>\n",
       "      <td>37.800000</td>\n",
       "      <td>69.2</td>\n",
       "      <td>22.1</td>\n",
       "    </tr>\n",
       "    <tr>\n",
       "      <th>2</th>\n",
       "      <td>44.5</td>\n",
       "      <td>39.300000</td>\n",
       "      <td>45.1</td>\n",
       "      <td>10.4</td>\n",
       "    </tr>\n",
       "    <tr>\n",
       "      <th>3</th>\n",
       "      <td>17.2</td>\n",
       "      <td>45.900000</td>\n",
       "      <td>69.3</td>\n",
       "      <td>9.3</td>\n",
       "    </tr>\n",
       "    <tr>\n",
       "      <th>4</th>\n",
       "      <td>151.5</td>\n",
       "      <td>41.300000</td>\n",
       "      <td>58.5</td>\n",
       "      <td>18.5</td>\n",
       "    </tr>\n",
       "    <tr>\n",
       "      <th>5</th>\n",
       "      <td>180.8</td>\n",
       "      <td>10.800000</td>\n",
       "      <td>58.4</td>\n",
       "      <td>12.9</td>\n",
       "    </tr>\n",
       "    <tr>\n",
       "      <th>6</th>\n",
       "      <td>8.7</td>\n",
       "      <td>48.900000</td>\n",
       "      <td>75.0</td>\n",
       "      <td>7.2</td>\n",
       "    </tr>\n",
       "    <tr>\n",
       "      <th>7</th>\n",
       "      <td>57.5</td>\n",
       "      <td>32.800000</td>\n",
       "      <td>23.5</td>\n",
       "      <td>11.8</td>\n",
       "    </tr>\n",
       "    <tr>\n",
       "      <th>8</th>\n",
       "      <td>120.2</td>\n",
       "      <td>19.600000</td>\n",
       "      <td>11.6</td>\n",
       "      <td>13.2</td>\n",
       "    </tr>\n",
       "    <tr>\n",
       "      <th>9</th>\n",
       "      <td>8.6</td>\n",
       "      <td>2.100000</td>\n",
       "      <td>1.0</td>\n",
       "      <td>4.8</td>\n",
       "    </tr>\n",
       "    <tr>\n",
       "      <th>10</th>\n",
       "      <td>199.8</td>\n",
       "      <td>2.600000</td>\n",
       "      <td>21.2</td>\n",
       "      <td>10.6</td>\n",
       "    </tr>\n",
       "    <tr>\n",
       "      <th>11</th>\n",
       "      <td>66.1</td>\n",
       "      <td>5.800000</td>\n",
       "      <td>24.2</td>\n",
       "      <td>8.6</td>\n",
       "    </tr>\n",
       "    <tr>\n",
       "      <th>12</th>\n",
       "      <td>214.7</td>\n",
       "      <td>24.000000</td>\n",
       "      <td>4.0</td>\n",
       "      <td>17.4</td>\n",
       "    </tr>\n",
       "    <tr>\n",
       "      <th>13</th>\n",
       "      <td>23.8</td>\n",
       "      <td>35.100000</td>\n",
       "      <td>65.9</td>\n",
       "      <td>9.2</td>\n",
       "    </tr>\n",
       "    <tr>\n",
       "      <th>14</th>\n",
       "      <td>97.5</td>\n",
       "      <td>7.600000</td>\n",
       "      <td>7.2</td>\n",
       "      <td>9.7</td>\n",
       "    </tr>\n",
       "    <tr>\n",
       "      <th>15</th>\n",
       "      <td>204.1</td>\n",
       "      <td>32.900000</td>\n",
       "      <td>46.0</td>\n",
       "      <td>19.0</td>\n",
       "    </tr>\n",
       "    <tr>\n",
       "      <th>16</th>\n",
       "      <td>195.4</td>\n",
       "      <td>47.700000</td>\n",
       "      <td>52.9</td>\n",
       "      <td>22.4</td>\n",
       "    </tr>\n",
       "    <tr>\n",
       "      <th>17</th>\n",
       "      <td>67.8</td>\n",
       "      <td>36.600000</td>\n",
       "      <td>114.0</td>\n",
       "      <td>12.5</td>\n",
       "    </tr>\n",
       "    <tr>\n",
       "      <th>18</th>\n",
       "      <td>281.4</td>\n",
       "      <td>39.600000</td>\n",
       "      <td>55.8</td>\n",
       "      <td>24.4</td>\n",
       "    </tr>\n",
       "    <tr>\n",
       "      <th>19</th>\n",
       "      <td>69.2</td>\n",
       "      <td>20.500000</td>\n",
       "      <td>18.3</td>\n",
       "      <td>11.3</td>\n",
       "    </tr>\n",
       "    <tr>\n",
       "      <th>20</th>\n",
       "      <td>147.3</td>\n",
       "      <td>23.900000</td>\n",
       "      <td>19.1</td>\n",
       "      <td>14.6</td>\n",
       "    </tr>\n",
       "    <tr>\n",
       "      <th>21</th>\n",
       "      <td>218.4</td>\n",
       "      <td>27.700000</td>\n",
       "      <td>53.4</td>\n",
       "      <td>18.0</td>\n",
       "    </tr>\n",
       "    <tr>\n",
       "      <th>22</th>\n",
       "      <td>237.4</td>\n",
       "      <td>5.100000</td>\n",
       "      <td>23.5</td>\n",
       "      <td>12.5</td>\n",
       "    </tr>\n",
       "    <tr>\n",
       "      <th>23</th>\n",
       "      <td>13.2</td>\n",
       "      <td>15.900000</td>\n",
       "      <td>49.6</td>\n",
       "      <td>5.6</td>\n",
       "    </tr>\n",
       "    <tr>\n",
       "      <th>24</th>\n",
       "      <td>228.3</td>\n",
       "      <td>16.900000</td>\n",
       "      <td>26.2</td>\n",
       "      <td>15.5</td>\n",
       "    </tr>\n",
       "    <tr>\n",
       "      <th>25</th>\n",
       "      <td>62.3</td>\n",
       "      <td>12.600000</td>\n",
       "      <td>18.3</td>\n",
       "      <td>9.7</td>\n",
       "    </tr>\n",
       "    <tr>\n",
       "      <th>26</th>\n",
       "      <td>262.9</td>\n",
       "      <td>3.500000</td>\n",
       "      <td>19.5</td>\n",
       "      <td>12.0</td>\n",
       "    </tr>\n",
       "    <tr>\n",
       "      <th>27</th>\n",
       "      <td>142.9</td>\n",
       "      <td>29.300000</td>\n",
       "      <td>12.6</td>\n",
       "      <td>15.0</td>\n",
       "    </tr>\n",
       "    <tr>\n",
       "      <th>28</th>\n",
       "      <td>240.1</td>\n",
       "      <td>16.700000</td>\n",
       "      <td>22.9</td>\n",
       "      <td>15.9</td>\n",
       "    </tr>\n",
       "    <tr>\n",
       "      <th>29</th>\n",
       "      <td>248.8</td>\n",
       "      <td>27.100000</td>\n",
       "      <td>22.9</td>\n",
       "      <td>18.9</td>\n",
       "    </tr>\n",
       "    <tr>\n",
       "      <th>...</th>\n",
       "      <td>...</td>\n",
       "      <td>...</td>\n",
       "      <td>...</td>\n",
       "      <td>...</td>\n",
       "    </tr>\n",
       "    <tr>\n",
       "      <th>174</th>\n",
       "      <td>50.0</td>\n",
       "      <td>11.600000</td>\n",
       "      <td>18.4</td>\n",
       "      <td>8.4</td>\n",
       "    </tr>\n",
       "    <tr>\n",
       "      <th>175</th>\n",
       "      <td>164.5</td>\n",
       "      <td>20.900000</td>\n",
       "      <td>47.4</td>\n",
       "      <td>14.5</td>\n",
       "    </tr>\n",
       "    <tr>\n",
       "      <th>176</th>\n",
       "      <td>19.6</td>\n",
       "      <td>20.100000</td>\n",
       "      <td>17.0</td>\n",
       "      <td>7.6</td>\n",
       "    </tr>\n",
       "    <tr>\n",
       "      <th>177</th>\n",
       "      <td>168.4</td>\n",
       "      <td>7.100000</td>\n",
       "      <td>12.8</td>\n",
       "      <td>11.7</td>\n",
       "    </tr>\n",
       "    <tr>\n",
       "      <th>178</th>\n",
       "      <td>222.4</td>\n",
       "      <td>3.400000</td>\n",
       "      <td>13.1</td>\n",
       "      <td>11.5</td>\n",
       "    </tr>\n",
       "    <tr>\n",
       "      <th>179</th>\n",
       "      <td>276.9</td>\n",
       "      <td>48.900000</td>\n",
       "      <td>41.8</td>\n",
       "      <td>27.0</td>\n",
       "    </tr>\n",
       "    <tr>\n",
       "      <th>180</th>\n",
       "      <td>248.4</td>\n",
       "      <td>30.200000</td>\n",
       "      <td>20.3</td>\n",
       "      <td>20.2</td>\n",
       "    </tr>\n",
       "    <tr>\n",
       "      <th>181</th>\n",
       "      <td>170.2</td>\n",
       "      <td>7.800000</td>\n",
       "      <td>35.2</td>\n",
       "      <td>11.7</td>\n",
       "    </tr>\n",
       "    <tr>\n",
       "      <th>182</th>\n",
       "      <td>276.7</td>\n",
       "      <td>2.300000</td>\n",
       "      <td>23.7</td>\n",
       "      <td>11.8</td>\n",
       "    </tr>\n",
       "    <tr>\n",
       "      <th>183</th>\n",
       "      <td>165.6</td>\n",
       "      <td>10.000000</td>\n",
       "      <td>17.6</td>\n",
       "      <td>12.6</td>\n",
       "    </tr>\n",
       "    <tr>\n",
       "      <th>184</th>\n",
       "      <td>156.6</td>\n",
       "      <td>2.600000</td>\n",
       "      <td>8.3</td>\n",
       "      <td>10.5</td>\n",
       "    </tr>\n",
       "    <tr>\n",
       "      <th>185</th>\n",
       "      <td>218.5</td>\n",
       "      <td>5.400000</td>\n",
       "      <td>27.4</td>\n",
       "      <td>12.2</td>\n",
       "    </tr>\n",
       "    <tr>\n",
       "      <th>186</th>\n",
       "      <td>56.2</td>\n",
       "      <td>5.700000</td>\n",
       "      <td>29.7</td>\n",
       "      <td>8.7</td>\n",
       "    </tr>\n",
       "    <tr>\n",
       "      <th>187</th>\n",
       "      <td>287.6</td>\n",
       "      <td>43.000000</td>\n",
       "      <td>71.8</td>\n",
       "      <td>26.2</td>\n",
       "    </tr>\n",
       "    <tr>\n",
       "      <th>188</th>\n",
       "      <td>253.8</td>\n",
       "      <td>21.300000</td>\n",
       "      <td>30.0</td>\n",
       "      <td>17.6</td>\n",
       "    </tr>\n",
       "    <tr>\n",
       "      <th>189</th>\n",
       "      <td>205.0</td>\n",
       "      <td>45.100000</td>\n",
       "      <td>19.6</td>\n",
       "      <td>22.6</td>\n",
       "    </tr>\n",
       "    <tr>\n",
       "      <th>190</th>\n",
       "      <td>139.5</td>\n",
       "      <td>2.100000</td>\n",
       "      <td>26.6</td>\n",
       "      <td>10.3</td>\n",
       "    </tr>\n",
       "    <tr>\n",
       "      <th>191</th>\n",
       "      <td>191.1</td>\n",
       "      <td>28.700000</td>\n",
       "      <td>18.2</td>\n",
       "      <td>17.3</td>\n",
       "    </tr>\n",
       "    <tr>\n",
       "      <th>192</th>\n",
       "      <td>286.0</td>\n",
       "      <td>13.900000</td>\n",
       "      <td>3.7</td>\n",
       "      <td>15.9</td>\n",
       "    </tr>\n",
       "    <tr>\n",
       "      <th>193</th>\n",
       "      <td>18.7</td>\n",
       "      <td>12.100000</td>\n",
       "      <td>23.4</td>\n",
       "      <td>6.7</td>\n",
       "    </tr>\n",
       "    <tr>\n",
       "      <th>194</th>\n",
       "      <td>39.5</td>\n",
       "      <td>41.100000</td>\n",
       "      <td>5.8</td>\n",
       "      <td>10.8</td>\n",
       "    </tr>\n",
       "    <tr>\n",
       "      <th>195</th>\n",
       "      <td>75.5</td>\n",
       "      <td>10.800000</td>\n",
       "      <td>6.0</td>\n",
       "      <td>9.9</td>\n",
       "    </tr>\n",
       "    <tr>\n",
       "      <th>196</th>\n",
       "      <td>17.2</td>\n",
       "      <td>4.100000</td>\n",
       "      <td>31.6</td>\n",
       "      <td>5.9</td>\n",
       "    </tr>\n",
       "    <tr>\n",
       "      <th>197</th>\n",
       "      <td>166.8</td>\n",
       "      <td>42.000000</td>\n",
       "      <td>3.6</td>\n",
       "      <td>19.6</td>\n",
       "    </tr>\n",
       "    <tr>\n",
       "      <th>198</th>\n",
       "      <td>149.7</td>\n",
       "      <td>35.600000</td>\n",
       "      <td>6.0</td>\n",
       "      <td>17.3</td>\n",
       "    </tr>\n",
       "    <tr>\n",
       "      <th>199</th>\n",
       "      <td>38.2</td>\n",
       "      <td>3.700000</td>\n",
       "      <td>13.8</td>\n",
       "      <td>7.6</td>\n",
       "    </tr>\n",
       "    <tr>\n",
       "      <th>200</th>\n",
       "      <td>94.2</td>\n",
       "      <td>4.900000</td>\n",
       "      <td>8.1</td>\n",
       "      <td>9.7</td>\n",
       "    </tr>\n",
       "    <tr>\n",
       "      <th>201</th>\n",
       "      <td>177.0</td>\n",
       "      <td>9.300000</td>\n",
       "      <td>6.4</td>\n",
       "      <td>12.8</td>\n",
       "    </tr>\n",
       "    <tr>\n",
       "      <th>202</th>\n",
       "      <td>283.6</td>\n",
       "      <td>42.000000</td>\n",
       "      <td>66.2</td>\n",
       "      <td>25.5</td>\n",
       "    </tr>\n",
       "    <tr>\n",
       "      <th>203</th>\n",
       "      <td>232.1</td>\n",
       "      <td>8.600000</td>\n",
       "      <td>8.7</td>\n",
       "      <td>13.4</td>\n",
       "    </tr>\n",
       "  </tbody>\n",
       "</table>\n",
       "<p>202 rows × 4 columns</p>\n",
       "</div>"
      ],
      "text/plain": [
       "        TV      radio  newspaper  sales\n",
       "0    219.0  23.247761       34.5   48.9\n",
       "1    230.1  37.800000       69.2   22.1\n",
       "2     44.5  39.300000       45.1   10.4\n",
       "3     17.2  45.900000       69.3    9.3\n",
       "4    151.5  41.300000       58.5   18.5\n",
       "5    180.8  10.800000       58.4   12.9\n",
       "6      8.7  48.900000       75.0    7.2\n",
       "7     57.5  32.800000       23.5   11.8\n",
       "8    120.2  19.600000       11.6   13.2\n",
       "9      8.6   2.100000        1.0    4.8\n",
       "10   199.8   2.600000       21.2   10.6\n",
       "11    66.1   5.800000       24.2    8.6\n",
       "12   214.7  24.000000        4.0   17.4\n",
       "13    23.8  35.100000       65.9    9.2\n",
       "14    97.5   7.600000        7.2    9.7\n",
       "15   204.1  32.900000       46.0   19.0\n",
       "16   195.4  47.700000       52.9   22.4\n",
       "17    67.8  36.600000      114.0   12.5\n",
       "18   281.4  39.600000       55.8   24.4\n",
       "19    69.2  20.500000       18.3   11.3\n",
       "20   147.3  23.900000       19.1   14.6\n",
       "21   218.4  27.700000       53.4   18.0\n",
       "22   237.4   5.100000       23.5   12.5\n",
       "23    13.2  15.900000       49.6    5.6\n",
       "24   228.3  16.900000       26.2   15.5\n",
       "25    62.3  12.600000       18.3    9.7\n",
       "26   262.9   3.500000       19.5   12.0\n",
       "27   142.9  29.300000       12.6   15.0\n",
       "28   240.1  16.700000       22.9   15.9\n",
       "29   248.8  27.100000       22.9   18.9\n",
       "..     ...        ...        ...    ...\n",
       "174   50.0  11.600000       18.4    8.4\n",
       "175  164.5  20.900000       47.4   14.5\n",
       "176   19.6  20.100000       17.0    7.6\n",
       "177  168.4   7.100000       12.8   11.7\n",
       "178  222.4   3.400000       13.1   11.5\n",
       "179  276.9  48.900000       41.8   27.0\n",
       "180  248.4  30.200000       20.3   20.2\n",
       "181  170.2   7.800000       35.2   11.7\n",
       "182  276.7   2.300000       23.7   11.8\n",
       "183  165.6  10.000000       17.6   12.6\n",
       "184  156.6   2.600000        8.3   10.5\n",
       "185  218.5   5.400000       27.4   12.2\n",
       "186   56.2   5.700000       29.7    8.7\n",
       "187  287.6  43.000000       71.8   26.2\n",
       "188  253.8  21.300000       30.0   17.6\n",
       "189  205.0  45.100000       19.6   22.6\n",
       "190  139.5   2.100000       26.6   10.3\n",
       "191  191.1  28.700000       18.2   17.3\n",
       "192  286.0  13.900000        3.7   15.9\n",
       "193   18.7  12.100000       23.4    6.7\n",
       "194   39.5  41.100000        5.8   10.8\n",
       "195   75.5  10.800000        6.0    9.9\n",
       "196   17.2   4.100000       31.6    5.9\n",
       "197  166.8  42.000000        3.6   19.6\n",
       "198  149.7  35.600000        6.0   17.3\n",
       "199   38.2   3.700000       13.8    7.6\n",
       "200   94.2   4.900000        8.1    9.7\n",
       "201  177.0   9.300000        6.4   12.8\n",
       "202  283.6  42.000000       66.2   25.5\n",
       "203  232.1   8.600000        8.7   13.4\n",
       "\n",
       "[202 rows x 4 columns]"
      ]
     },
     "execution_count": 25,
     "metadata": {},
     "output_type": "execute_result"
    }
   ],
   "source": [
    "df_marketing2"
   ]
  },
  {
   "cell_type": "code",
   "execution_count": 26,
   "metadata": {},
   "outputs": [
    {
     "name": "stdout",
     "output_type": "stream",
     "text": [
      "<class 'pandas.core.frame.DataFrame'>\n",
      "Int64Index: 202 entries, 0 to 203\n",
      "Data columns (total 4 columns):\n",
      "TV           202 non-null float64\n",
      "radio        202 non-null float64\n",
      "newspaper    202 non-null float64\n",
      "sales        202 non-null float64\n",
      "dtypes: float64(4)\n",
      "memory usage: 7.9 KB\n"
     ]
    }
   ],
   "source": [
    "#Task 1\n",
    "#e\n",
    "df_marketing2.info()"
   ]
  },
  {
   "cell_type": "code",
   "execution_count": 27,
   "metadata": {},
   "outputs": [
    {
     "data": {
      "text/html": [
       "<div>\n",
       "<style scoped>\n",
       "    .dataframe tbody tr th:only-of-type {\n",
       "        vertical-align: middle;\n",
       "    }\n",
       "\n",
       "    .dataframe tbody tr th {\n",
       "        vertical-align: top;\n",
       "    }\n",
       "\n",
       "    .dataframe thead th {\n",
       "        text-align: right;\n",
       "    }\n",
       "</style>\n",
       "<table border=\"1\" class=\"dataframe\">\n",
       "  <thead>\n",
       "    <tr style=\"text-align: right;\">\n",
       "      <th></th>\n",
       "      <th>TV</th>\n",
       "      <th>radio</th>\n",
       "      <th>newspaper</th>\n",
       "      <th>sales</th>\n",
       "    </tr>\n",
       "  </thead>\n",
       "  <tbody>\n",
       "    <tr>\n",
       "      <th>count</th>\n",
       "      <td>202.000000</td>\n",
       "      <td>202.000000</td>\n",
       "      <td>202.000000</td>\n",
       "      <td>202.000000</td>\n",
       "    </tr>\n",
       "    <tr>\n",
       "      <th>mean</th>\n",
       "      <td>147.710396</td>\n",
       "      <td>23.247761</td>\n",
       "      <td>30.516337</td>\n",
       "      <td>14.159406</td>\n",
       "    </tr>\n",
       "    <tr>\n",
       "      <th>std</th>\n",
       "      <td>85.689200</td>\n",
       "      <td>14.774545</td>\n",
       "      <td>21.687071</td>\n",
       "      <td>5.765728</td>\n",
       "    </tr>\n",
       "    <tr>\n",
       "      <th>min</th>\n",
       "      <td>0.700000</td>\n",
       "      <td>0.000000</td>\n",
       "      <td>0.300000</td>\n",
       "      <td>1.600000</td>\n",
       "    </tr>\n",
       "    <tr>\n",
       "      <th>25%</th>\n",
       "      <td>74.800000</td>\n",
       "      <td>10.025000</td>\n",
       "      <td>12.825000</td>\n",
       "      <td>10.325000</td>\n",
       "    </tr>\n",
       "    <tr>\n",
       "      <th>50%</th>\n",
       "      <td>150.650000</td>\n",
       "      <td>22.873881</td>\n",
       "      <td>25.750000</td>\n",
       "      <td>12.900000</td>\n",
       "    </tr>\n",
       "    <tr>\n",
       "      <th>75%</th>\n",
       "      <td>218.875000</td>\n",
       "      <td>36.450000</td>\n",
       "      <td>44.900000</td>\n",
       "      <td>17.400000</td>\n",
       "    </tr>\n",
       "    <tr>\n",
       "      <th>max</th>\n",
       "      <td>296.400000</td>\n",
       "      <td>49.600000</td>\n",
       "      <td>114.000000</td>\n",
       "      <td>48.900000</td>\n",
       "    </tr>\n",
       "  </tbody>\n",
       "</table>\n",
       "</div>"
      ],
      "text/plain": [
       "               TV       radio   newspaper       sales\n",
       "count  202.000000  202.000000  202.000000  202.000000\n",
       "mean   147.710396   23.247761   30.516337   14.159406\n",
       "std     85.689200   14.774545   21.687071    5.765728\n",
       "min      0.700000    0.000000    0.300000    1.600000\n",
       "25%     74.800000   10.025000   12.825000   10.325000\n",
       "50%    150.650000   22.873881   25.750000   12.900000\n",
       "75%    218.875000   36.450000   44.900000   17.400000\n",
       "max    296.400000   49.600000  114.000000   48.900000"
      ]
     },
     "execution_count": 27,
     "metadata": {},
     "output_type": "execute_result"
    }
   ],
   "source": [
    "df_marketing2.describe()"
   ]
  },
  {
   "cell_type": "code",
   "execution_count": 28,
   "metadata": {},
   "outputs": [
    {
     "data": {
      "text/plain": [
       "pandas.core.frame.DataFrame"
      ]
     },
     "execution_count": 28,
     "metadata": {},
     "output_type": "execute_result"
    }
   ],
   "source": [
    "type(df_marketing2)"
   ]
  },
  {
   "cell_type": "code",
   "execution_count": 29,
   "metadata": {},
   "outputs": [
    {
     "data": {
      "text/html": [
       "<div>\n",
       "<style scoped>\n",
       "    .dataframe tbody tr th:only-of-type {\n",
       "        vertical-align: middle;\n",
       "    }\n",
       "\n",
       "    .dataframe tbody tr th {\n",
       "        vertical-align: top;\n",
       "    }\n",
       "\n",
       "    .dataframe thead th {\n",
       "        text-align: right;\n",
       "    }\n",
       "</style>\n",
       "<table border=\"1\" class=\"dataframe\">\n",
       "  <thead>\n",
       "    <tr style=\"text-align: right;\">\n",
       "      <th></th>\n",
       "      <th>TV</th>\n",
       "      <th>radio</th>\n",
       "      <th>newspaper</th>\n",
       "      <th>sales</th>\n",
       "    </tr>\n",
       "  </thead>\n",
       "  <tbody>\n",
       "    <tr>\n",
       "      <th>TV</th>\n",
       "      <td>7342.639046</td>\n",
       "      <td>68.150075</td>\n",
       "      <td>102.684506</td>\n",
       "      <td>357.035648</td>\n",
       "    </tr>\n",
       "    <tr>\n",
       "      <th>radio</th>\n",
       "      <td>68.150075</td>\n",
       "      <td>218.287172</td>\n",
       "      <td>113.544395</td>\n",
       "      <td>44.308254</td>\n",
       "    </tr>\n",
       "    <tr>\n",
       "      <th>newspaper</th>\n",
       "      <td>102.684506</td>\n",
       "      <td>113.544395</td>\n",
       "      <td>470.329035</td>\n",
       "      <td>26.788328</td>\n",
       "    </tr>\n",
       "    <tr>\n",
       "      <th>sales</th>\n",
       "      <td>357.035648</td>\n",
       "      <td>44.308254</td>\n",
       "      <td>26.788328</td>\n",
       "      <td>33.243618</td>\n",
       "    </tr>\n",
       "  </tbody>\n",
       "</table>\n",
       "</div>"
      ],
      "text/plain": [
       "                    TV       radio   newspaper       sales\n",
       "TV         7342.639046   68.150075  102.684506  357.035648\n",
       "radio        68.150075  218.287172  113.544395   44.308254\n",
       "newspaper   102.684506  113.544395  470.329035   26.788328\n",
       "sales       357.035648   44.308254   26.788328   33.243618"
      ]
     },
     "execution_count": 29,
     "metadata": {},
     "output_type": "execute_result"
    }
   ],
   "source": [
    "df_marketing2.cov()"
   ]
  },
  {
   "cell_type": "code",
   "execution_count": 30,
   "metadata": {},
   "outputs": [
    {
     "data": {
      "text/html": [
       "<div>\n",
       "<style scoped>\n",
       "    .dataframe tbody tr th:only-of-type {\n",
       "        vertical-align: middle;\n",
       "    }\n",
       "\n",
       "    .dataframe tbody tr th {\n",
       "        vertical-align: top;\n",
       "    }\n",
       "\n",
       "    .dataframe thead th {\n",
       "        text-align: right;\n",
       "    }\n",
       "</style>\n",
       "<table border=\"1\" class=\"dataframe\">\n",
       "  <thead>\n",
       "    <tr style=\"text-align: right;\">\n",
       "      <th></th>\n",
       "      <th>TV</th>\n",
       "      <th>radio</th>\n",
       "      <th>newspaper</th>\n",
       "      <th>sales</th>\n",
       "    </tr>\n",
       "  </thead>\n",
       "  <tbody>\n",
       "    <tr>\n",
       "      <th>TV</th>\n",
       "      <td>1.000000</td>\n",
       "      <td>0.053830</td>\n",
       "      <td>0.055256</td>\n",
       "      <td>0.722656</td>\n",
       "    </tr>\n",
       "    <tr>\n",
       "      <th>radio</th>\n",
       "      <td>0.053830</td>\n",
       "      <td>1.000000</td>\n",
       "      <td>0.354365</td>\n",
       "      <td>0.520135</td>\n",
       "    </tr>\n",
       "    <tr>\n",
       "      <th>newspaper</th>\n",
       "      <td>0.055256</td>\n",
       "      <td>0.354365</td>\n",
       "      <td>1.000000</td>\n",
       "      <td>0.214235</td>\n",
       "    </tr>\n",
       "    <tr>\n",
       "      <th>sales</th>\n",
       "      <td>0.722656</td>\n",
       "      <td>0.520135</td>\n",
       "      <td>0.214235</td>\n",
       "      <td>1.000000</td>\n",
       "    </tr>\n",
       "  </tbody>\n",
       "</table>\n",
       "</div>"
      ],
      "text/plain": [
       "                 TV     radio  newspaper     sales\n",
       "TV         1.000000  0.053830   0.055256  0.722656\n",
       "radio      0.053830  1.000000   0.354365  0.520135\n",
       "newspaper  0.055256  0.354365   1.000000  0.214235\n",
       "sales      0.722656  0.520135   0.214235  1.000000"
      ]
     },
     "execution_count": 30,
     "metadata": {},
     "output_type": "execute_result"
    }
   ],
   "source": [
    "df_marketing2.corr()"
   ]
  },
  {
   "cell_type": "code",
   "execution_count": 31,
   "metadata": {},
   "outputs": [
    {
     "data": {
      "text/plain": [
       "TV          -0.088201\n",
       "radio        0.097879\n",
       "newspaper    0.901526\n",
       "sales        1.329376\n",
       "dtype: float64"
      ]
     },
     "execution_count": 31,
     "metadata": {},
     "output_type": "execute_result"
    }
   ],
   "source": [
    "df_marketing2.skew()"
   ]
  },
  {
   "cell_type": "code",
   "execution_count": 32,
   "metadata": {},
   "outputs": [
    {
     "data": {
      "text/plain": [
       "<bound method DataFrame.kurt of         TV      radio  newspaper  sales\n",
       "0    219.0  23.247761       34.5   48.9\n",
       "1    230.1  37.800000       69.2   22.1\n",
       "2     44.5  39.300000       45.1   10.4\n",
       "3     17.2  45.900000       69.3    9.3\n",
       "4    151.5  41.300000       58.5   18.5\n",
       "5    180.8  10.800000       58.4   12.9\n",
       "6      8.7  48.900000       75.0    7.2\n",
       "7     57.5  32.800000       23.5   11.8\n",
       "8    120.2  19.600000       11.6   13.2\n",
       "9      8.6   2.100000        1.0    4.8\n",
       "10   199.8   2.600000       21.2   10.6\n",
       "11    66.1   5.800000       24.2    8.6\n",
       "12   214.7  24.000000        4.0   17.4\n",
       "13    23.8  35.100000       65.9    9.2\n",
       "14    97.5   7.600000        7.2    9.7\n",
       "15   204.1  32.900000       46.0   19.0\n",
       "16   195.4  47.700000       52.9   22.4\n",
       "17    67.8  36.600000      114.0   12.5\n",
       "18   281.4  39.600000       55.8   24.4\n",
       "19    69.2  20.500000       18.3   11.3\n",
       "20   147.3  23.900000       19.1   14.6\n",
       "21   218.4  27.700000       53.4   18.0\n",
       "22   237.4   5.100000       23.5   12.5\n",
       "23    13.2  15.900000       49.6    5.6\n",
       "24   228.3  16.900000       26.2   15.5\n",
       "25    62.3  12.600000       18.3    9.7\n",
       "26   262.9   3.500000       19.5   12.0\n",
       "27   142.9  29.300000       12.6   15.0\n",
       "28   240.1  16.700000       22.9   15.9\n",
       "29   248.8  27.100000       22.9   18.9\n",
       "..     ...        ...        ...    ...\n",
       "174   50.0  11.600000       18.4    8.4\n",
       "175  164.5  20.900000       47.4   14.5\n",
       "176   19.6  20.100000       17.0    7.6\n",
       "177  168.4   7.100000       12.8   11.7\n",
       "178  222.4   3.400000       13.1   11.5\n",
       "179  276.9  48.900000       41.8   27.0\n",
       "180  248.4  30.200000       20.3   20.2\n",
       "181  170.2   7.800000       35.2   11.7\n",
       "182  276.7   2.300000       23.7   11.8\n",
       "183  165.6  10.000000       17.6   12.6\n",
       "184  156.6   2.600000        8.3   10.5\n",
       "185  218.5   5.400000       27.4   12.2\n",
       "186   56.2   5.700000       29.7    8.7\n",
       "187  287.6  43.000000       71.8   26.2\n",
       "188  253.8  21.300000       30.0   17.6\n",
       "189  205.0  45.100000       19.6   22.6\n",
       "190  139.5   2.100000       26.6   10.3\n",
       "191  191.1  28.700000       18.2   17.3\n",
       "192  286.0  13.900000        3.7   15.9\n",
       "193   18.7  12.100000       23.4    6.7\n",
       "194   39.5  41.100000        5.8   10.8\n",
       "195   75.5  10.800000        6.0    9.9\n",
       "196   17.2   4.100000       31.6    5.9\n",
       "197  166.8  42.000000        3.6   19.6\n",
       "198  149.7  35.600000        6.0   17.3\n",
       "199   38.2   3.700000       13.8    7.6\n",
       "200   94.2   4.900000        8.1    9.7\n",
       "201  177.0   9.300000        6.4   12.8\n",
       "202  283.6  42.000000       66.2   25.5\n",
       "203  232.1   8.600000        8.7   13.4\n",
       "\n",
       "[202 rows x 4 columns]>"
      ]
     },
     "execution_count": 32,
     "metadata": {},
     "output_type": "execute_result"
    }
   ],
   "source": [
    "df_marketing2.kurtosis"
   ]
  },
  {
   "cell_type": "code",
   "execution_count": 33,
   "metadata": {},
   "outputs": [
    {
     "data": {
      "text/plain": [
       "\"As all null value and zeros are removed from the dataframe and in sales column those row contain zero aur null are completely\\nremoved and in  other column's row are replaced with their avg. value of that column\""
      ]
     },
     "execution_count": 33,
     "metadata": {},
     "output_type": "execute_result"
    }
   ],
   "source": [
    "\"\"\"As all null value and zeros are removed from the dataframe and in sales column those row contain zero aur null are completely\n",
    "removed and in  other column's row are replaced with their avg. value of that column\"\"\""
   ]
  },
  {
   "cell_type": "code",
   "execution_count": 34,
   "metadata": {},
   "outputs": [
    {
     "data": {
      "image/png": "[encoded data removed]",
      "text/plain": [
       "<Figure size 432x288 with 1 Axes>"
      ]
     },
     "metadata": {
      "needs_background": "light"
     },
     "output_type": "display_data"
    }
   ],
   "source": [
    "#Task 2\n",
    "#a\n",
    "boxplot = df_marketing2.boxplot(['sales','TV','newspaper','radio'])\n",
    "#so from the box plot of TV sales we can that the \n",
    "#mean is 150\n",
    "#minimum sale is zero\n",
    "#maximaum sale is 300\n",
    "#here the whisker determine the range that is(0,300)\n",
    "#25 percentile is approx 70\n",
    "#75 percentileis approx 218\n",
    "#so from the box plot of radio sales we can that the \n",
    "#mean is 22\n",
    "#minimum sale is zero\n",
    "#maximaum sale is 200\n",
    "#here the whisker determine the range that is(0,200)\n",
    "#25 percentile is approx 10\n",
    "#75 percentileis approx 35\n",
    "#so from the box plot of newspaper sales we can that the \n",
    "#mean is 30\n",
    "#minimum sale is 0\n",
    "#maximaum sale is 114\n",
    "#here the whisker determine the range that is(0,114)\n",
    "#25 percentile is approx 12\n",
    "#75 percentileis approx 45\n",
    "#some outlier value are also present\n",
    "#so from the box plot of  sales we can that the \n",
    "#mean is 14\n",
    "#minimum sale is zero\n",
    "#maximaum sale is 49\n",
    "#here the whisker determine the range that is(0,25)\n",
    "#25 percentile is approx 10\n",
    "#75 percentileis appr 17"
   ]
  },
  {
   "cell_type": "code",
   "execution_count": 35,
   "metadata": {},
   "outputs": [
    {
     "data": {
      "text/plain": [
       "'From the above graph we conclude that No. of boxes: 4\\n                                         No. of whiskers:8\\n                                         No. of caps:8\\n                                         No. of medians:4\\n                                         No. of flier:3'"
      ]
     },
     "execution_count": 35,
     "metadata": {},
     "output_type": "execute_result"
    }
   ],
   "source": [
    "\"\"\"From the above graph we conclude that No. of boxes: 4\n",
    "                                         No. of whiskers:8\n",
    "                                         No. of caps:8\n",
    "                                         No. of medians:4\n",
    "                                         No. of flier:3\"\"\""
   ]
  },
  {
   "cell_type": "code",
   "execution_count": 36,
   "metadata": {},
   "outputs": [
    {
     "data": {
      "image/png": "[encoded data removed]",
      "text/plain": [
       "<Figure size 720x432 with 2 Axes>"
      ]
     },
     "metadata": {
      "needs_background": "light"
     },
     "output_type": "display_data"
    }
   ],
   "source": [
    "#Task 2\n",
    "#b\n",
    "import matplotlib.pyplot as plt\n",
    "fig=plt.figure(figsize=(10,6))\n",
    "fig.suptitle('Sales Advertising BigMart', fontsize=25)\n",
    "\n",
    "ax1=fig.add_subplot(221)\n",
    "ax1.set_title('BoxPlot')\n",
    "plt.xlabel('x_axis')\n",
    "plt.ylabel('y_axis')\n",
    "sns.boxplot(data=df_marketing2,ax=ax1)\n",
    "            \n",
    "\n",
    "ax2=fig.add_subplot(222)\n",
    "ax2.set_title('LinePlot')\n",
    "plt.xlabel('x_axis')\n",
    "plt.ylabel('y_axis')\n",
    "sns.lineplot(data=df_marketing2,ax=ax2)\n",
    "\n",
    "#df_marketing2.plot(kind = 'line',ax=ax2)\n",
    "             \n",
    "plt.show()"
   ]
  },
  {
   "cell_type": "code",
   "execution_count": 38,
   "metadata": {},
   "outputs": [
    {
     "data": {
      "image/png": "[encoded data removed]",
      "text/plain": [
       "<Figure size 432x288 with 1 Axes>"
      ]
     },
     "metadata": {
      "needs_background": "light"
     },
     "output_type": "display_data"
    }
   ],
   "source": [
    "#Task 3\n",
    "#a\n",
    "#in order to predict the sales based on marketing expenses we find independent and dependent variables\n",
    "#so in the following data set Sales is the dependent variable for which we are going to create different model \n",
    "#so different model can be used 1)histogram 2)line charts 3)boxplot\n",
    "plt.hist(df_marketing2['sales'],bins=10)\n",
    "plt.show()"
   ]
  },
  {
   "cell_type": "code",
   "execution_count": 39,
   "metadata": {},
   "outputs": [],
   "source": [
    "#from the above box histogram we can see that more area is concentrated in the rnage of (0,28)\n",
    "#max sale is 48\n",
    "#For categorical variables, bar charts and frequency counts are the natural counterparts to histograms. Now is time to look \n",
    "#at the variables that contain some insight on the assumptions previously made.\n",
    "#There seems to be the sales based on marketing expenses same to certain variable price i.e 1. But after that Most of \n",
    "#the independent and depedent variables are varies due to the gap of correlation and it seem to be either Small and Big or medium\n",
    "#but larger than the count level 1."
   ]
  },
  {
   "cell_type": "code",
   "execution_count": 235,
   "metadata": {},
   "outputs": [
    {
     "name": "stderr",
     "output_type": "stream",
     "text": [
      "C:\\ProgramData\\Anaconda3\\lib\\site-packages\\scipy\\stats\\stats.py:1713: FutureWarning: Using a non-tuple sequence for multidimensional indexing is deprecated; use `arr[tuple(seq)]` instead of `arr[seq]`. In the future this will be interpreted as an array index, `arr[np.array(seq)]`, which will result either in an error or a different result.\n",
      "  return np.add.reduce(sorted[indexer] * weights, axis=axis) / sumval\n"
     ]
    },
    {
     "data": {
      "text/plain": [
       "<matplotlib.axes._subplots.AxesSubplot at 0x1a86c902390>"
      ]
     },
     "execution_count": 235,
     "metadata": {},
     "output_type": "execute_result"
    },
    {
     "data": {
      "image/png": "[encoded data removed]",
      "text/plain": [
       "<Figure size 720x360 with 1 Axes>"
      ]
     },
     "metadata": {},
     "output_type": "display_data"
    }
   ],
   "source": [
    "#Task 3\n",
    "#b\n",
    "f, ax=plt.subplots(figsize=(10,5))\n",
    "sns.set(color_codes=True)\n",
    "sns.kdeplot(df_marketing2['sales'],shade=True,color='g')"
   ]
  },
  {
   "cell_type": "code",
   "execution_count": 236,
   "metadata": {},
   "outputs": [
    {
     "name": "stderr",
     "output_type": "stream",
     "text": [
      "C:\\ProgramData\\Anaconda3\\lib\\site-packages\\scipy\\stats\\stats.py:1713: FutureWarning: Using a non-tuple sequence for multidimensional indexing is deprecated; use `arr[tuple(seq)]` instead of `arr[seq]`. In the future this will be interpreted as an array index, `arr[np.array(seq)]`, which will result either in an error or a different result.\n",
      "  return np.add.reduce(sorted[indexer] * weights, axis=axis) / sumval\n"
     ]
    },
    {
     "data": {
      "text/plain": [
       "<matplotlib.axes._subplots.AxesSubplot at 0x1a86c902eb8>"
      ]
     },
     "execution_count": 236,
     "metadata": {},
     "output_type": "execute_result"
    },
    {
     "data": {
      "image/png": "[encoded data removed]",
      "text/plain": [
       "<Figure size 1080x360 with 1 Axes>"
      ]
     },
     "metadata": {},
     "output_type": "display_data"
    }
   ],
   "source": [
    "f, ax=plt.subplots(figsize=(15,5))\n",
    "\n",
    "sns.kdeplot(df_marketing2['sales'])\n",
    "sns.kdeplot(df_marketing2['sales'],bw=0.4,label='bw:0.4')\n",
    "sns.kdeplot(df_marketing2['sales'],bw=1,label='bw:1')\n",
    "sns.kdeplot(df_marketing2['sales'],bw=3,label='bw:3')\n",
    "sns.kdeplot(df_marketing2['sales'],bw=15,label='bw:15')"
   ]
  },
  {
   "cell_type": "code",
   "execution_count": 237,
   "metadata": {},
   "outputs": [
    {
     "data": {
      "text/plain": [
       "' KDE Plot described as Kernel Density Estimate is used for visualizing the Probability Density of a continuous variable.\\nIt depicts the probability density at different values in a continuous variable.\\n\\n\\n\\nAs we have plot a single graph for multiple\\nsamples which helps in more efficient data visualization.\\n\\nso from plot we conclude that sales increasing sharply for independent variable but after that decreaases as well in same manner'"
      ]
     },
     "execution_count": 237,
     "metadata": {},
     "output_type": "execute_result"
    }
   ],
   "source": [
    "\"\"\" KDE Plot described as Kernel Density Estimate is used for visualizing the Probability Density of a continuous variable.\n",
    "It depicts the probability density at different values in a continuous variable.\n",
    "\n",
    "\n",
    "\n",
    "As we have plot a single graph for multiple\n",
    "samples which helps in more efficient data visualization.\n",
    "\n",
    "so from plot we conclude that sales increasing sharply for independent variable but after that decreaases as well in same manner\"\"\""
   ]
  },
  {
   "cell_type": "code",
   "execution_count": 238,
   "metadata": {},
   "outputs": [
    {
     "data": {
      "image/png": "[encoded data removed]",
      "text/plain": [
       "<Figure size 432x288 with 1 Axes>"
      ]
     },
     "metadata": {},
     "output_type": "display_data"
    }
   ],
   "source": [
    "#Task 4\n",
    "#a\n",
    "ax1 = df_marketing2.plot.scatter(x='TV',\n",
    "                      y='sales',\n",
    "                      c='DarkBlue')"
   ]
  },
  {
   "cell_type": "code",
   "execution_count": 239,
   "metadata": {},
   "outputs": [
    {
     "data": {
      "image/png": "[encoded data removed]",
      "text/plain": [
       "<Figure size 432x288 with 1 Axes>"
      ]
     },
     "metadata": {},
     "output_type": "display_data"
    }
   ],
   "source": [
    "sns.regplot(df_marketing.TV, df_marketing.sales, order=1, ci=None, scatter_kws={'color':'black', 's':11})\n",
    "plt.xlim(-10,310)\n",
    "plt.ylim(ymin=0);"
   ]
  },
  {
   "cell_type": "code",
   "execution_count": 240,
   "metadata": {},
   "outputs": [
    {
     "data": {
      "text/plain": [
       "Text(0.5,1,'sales vs newspaper advertising')"
      ]
     },
     "execution_count": 240,
     "metadata": {},
     "output_type": "execute_result"
    },
    {
     "data": {
      "image/png": "[encoded data removed]",
      "text/plain": [
       "<Figure size 1080x720 with 3 Axes>"
      ]
     },
     "metadata": {},
     "output_type": "display_data"
    }
   ],
   "source": [
    "#Task 4\n",
    "#b\n",
    "fig=plt.figure(figsize=(15,10))\n",
    "ax1=fig.add_subplot(331)\n",
    "ax1.scatter(df_marketing2['TV'],df_marketing2['sales'],color='seagreen')\n",
    "ax1.set_title(\"sales vs TV advertising\",fontsize=20)\n",
    "ax1.set_xlabel('tv advertisng')\n",
    "ax1.set_ylabel('sales')\n",
    "ax2=fig.add_subplot(332)\n",
    "ax2.scatter(df_marketing2['radio'],df_marketing2['sales'],color='darkgreen')\n",
    "ax2.set_xlabel('radio advertising')\n",
    "ax2.set_ylabel('sales')\n",
    "ax2.set_title(\"sales vs radio advertising\",fontsize=20)\n",
    "ax3=fig.add_subplot(333)\n",
    "ax3.scatter(df_marketing2['newspaper'],df_marketing2['sales'],color='black')\n",
    "ax3.set_xlabel('newspaper advertising')\n",
    "ax3.set_ylabel('sales')\n",
    "ax3.set_title(\"sales vs newspaper advertising\",fontsize=20)\n",
    "\n"
   ]
  },
  {
   "cell_type": "code",
   "execution_count": 241,
   "metadata": {},
   "outputs": [
    {
     "name": "stderr",
     "output_type": "stream",
     "text": [
      "C:\\ProgramData\\Anaconda3\\lib\\site-packages\\seaborn\\axisgrid.py:2065: UserWarning: The `size` parameter has been renamed to `height`; pleaes update your code.\n",
      "  warnings.warn(msg, UserWarning)\n"
     ]
    },
    {
     "data": {
      "text/plain": [
       "<seaborn.axisgrid.PairGrid at 0x1a86ca14c18>"
      ]
     },
     "execution_count": 241,
     "metadata": {},
     "output_type": "execute_result"
    },
    {
     "data": {
      "image/png": "[encoded data removed]",
      "text/plain": [
       "<Figure size 1033.48x360 with 3 Axes>"
      ]
     },
     "metadata": {},
     "output_type": "display_data"
    }
   ],
   "source": [
    "#Task 4\n",
    "#c\n",
    "sns.pairplot(df_marketing2,\n",
    "            size=5, aspect=0.9,\n",
    "            x_vars=['TV','radio','newspaper'],\n",
    "            y_vars=['sales'],\n",
    "            hue='sales')"
   ]
  },
  {
   "cell_type": "code",
   "execution_count": 242,
   "metadata": {},
   "outputs": [],
   "source": [
    "#Task 5\n",
    "#a\n",
    "df_marketing[\"TotalAdvt\"] = [ row.TV + row.radio +row.newspaper for index, row in df_marketing.iterrows() ]"
   ]
  },
  {
   "cell_type": "code",
   "execution_count": 243,
   "metadata": {},
   "outputs": [
    {
     "data": {
      "text/html": [
       "<div>\n",
       "<style scoped>\n",
       "    .dataframe tbody tr th:only-of-type {\n",
       "        vertical-align: middle;\n",
       "    }\n",
       "\n",
       "    .dataframe tbody tr th {\n",
       "        vertical-align: top;\n",
       "    }\n",
       "\n",
       "    .dataframe thead th {\n",
       "        text-align: right;\n",
       "    }\n",
       "</style>\n",
       "<table border=\"1\" class=\"dataframe\">\n",
       "  <thead>\n",
       "    <tr style=\"text-align: right;\">\n",
       "      <th></th>\n",
       "      <th>TV</th>\n",
       "      <th>radio</th>\n",
       "      <th>newspaper</th>\n",
       "      <th>sales</th>\n",
       "      <th>TotalAdvt</th>\n",
       "    </tr>\n",
       "  </thead>\n",
       "  <tbody>\n",
       "    <tr>\n",
       "      <th>0</th>\n",
       "      <td>219.0</td>\n",
       "      <td>NaN</td>\n",
       "      <td>34.5</td>\n",
       "      <td>48.9</td>\n",
       "      <td>NaN</td>\n",
       "    </tr>\n",
       "    <tr>\n",
       "      <th>1</th>\n",
       "      <td>230.1</td>\n",
       "      <td>37.8</td>\n",
       "      <td>69.2</td>\n",
       "      <td>22.1</td>\n",
       "      <td>337.1</td>\n",
       "    </tr>\n",
       "    <tr>\n",
       "      <th>2</th>\n",
       "      <td>44.5</td>\n",
       "      <td>39.3</td>\n",
       "      <td>45.1</td>\n",
       "      <td>10.4</td>\n",
       "      <td>128.9</td>\n",
       "    </tr>\n",
       "    <tr>\n",
       "      <th>3</th>\n",
       "      <td>17.2</td>\n",
       "      <td>45.9</td>\n",
       "      <td>69.3</td>\n",
       "      <td>9.3</td>\n",
       "      <td>132.4</td>\n",
       "    </tr>\n",
       "    <tr>\n",
       "      <th>4</th>\n",
       "      <td>151.5</td>\n",
       "      <td>41.3</td>\n",
       "      <td>58.5</td>\n",
       "      <td>18.5</td>\n",
       "      <td>251.3</td>\n",
       "    </tr>\n",
       "  </tbody>\n",
       "</table>\n",
       "</div>"
      ],
      "text/plain": [
       "      TV  radio  newspaper  sales  TotalAdvt\n",
       "0  219.0    NaN       34.5   48.9        NaN\n",
       "1  230.1   37.8       69.2   22.1      337.1\n",
       "2   44.5   39.3       45.1   10.4      128.9\n",
       "3   17.2   45.9       69.3    9.3      132.4\n",
       "4  151.5   41.3       58.5   18.5      251.3"
      ]
     },
     "execution_count": 243,
     "metadata": {},
     "output_type": "execute_result"
    }
   ],
   "source": [
    "df_marketing.head()"
   ]
  },
  {
   "cell_type": "code",
   "execution_count": 244,
   "metadata": {},
   "outputs": [],
   "source": [
    "df_marketing3=df_marketing.fillna(df_marketing.mean())"
   ]
  },
  {
   "cell_type": "code",
   "execution_count": 245,
   "metadata": {},
   "outputs": [
    {
     "data": {
      "text/html": [
       "<div>\n",
       "<style scoped>\n",
       "    .dataframe tbody tr th:only-of-type {\n",
       "        vertical-align: middle;\n",
       "    }\n",
       "\n",
       "    .dataframe tbody tr th {\n",
       "        vertical-align: top;\n",
       "    }\n",
       "\n",
       "    .dataframe thead th {\n",
       "        text-align: right;\n",
       "    }\n",
       "</style>\n",
       "<table border=\"1\" class=\"dataframe\">\n",
       "  <thead>\n",
       "    <tr style=\"text-align: right;\">\n",
       "      <th></th>\n",
       "      <th>TV</th>\n",
       "      <th>radio</th>\n",
       "      <th>newspaper</th>\n",
       "      <th>sales</th>\n",
       "      <th>TotalAdvt</th>\n",
       "    </tr>\n",
       "  </thead>\n",
       "  <tbody>\n",
       "    <tr>\n",
       "      <th>0</th>\n",
       "      <td>219.0</td>\n",
       "      <td>23.122167</td>\n",
       "      <td>34.5</td>\n",
       "      <td>48.9</td>\n",
       "      <td>200.061576</td>\n",
       "    </tr>\n",
       "    <tr>\n",
       "      <th>1</th>\n",
       "      <td>230.1</td>\n",
       "      <td>37.800000</td>\n",
       "      <td>69.2</td>\n",
       "      <td>22.1</td>\n",
       "      <td>337.100000</td>\n",
       "    </tr>\n",
       "    <tr>\n",
       "      <th>2</th>\n",
       "      <td>44.5</td>\n",
       "      <td>39.300000</td>\n",
       "      <td>45.1</td>\n",
       "      <td>10.4</td>\n",
       "      <td>128.900000</td>\n",
       "    </tr>\n",
       "    <tr>\n",
       "      <th>3</th>\n",
       "      <td>17.2</td>\n",
       "      <td>45.900000</td>\n",
       "      <td>69.3</td>\n",
       "      <td>9.3</td>\n",
       "      <td>132.400000</td>\n",
       "    </tr>\n",
       "    <tr>\n",
       "      <th>4</th>\n",
       "      <td>151.5</td>\n",
       "      <td>41.300000</td>\n",
       "      <td>58.5</td>\n",
       "      <td>18.5</td>\n",
       "      <td>251.300000</td>\n",
       "    </tr>\n",
       "    <tr>\n",
       "      <th>5</th>\n",
       "      <td>180.8</td>\n",
       "      <td>10.800000</td>\n",
       "      <td>58.4</td>\n",
       "      <td>12.9</td>\n",
       "      <td>250.000000</td>\n",
       "    </tr>\n",
       "    <tr>\n",
       "      <th>6</th>\n",
       "      <td>8.7</td>\n",
       "      <td>48.900000</td>\n",
       "      <td>75.0</td>\n",
       "      <td>7.2</td>\n",
       "      <td>132.600000</td>\n",
       "    </tr>\n",
       "    <tr>\n",
       "      <th>7</th>\n",
       "      <td>57.5</td>\n",
       "      <td>32.800000</td>\n",
       "      <td>23.5</td>\n",
       "      <td>11.8</td>\n",
       "      <td>113.800000</td>\n",
       "    </tr>\n",
       "    <tr>\n",
       "      <th>8</th>\n",
       "      <td>120.2</td>\n",
       "      <td>19.600000</td>\n",
       "      <td>11.6</td>\n",
       "      <td>13.2</td>\n",
       "      <td>151.400000</td>\n",
       "    </tr>\n",
       "    <tr>\n",
       "      <th>9</th>\n",
       "      <td>8.6</td>\n",
       "      <td>2.100000</td>\n",
       "      <td>1.0</td>\n",
       "      <td>4.8</td>\n",
       "      <td>11.700000</td>\n",
       "    </tr>\n",
       "    <tr>\n",
       "      <th>10</th>\n",
       "      <td>199.8</td>\n",
       "      <td>2.600000</td>\n",
       "      <td>21.2</td>\n",
       "      <td>10.6</td>\n",
       "      <td>223.600000</td>\n",
       "    </tr>\n",
       "    <tr>\n",
       "      <th>11</th>\n",
       "      <td>66.1</td>\n",
       "      <td>5.800000</td>\n",
       "      <td>24.2</td>\n",
       "      <td>8.6</td>\n",
       "      <td>96.100000</td>\n",
       "    </tr>\n",
       "    <tr>\n",
       "      <th>12</th>\n",
       "      <td>214.7</td>\n",
       "      <td>24.000000</td>\n",
       "      <td>4.0</td>\n",
       "      <td>17.4</td>\n",
       "      <td>242.700000</td>\n",
       "    </tr>\n",
       "    <tr>\n",
       "      <th>13</th>\n",
       "      <td>23.8</td>\n",
       "      <td>35.100000</td>\n",
       "      <td>65.9</td>\n",
       "      <td>9.2</td>\n",
       "      <td>124.800000</td>\n",
       "    </tr>\n",
       "    <tr>\n",
       "      <th>14</th>\n",
       "      <td>97.5</td>\n",
       "      <td>7.600000</td>\n",
       "      <td>7.2</td>\n",
       "      <td>9.7</td>\n",
       "      <td>112.300000</td>\n",
       "    </tr>\n",
       "    <tr>\n",
       "      <th>15</th>\n",
       "      <td>204.1</td>\n",
       "      <td>32.900000</td>\n",
       "      <td>46.0</td>\n",
       "      <td>19.0</td>\n",
       "      <td>283.000000</td>\n",
       "    </tr>\n",
       "    <tr>\n",
       "      <th>16</th>\n",
       "      <td>195.4</td>\n",
       "      <td>47.700000</td>\n",
       "      <td>52.9</td>\n",
       "      <td>22.4</td>\n",
       "      <td>296.000000</td>\n",
       "    </tr>\n",
       "    <tr>\n",
       "      <th>17</th>\n",
       "      <td>67.8</td>\n",
       "      <td>36.600000</td>\n",
       "      <td>114.0</td>\n",
       "      <td>12.5</td>\n",
       "      <td>218.400000</td>\n",
       "    </tr>\n",
       "    <tr>\n",
       "      <th>18</th>\n",
       "      <td>281.4</td>\n",
       "      <td>39.600000</td>\n",
       "      <td>55.8</td>\n",
       "      <td>24.4</td>\n",
       "      <td>376.800000</td>\n",
       "    </tr>\n",
       "    <tr>\n",
       "      <th>19</th>\n",
       "      <td>69.2</td>\n",
       "      <td>20.500000</td>\n",
       "      <td>18.3</td>\n",
       "      <td>11.3</td>\n",
       "      <td>108.000000</td>\n",
       "    </tr>\n",
       "    <tr>\n",
       "      <th>20</th>\n",
       "      <td>147.3</td>\n",
       "      <td>23.900000</td>\n",
       "      <td>19.1</td>\n",
       "      <td>14.6</td>\n",
       "      <td>190.300000</td>\n",
       "    </tr>\n",
       "    <tr>\n",
       "      <th>21</th>\n",
       "      <td>218.4</td>\n",
       "      <td>27.700000</td>\n",
       "      <td>53.4</td>\n",
       "      <td>18.0</td>\n",
       "      <td>299.500000</td>\n",
       "    </tr>\n",
       "    <tr>\n",
       "      <th>22</th>\n",
       "      <td>237.4</td>\n",
       "      <td>5.100000</td>\n",
       "      <td>23.5</td>\n",
       "      <td>12.5</td>\n",
       "      <td>266.000000</td>\n",
       "    </tr>\n",
       "    <tr>\n",
       "      <th>23</th>\n",
       "      <td>13.2</td>\n",
       "      <td>15.900000</td>\n",
       "      <td>49.6</td>\n",
       "      <td>5.6</td>\n",
       "      <td>78.700000</td>\n",
       "    </tr>\n",
       "    <tr>\n",
       "      <th>24</th>\n",
       "      <td>228.3</td>\n",
       "      <td>16.900000</td>\n",
       "      <td>26.2</td>\n",
       "      <td>15.5</td>\n",
       "      <td>271.400000</td>\n",
       "    </tr>\n",
       "    <tr>\n",
       "      <th>25</th>\n",
       "      <td>62.3</td>\n",
       "      <td>12.600000</td>\n",
       "      <td>18.3</td>\n",
       "      <td>9.7</td>\n",
       "      <td>93.200000</td>\n",
       "    </tr>\n",
       "    <tr>\n",
       "      <th>26</th>\n",
       "      <td>262.9</td>\n",
       "      <td>3.500000</td>\n",
       "      <td>19.5</td>\n",
       "      <td>12.0</td>\n",
       "      <td>285.900000</td>\n",
       "    </tr>\n",
       "    <tr>\n",
       "      <th>27</th>\n",
       "      <td>142.9</td>\n",
       "      <td>29.300000</td>\n",
       "      <td>12.6</td>\n",
       "      <td>15.0</td>\n",
       "      <td>184.800000</td>\n",
       "    </tr>\n",
       "    <tr>\n",
       "      <th>28</th>\n",
       "      <td>240.1</td>\n",
       "      <td>16.700000</td>\n",
       "      <td>22.9</td>\n",
       "      <td>15.9</td>\n",
       "      <td>279.700000</td>\n",
       "    </tr>\n",
       "    <tr>\n",
       "      <th>29</th>\n",
       "      <td>248.8</td>\n",
       "      <td>27.100000</td>\n",
       "      <td>22.9</td>\n",
       "      <td>18.9</td>\n",
       "      <td>298.800000</td>\n",
       "    </tr>\n",
       "    <tr>\n",
       "      <th>...</th>\n",
       "      <td>...</td>\n",
       "      <td>...</td>\n",
       "      <td>...</td>\n",
       "      <td>...</td>\n",
       "      <td>...</td>\n",
       "    </tr>\n",
       "    <tr>\n",
       "      <th>174</th>\n",
       "      <td>50.0</td>\n",
       "      <td>11.600000</td>\n",
       "      <td>18.4</td>\n",
       "      <td>8.4</td>\n",
       "      <td>80.000000</td>\n",
       "    </tr>\n",
       "    <tr>\n",
       "      <th>175</th>\n",
       "      <td>164.5</td>\n",
       "      <td>20.900000</td>\n",
       "      <td>47.4</td>\n",
       "      <td>14.5</td>\n",
       "      <td>232.800000</td>\n",
       "    </tr>\n",
       "    <tr>\n",
       "      <th>176</th>\n",
       "      <td>19.6</td>\n",
       "      <td>20.100000</td>\n",
       "      <td>17.0</td>\n",
       "      <td>7.6</td>\n",
       "      <td>56.700000</td>\n",
       "    </tr>\n",
       "    <tr>\n",
       "      <th>177</th>\n",
       "      <td>168.4</td>\n",
       "      <td>7.100000</td>\n",
       "      <td>12.8</td>\n",
       "      <td>11.7</td>\n",
       "      <td>188.300000</td>\n",
       "    </tr>\n",
       "    <tr>\n",
       "      <th>178</th>\n",
       "      <td>222.4</td>\n",
       "      <td>3.400000</td>\n",
       "      <td>13.1</td>\n",
       "      <td>11.5</td>\n",
       "      <td>238.900000</td>\n",
       "    </tr>\n",
       "    <tr>\n",
       "      <th>179</th>\n",
       "      <td>276.9</td>\n",
       "      <td>48.900000</td>\n",
       "      <td>41.8</td>\n",
       "      <td>27.0</td>\n",
       "      <td>367.600000</td>\n",
       "    </tr>\n",
       "    <tr>\n",
       "      <th>180</th>\n",
       "      <td>248.4</td>\n",
       "      <td>30.200000</td>\n",
       "      <td>20.3</td>\n",
       "      <td>20.2</td>\n",
       "      <td>298.900000</td>\n",
       "    </tr>\n",
       "    <tr>\n",
       "      <th>181</th>\n",
       "      <td>170.2</td>\n",
       "      <td>7.800000</td>\n",
       "      <td>35.2</td>\n",
       "      <td>11.7</td>\n",
       "      <td>213.200000</td>\n",
       "    </tr>\n",
       "    <tr>\n",
       "      <th>182</th>\n",
       "      <td>276.7</td>\n",
       "      <td>2.300000</td>\n",
       "      <td>23.7</td>\n",
       "      <td>11.8</td>\n",
       "      <td>302.700000</td>\n",
       "    </tr>\n",
       "    <tr>\n",
       "      <th>183</th>\n",
       "      <td>165.6</td>\n",
       "      <td>10.000000</td>\n",
       "      <td>17.6</td>\n",
       "      <td>12.6</td>\n",
       "      <td>193.200000</td>\n",
       "    </tr>\n",
       "    <tr>\n",
       "      <th>184</th>\n",
       "      <td>156.6</td>\n",
       "      <td>2.600000</td>\n",
       "      <td>8.3</td>\n",
       "      <td>10.5</td>\n",
       "      <td>167.500000</td>\n",
       "    </tr>\n",
       "    <tr>\n",
       "      <th>185</th>\n",
       "      <td>218.5</td>\n",
       "      <td>5.400000</td>\n",
       "      <td>27.4</td>\n",
       "      <td>12.2</td>\n",
       "      <td>251.300000</td>\n",
       "    </tr>\n",
       "    <tr>\n",
       "      <th>186</th>\n",
       "      <td>56.2</td>\n",
       "      <td>5.700000</td>\n",
       "      <td>29.7</td>\n",
       "      <td>8.7</td>\n",
       "      <td>91.600000</td>\n",
       "    </tr>\n",
       "    <tr>\n",
       "      <th>187</th>\n",
       "      <td>287.6</td>\n",
       "      <td>43.000000</td>\n",
       "      <td>71.8</td>\n",
       "      <td>26.2</td>\n",
       "      <td>402.400000</td>\n",
       "    </tr>\n",
       "    <tr>\n",
       "      <th>188</th>\n",
       "      <td>253.8</td>\n",
       "      <td>21.300000</td>\n",
       "      <td>30.0</td>\n",
       "      <td>17.6</td>\n",
       "      <td>305.100000</td>\n",
       "    </tr>\n",
       "    <tr>\n",
       "      <th>189</th>\n",
       "      <td>205.0</td>\n",
       "      <td>45.100000</td>\n",
       "      <td>19.6</td>\n",
       "      <td>22.6</td>\n",
       "      <td>269.700000</td>\n",
       "    </tr>\n",
       "    <tr>\n",
       "      <th>190</th>\n",
       "      <td>139.5</td>\n",
       "      <td>2.100000</td>\n",
       "      <td>26.6</td>\n",
       "      <td>10.3</td>\n",
       "      <td>168.200000</td>\n",
       "    </tr>\n",
       "    <tr>\n",
       "      <th>191</th>\n",
       "      <td>191.1</td>\n",
       "      <td>28.700000</td>\n",
       "      <td>18.2</td>\n",
       "      <td>17.3</td>\n",
       "      <td>238.000000</td>\n",
       "    </tr>\n",
       "    <tr>\n",
       "      <th>192</th>\n",
       "      <td>286.0</td>\n",
       "      <td>13.900000</td>\n",
       "      <td>3.7</td>\n",
       "      <td>15.9</td>\n",
       "      <td>303.600000</td>\n",
       "    </tr>\n",
       "    <tr>\n",
       "      <th>193</th>\n",
       "      <td>18.7</td>\n",
       "      <td>12.100000</td>\n",
       "      <td>23.4</td>\n",
       "      <td>6.7</td>\n",
       "      <td>54.200000</td>\n",
       "    </tr>\n",
       "    <tr>\n",
       "      <th>194</th>\n",
       "      <td>39.5</td>\n",
       "      <td>41.100000</td>\n",
       "      <td>5.8</td>\n",
       "      <td>10.8</td>\n",
       "      <td>86.400000</td>\n",
       "    </tr>\n",
       "    <tr>\n",
       "      <th>195</th>\n",
       "      <td>75.5</td>\n",
       "      <td>10.800000</td>\n",
       "      <td>6.0</td>\n",
       "      <td>9.9</td>\n",
       "      <td>92.300000</td>\n",
       "    </tr>\n",
       "    <tr>\n",
       "      <th>196</th>\n",
       "      <td>17.2</td>\n",
       "      <td>4.100000</td>\n",
       "      <td>31.6</td>\n",
       "      <td>5.9</td>\n",
       "      <td>52.900000</td>\n",
       "    </tr>\n",
       "    <tr>\n",
       "      <th>197</th>\n",
       "      <td>166.8</td>\n",
       "      <td>42.000000</td>\n",
       "      <td>3.6</td>\n",
       "      <td>19.6</td>\n",
       "      <td>212.400000</td>\n",
       "    </tr>\n",
       "    <tr>\n",
       "      <th>198</th>\n",
       "      <td>149.7</td>\n",
       "      <td>35.600000</td>\n",
       "      <td>6.0</td>\n",
       "      <td>17.3</td>\n",
       "      <td>191.300000</td>\n",
       "    </tr>\n",
       "    <tr>\n",
       "      <th>199</th>\n",
       "      <td>38.2</td>\n",
       "      <td>3.700000</td>\n",
       "      <td>13.8</td>\n",
       "      <td>7.6</td>\n",
       "      <td>55.700000</td>\n",
       "    </tr>\n",
       "    <tr>\n",
       "      <th>200</th>\n",
       "      <td>94.2</td>\n",
       "      <td>4.900000</td>\n",
       "      <td>8.1</td>\n",
       "      <td>9.7</td>\n",
       "      <td>107.200000</td>\n",
       "    </tr>\n",
       "    <tr>\n",
       "      <th>201</th>\n",
       "      <td>177.0</td>\n",
       "      <td>9.300000</td>\n",
       "      <td>6.4</td>\n",
       "      <td>12.8</td>\n",
       "      <td>192.700000</td>\n",
       "    </tr>\n",
       "    <tr>\n",
       "      <th>202</th>\n",
       "      <td>283.6</td>\n",
       "      <td>42.000000</td>\n",
       "      <td>66.2</td>\n",
       "      <td>25.5</td>\n",
       "      <td>391.800000</td>\n",
       "    </tr>\n",
       "    <tr>\n",
       "      <th>203</th>\n",
       "      <td>232.1</td>\n",
       "      <td>8.600000</td>\n",
       "      <td>8.7</td>\n",
       "      <td>13.4</td>\n",
       "      <td>249.400000</td>\n",
       "    </tr>\n",
       "  </tbody>\n",
       "</table>\n",
       "<p>204 rows × 5 columns</p>\n",
       "</div>"
      ],
      "text/plain": [
       "        TV      radio  newspaper  sales   TotalAdvt\n",
       "0    219.0  23.122167       34.5   48.9  200.061576\n",
       "1    230.1  37.800000       69.2   22.1  337.100000\n",
       "2     44.5  39.300000       45.1   10.4  128.900000\n",
       "3     17.2  45.900000       69.3    9.3  132.400000\n",
       "4    151.5  41.300000       58.5   18.5  251.300000\n",
       "5    180.8  10.800000       58.4   12.9  250.000000\n",
       "6      8.7  48.900000       75.0    7.2  132.600000\n",
       "7     57.5  32.800000       23.5   11.8  113.800000\n",
       "8    120.2  19.600000       11.6   13.2  151.400000\n",
       "9      8.6   2.100000        1.0    4.8   11.700000\n",
       "10   199.8   2.600000       21.2   10.6  223.600000\n",
       "11    66.1   5.800000       24.2    8.6   96.100000\n",
       "12   214.7  24.000000        4.0   17.4  242.700000\n",
       "13    23.8  35.100000       65.9    9.2  124.800000\n",
       "14    97.5   7.600000        7.2    9.7  112.300000\n",
       "15   204.1  32.900000       46.0   19.0  283.000000\n",
       "16   195.4  47.700000       52.9   22.4  296.000000\n",
       "17    67.8  36.600000      114.0   12.5  218.400000\n",
       "18   281.4  39.600000       55.8   24.4  376.800000\n",
       "19    69.2  20.500000       18.3   11.3  108.000000\n",
       "20   147.3  23.900000       19.1   14.6  190.300000\n",
       "21   218.4  27.700000       53.4   18.0  299.500000\n",
       "22   237.4   5.100000       23.5   12.5  266.000000\n",
       "23    13.2  15.900000       49.6    5.6   78.700000\n",
       "24   228.3  16.900000       26.2   15.5  271.400000\n",
       "25    62.3  12.600000       18.3    9.7   93.200000\n",
       "26   262.9   3.500000       19.5   12.0  285.900000\n",
       "27   142.9  29.300000       12.6   15.0  184.800000\n",
       "28   240.1  16.700000       22.9   15.9  279.700000\n",
       "29   248.8  27.100000       22.9   18.9  298.800000\n",
       "..     ...        ...        ...    ...         ...\n",
       "174   50.0  11.600000       18.4    8.4   80.000000\n",
       "175  164.5  20.900000       47.4   14.5  232.800000\n",
       "176   19.6  20.100000       17.0    7.6   56.700000\n",
       "177  168.4   7.100000       12.8   11.7  188.300000\n",
       "178  222.4   3.400000       13.1   11.5  238.900000\n",
       "179  276.9  48.900000       41.8   27.0  367.600000\n",
       "180  248.4  30.200000       20.3   20.2  298.900000\n",
       "181  170.2   7.800000       35.2   11.7  213.200000\n",
       "182  276.7   2.300000       23.7   11.8  302.700000\n",
       "183  165.6  10.000000       17.6   12.6  193.200000\n",
       "184  156.6   2.600000        8.3   10.5  167.500000\n",
       "185  218.5   5.400000       27.4   12.2  251.300000\n",
       "186   56.2   5.700000       29.7    8.7   91.600000\n",
       "187  287.6  43.000000       71.8   26.2  402.400000\n",
       "188  253.8  21.300000       30.0   17.6  305.100000\n",
       "189  205.0  45.100000       19.6   22.6  269.700000\n",
       "190  139.5   2.100000       26.6   10.3  168.200000\n",
       "191  191.1  28.700000       18.2   17.3  238.000000\n",
       "192  286.0  13.900000        3.7   15.9  303.600000\n",
       "193   18.7  12.100000       23.4    6.7   54.200000\n",
       "194   39.5  41.100000        5.8   10.8   86.400000\n",
       "195   75.5  10.800000        6.0    9.9   92.300000\n",
       "196   17.2   4.100000       31.6    5.9   52.900000\n",
       "197  166.8  42.000000        3.6   19.6  212.400000\n",
       "198  149.7  35.600000        6.0   17.3  191.300000\n",
       "199   38.2   3.700000       13.8    7.6   55.700000\n",
       "200   94.2   4.900000        8.1    9.7  107.200000\n",
       "201  177.0   9.300000        6.4   12.8  192.700000\n",
       "202  283.6  42.000000       66.2   25.5  391.800000\n",
       "203  232.1   8.600000        8.7   13.4  249.400000\n",
       "\n",
       "[204 rows x 5 columns]"
      ]
     },
     "execution_count": 245,
     "metadata": {},
     "output_type": "execute_result"
    }
   ],
   "source": [
    "df_marketing3"
   ]
  },
  {
   "cell_type": "code",
   "execution_count": 246,
   "metadata": {},
   "outputs": [
    {
     "name": "stdout",
     "output_type": "stream",
     "text": [
      "200.0615763546798\n",
      "[12.19744107]\n"
     ]
    }
   ],
   "source": [
    "#Task 5\n",
    "#b\n",
    "# Regression coefficients (Ordinary Least Squares)\n",
    "regr = skl_lm.LinearRegression()\n",
    "\n",
    "X = scale(df_marketing3.sales, with_mean=True, with_std=False).reshape(-1,1)\n",
    "y = df_marketing3.TotalAdvt\n",
    "\n",
    "regr.fit(X,y)\n",
    "print(regr.intercept_)\n",
    "print(regr.coef_)"
   ]
  },
  {
   "cell_type": "code",
   "execution_count": 247,
   "metadata": {},
   "outputs": [
    {
     "data": {
      "text/plain": [
       "0.6035047923313572"
      ]
     },
     "execution_count": 247,
     "metadata": {},
     "output_type": "execute_result"
    }
   ],
   "source": [
    "regr.score(X,y)#\n",
    "#r square value"
   ]
  },
  {
   "cell_type": "code",
   "execution_count": 248,
   "metadata": {},
   "outputs": [
    {
     "data": {
      "text/plain": [
       "[<matplotlib.lines.Line2D at 0x1a86d5b7518>]"
      ]
     },
     "execution_count": 248,
     "metadata": {},
     "output_type": "execute_result"
    },
    {
     "data": {
      "image/png": "[encoded data removed]",
      "text/plain": [
       "<Figure size 432x288 with 1 Axes>"
      ]
     },
     "metadata": {},
     "output_type": "display_data"
    }
   ],
   "source": [
    "plt.scatter(X,y,color='black')\n",
    "plt.plot(X,regr.predict(X))"
   ]
  },
  {
   "cell_type": "code",
   "execution_count": 249,
   "metadata": {},
   "outputs": [
    {
     "data": {
      "text/html": [
       "<table class=\"simpletable\">\n",
       "<tr>\n",
       "      <td></td>         <th>coef</th>     <th>std err</th>      <th>t</th>      <th>P>|t|</th>  <th>[0.025</th>    <th>0.975]</th>  \n",
       "</tr>\n",
       "<tr>\n",
       "  <th>Intercept</th> <td>    4.1219</td> <td>    0.622</td> <td>    6.628</td> <td> 0.000</td> <td>    2.896</td> <td>    5.348</td>\n",
       "</tr>\n",
       "<tr>\n",
       "  <th>TotalAdvt</th> <td>    0.0495</td> <td>    0.003</td> <td>   17.535</td> <td> 0.000</td> <td>    0.044</td> <td>    0.055</td>\n",
       "</tr>\n",
       "</table>"
      ],
      "text/plain": [
       "<class 'statsmodels.iolib.table.SimpleTable'>"
      ]
     },
     "execution_count": 249,
     "metadata": {},
     "output_type": "execute_result"
    }
   ],
   "source": [
    "est = smf.ols('sales ~ TotalAdvt', df_marketing3).fit()\n",
    "est.summary().tables[1]"
   ]
  },
  {
   "cell_type": "code",
   "execution_count": 250,
   "metadata": {},
   "outputs": [
    {
     "data": {
      "text/html": [
       "<table class=\"simpletable\">\n",
       "<tr>\n",
       "      <td></td>         <th>coef</th>     <th>std err</th>      <th>t</th>      <th>P>|t|</th>  <th>[0.025</th>    <th>0.975]</th>  \n",
       "</tr>\n",
       "<tr>\n",
       "  <th>Intercept</th> <td>   29.0463</td> <td>   10.579</td> <td>    2.746</td> <td> 0.007</td> <td>    8.187</td> <td>   49.905</td>\n",
       "</tr>\n",
       "<tr>\n",
       "  <th>sales</th>     <td>   12.1974</td> <td>    0.696</td> <td>   17.535</td> <td> 0.000</td> <td>   10.826</td> <td>   13.569</td>\n",
       "</tr>\n",
       "</table>"
      ],
      "text/plain": [
       "<class 'statsmodels.iolib.table.SimpleTable'>"
      ]
     },
     "execution_count": 250,
     "metadata": {},
     "output_type": "execute_result"
    }
   ],
   "source": [
    "est = smf.ols('TotalAdvt ~ sales', df_marketing3).fit()\n",
    "est.summary().tables[1]"
   ]
  },
  {
   "cell_type": "code",
   "execution_count": 251,
   "metadata": {},
   "outputs": [
    {
     "data": {
      "text/plain": [
       "1487316.4196291503"
      ]
     },
     "execution_count": 251,
     "metadata": {},
     "output_type": "execute_result"
    }
   ],
   "source": [
    "# RSS with regression coefficients\n",
    "((df_marketing3.sales - (est.params[0] + est.params[1]*df_marketing3.TotalAdvt))**2).sum()/1000"
   ]
  },
  {
   "cell_type": "code",
   "execution_count": 252,
   "metadata": {},
   "outputs": [
    {
     "data": {
      "text/plain": [
       "691.9383780433815"
      ]
     },
     "execution_count": 252,
     "metadata": {},
     "output_type": "execute_result"
    }
   ],
   "source": [
    "# RSS with regression coefficients\n",
    "((df_marketing3.TotalAdvt - (est.params[0] + est.params[1]*df_marketing3.sales))**2).sum()/1000"
   ]
  },
  {
   "cell_type": "code",
   "execution_count": 253,
   "metadata": {},
   "outputs": [
    {
     "data": {
      "text/plain": [
       "691.9383780433814"
      ]
     },
     "execution_count": 253,
     "metadata": {},
     "output_type": "execute_result"
    }
   ],
   "source": [
    "# Create grid coordinates for plotting\n",
    "B0 = np.linspace(regr.intercept_-2, regr.intercept_+2, 50)\n",
    "B1 = np.linspace(regr.coef_-0.02, regr.coef_+0.02, 50)\n",
    "xx, yy = np.meshgrid(B0, B1, indexing='xy')\n",
    "Z = np.zeros((B0.size,B1.size))\n",
    "\n",
    "# Calculate Z-values (RSS) based on grid of coefficients\n",
    "for (i,j),v in np.ndenumerate(Z):\n",
    "    Z[i,j] =((y - (xx[i,j]+X.ravel()*yy[i,j]))**2).sum()/1000\n",
    "\n",
    "# Minimized RSS\n",
    "min_RSS = r'$\\beta_0$, $\\beta_1$ for minimized RSS'\n",
    "min_rss = np.sum((regr.intercept_+regr.coef_*X - y.values.reshape(-1,1))**2)/1000\n",
    "min_rss"
   ]
  },
  {
   "cell_type": "code",
   "execution_count": 254,
   "metadata": {},
   "outputs": [
    {
     "name": "stderr",
     "output_type": "stream",
     "text": [
      "C:\\ProgramData\\Anaconda3\\lib\\site-packages\\matplotlib\\contour.py:1230: UserWarning: No contour levels were found within the data range.\n",
      "  warnings.warn(\"No contour levels were found\"\n",
      "C:\\ProgramData\\Anaconda3\\lib\\site-packages\\matplotlib\\contour.py:1230: UserWarning: No contour levels were found within the data range.\n",
      "  warnings.warn(\"No contour levels were found\"\n"
     ]
    },
    {
     "data": {
      "image/png": "[encoded data removed]",
      "text/plain": [
       "<Figure size 1080x432 with 2 Axes>"
      ]
     },
     "metadata": {},
     "output_type": "display_data"
    }
   ],
   "source": [
    "fig = plt.figure(figsize=(15,6))\n",
    "fig.suptitle('simple model', fontsize=20)\n",
    "\n",
    "ax1 = fig.add_subplot(121)\n",
    "ax2 = fig.add_subplot(122, projection='3d')\n",
    "\n",
    "# Left plot\n",
    "CS = ax1.contour(xx, yy, Z, cmap=plt.cm.Set1, levels=[2.15, 2.2, 2.3, 2.5, 3])\n",
    "ax1.scatter(regr.intercept_, regr.coef_[0], c='r', label=min_RSS)\n",
    "ax1.clabel(CS, inline=True, fontsize=10, fmt='%1.1f')\n",
    "\n",
    "# Right plot\n",
    "ax2.plot_surface(xx, yy, Z, rstride=3, cstride=3, alpha=0.3)\n",
    "ax2.contour(xx, yy, Z, zdir='z', offset=Z.min(), cmap=plt.cm.Set1,\n",
    "            alpha=0.4, levels=[2.15, 2.2, 2.3, 2.5, 3])\n",
    "ax2.scatter3D(regr.intercept_, regr.coef_[0], min_rss, c='r', label=min_RSS)\n",
    "ax2.set_zlabel('RSS')\n",
    "ax2.set_zlim(Z.min(),Z.max())\n",
    "ax2.set_ylim(0.02,0.07)\n",
    "\n",
    "# settings common to both plots\n",
    "for ax in fig.axes:\n",
    "    ax.set_xlabel(r'$\\beta_0$', fontsize=17)\n",
    "    ax.set_ylabel(r'$\\beta_1$', fontsize=17)\n",
    "    ax.set_yticks([0.03,0.04,0.05,0.06])\n",
    "    ax.legend()"
   ]
  },
  {
   "cell_type": "code",
   "execution_count": 255,
   "metadata": {},
   "outputs": [
    {
     "data": {
      "text/plain": [
       "'Note that the fig. describes the coefficients based on uncentered data, whereas the plot shows the model based on centered \\ndata. The latter is visually more appealing for explaining the concept of a minimum Regration coefficent. I think that, in order\\nnot to confuse the reader, the values on the axis of the B0 coefficients have been changed to correspond with the text. The axes \\non the plots below are unaltered.'"
      ]
     },
     "execution_count": 255,
     "metadata": {},
     "output_type": "execute_result"
    }
   ],
   "source": [
    "\"\"\"Note that the fig. describes the coefficients based on uncentered data, whereas the plot shows the model based on centered \n",
    "data. The latter is visually more appealing for explaining the concept of a minimum Regration coefficent. I think that, in order\n",
    "not to confuse the reader, the values on the axis of the B0 coefficients have been changed to correspond with the text. The axes \n",
    "on the plots below are unaltered.\"\"\""
   ]
  },
  {
   "cell_type": "code",
   "execution_count": 256,
   "metadata": {},
   "outputs": [
    {
     "data": {
      "text/plain": [
       "0.6035047923313572"
      ]
     },
     "execution_count": 256,
     "metadata": {},
     "output_type": "execute_result"
    }
   ],
   "source": [
    "sales_pred = regr.predict(X)\n",
    "r2_score(y, sales_pred)"
   ]
  },
  {
   "cell_type": "code",
   "execution_count": 257,
   "metadata": {},
   "outputs": [],
   "source": [
    "#Task 5\n",
    "#c\n",
    "sales_pred=regr.predict([[50000]])"
   ]
  },
  {
   "cell_type": "code",
   "execution_count": 258,
   "metadata": {},
   "outputs": [
    {
     "data": {
      "text/plain": [
       "array([610072.11532608])"
      ]
     },
     "execution_count": 258,
     "metadata": {},
     "output_type": "execute_result"
    }
   ],
   "source": [
    "sales_pred"
   ]
  },
  {
   "cell_type": "code",
   "execution_count": 259,
   "metadata": {},
   "outputs": [
    {
     "data": {
      "text/plain": [
       "'The prediction method predict the future values including expend if we expend on items.'"
      ]
     },
     "execution_count": 259,
     "metadata": {},
     "output_type": "execute_result"
    }
   ],
   "source": [
    "\"\"\"The prediction method predict the future values including expend if we expend on items.\"\"\""
   ]
  },
  {
   "cell_type": "code",
   "execution_count": 260,
   "metadata": {},
   "outputs": [
    {
     "data": {
      "text/plain": [
       "[<matplotlib.lines.Line2D at 0x1a86ca6e208>]"
      ]
     },
     "execution_count": 260,
     "metadata": {},
     "output_type": "execute_result"
    },
    {
     "data": {
      "image/png": "[encoded data removed]",
      "text/plain": [
       "<Figure size 432x288 with 1 Axes>"
      ]
     },
     "metadata": {},
     "output_type": "display_data"
    }
   ],
   "source": [
    "#Task 5\n",
    "#d\n",
    "plt.scatter(X,y,color='black')\n",
    "plt.plot(X,regr.predict(X),color='blue',linewidth=3)"
   ]
  },
  {
   "cell_type": "code",
   "execution_count": 261,
   "metadata": {},
   "outputs": [
    {
     "ename": "AttributeError",
     "evalue": "'DataFrame' object has no attribute 'TotalAdvt'",
     "output_type": "error",
     "traceback": [
      "\u001b[1;31m---------------------------------------------------------------------------\u001b[0m",
      "\u001b[1;31mAttributeError\u001b[0m                            Traceback (most recent call last)",
      "\u001b[1;32m<ipython-input-261-32f765391f6e>\u001b[0m in \u001b[0;36m<module>\u001b[1;34m()\u001b[0m\n\u001b[0;32m      1\u001b[0m \u001b[0mx1\u001b[0m\u001b[1;33m=\u001b[0m\u001b[0mdf_marketing1\u001b[0m\u001b[1;33m.\u001b[0m\u001b[0msales\u001b[0m\u001b[1;33m.\u001b[0m\u001b[0mvalues\u001b[0m\u001b[1;33m.\u001b[0m\u001b[0mreshape\u001b[0m\u001b[1;33m(\u001b[0m\u001b[1;33m-\u001b[0m\u001b[1;36m1\u001b[0m\u001b[1;33m,\u001b[0m\u001b[1;36m1\u001b[0m\u001b[1;33m)\u001b[0m\u001b[1;33m\u001b[0m\u001b[0m\n\u001b[1;32m----> 2\u001b[1;33m \u001b[0my1\u001b[0m\u001b[1;33m=\u001b[0m\u001b[0mdf_marketing1\u001b[0m\u001b[1;33m.\u001b[0m\u001b[0mTotalAdvt\u001b[0m\u001b[1;33m\u001b[0m\u001b[0m\n\u001b[0m",
      "\u001b[1;32mC:\\ProgramData\\Anaconda3\\lib\\site-packages\\pandas\\core\\generic.py\u001b[0m in \u001b[0;36m__getattr__\u001b[1;34m(self, name)\u001b[0m\n\u001b[0;32m   4374\u001b[0m             \u001b[1;32mif\u001b[0m \u001b[0mself\u001b[0m\u001b[1;33m.\u001b[0m\u001b[0m_info_axis\u001b[0m\u001b[1;33m.\u001b[0m\u001b[0m_can_hold_identifiers_and_holds_name\u001b[0m\u001b[1;33m(\u001b[0m\u001b[0mname\u001b[0m\u001b[1;33m)\u001b[0m\u001b[1;33m:\u001b[0m\u001b[1;33m\u001b[0m\u001b[0m\n\u001b[0;32m   4375\u001b[0m                 \u001b[1;32mreturn\u001b[0m \u001b[0mself\u001b[0m\u001b[1;33m[\u001b[0m\u001b[0mname\u001b[0m\u001b[1;33m]\u001b[0m\u001b[1;33m\u001b[0m\u001b[0m\n\u001b[1;32m-> 4376\u001b[1;33m             \u001b[1;32mreturn\u001b[0m \u001b[0mobject\u001b[0m\u001b[1;33m.\u001b[0m\u001b[0m__getattribute__\u001b[0m\u001b[1;33m(\u001b[0m\u001b[0mself\u001b[0m\u001b[1;33m,\u001b[0m \u001b[0mname\u001b[0m\u001b[1;33m)\u001b[0m\u001b[1;33m\u001b[0m\u001b[0m\n\u001b[0m\u001b[0;32m   4377\u001b[0m \u001b[1;33m\u001b[0m\u001b[0m\n\u001b[0;32m   4378\u001b[0m     \u001b[1;32mdef\u001b[0m \u001b[0m__setattr__\u001b[0m\u001b[1;33m(\u001b[0m\u001b[0mself\u001b[0m\u001b[1;33m,\u001b[0m \u001b[0mname\u001b[0m\u001b[1;33m,\u001b[0m \u001b[0mvalue\u001b[0m\u001b[1;33m)\u001b[0m\u001b[1;33m:\u001b[0m\u001b[1;33m\u001b[0m\u001b[0m\n",
      "\u001b[1;31mAttributeError\u001b[0m: 'DataFrame' object has no attribute 'TotalAdvt'"
     ]
    }
   ],
   "source": [
    "x1=df_marketing1.sales.values.reshape(-1,1)\n",
    "y1=df_marketing1.TotalAdvt"
   ]
  },
  {
   "cell_type": "code",
   "execution_count": null,
   "metadata": {},
   "outputs": [],
   "source": [
    "regr.fit(x1,y1)"
   ]
  },
  {
   "cell_type": "code",
   "execution_count": null,
   "metadata": {},
   "outputs": [],
   "source": [
    "regr.score(x1,y1)"
   ]
  },
  {
   "cell_type": "code",
   "execution_count": null,
   "metadata": {},
   "outputs": [],
   "source": [
    "regr.coef_"
   ]
  },
  {
   "cell_type": "code",
   "execution_count": null,
   "metadata": {},
   "outputs": [],
   "source": [
    "regr.intercept_"
   ]
  },
  {
   "cell_type": "code",
   "execution_count": null,
   "metadata": {},
   "outputs": [],
   "source": [
    "plt.scatter(x1,y1,color='black')\n",
    "plt.plot(X,regr.predict(x1),color='blue',linewidth=3)"
   ]
  },
  {
   "cell_type": "code",
   "execution_count": null,
   "metadata": {},
   "outputs": [],
   "source": [
    "#Task 6\n",
    "#a\n",
    "regr = skl_lm.LinearRegression()\n",
    "\n",
    "X = df_marketing3[['radio','newspaper', 'TV']].as_matrix()\n",
    "y = df_marketing3.sales\n",
    "\n",
    "regr.fit(X,y)\n",
    "print(regr.coef_)\n",
    "print(regr.intercept_)"
   ]
  },
  {
   "cell_type": "code",
   "execution_count": null,
   "metadata": {},
   "outputs": [],
   "source": [
    "# What are the min/max values of Radio & TV?\n",
    "# Use these values to set up the grid for plotting.\n",
    "df_marketing3[['radio', 'TV','newspaper']].describe()"
   ]
  },
  {
   "cell_type": "code",
   "execution_count": 262,
   "metadata": {},
   "outputs": [
    {
     "data": {
      "text/plain": [
       "0.6035047923313572"
      ]
     },
     "execution_count": 262,
     "metadata": {},
     "output_type": "execute_result"
    }
   ],
   "source": [
    "regr.score(X,y)"
   ]
  },
  {
   "cell_type": "code",
   "execution_count": 263,
   "metadata": {},
   "outputs": [
    {
     "data": {
      "text/html": [
       "<table class=\"simpletable\">\n",
       "<tr>\n",
       "      <td></td>         <th>coef</th>     <th>std err</th>      <th>t</th>      <th>P>|t|</th>  <th>[0.025</th>    <th>0.975]</th>  \n",
       "</tr>\n",
       "<tr>\n",
       "  <th>Intercept</th> <td>    9.1890</td> <td>    0.657</td> <td>   13.979</td> <td> 0.000</td> <td>    7.893</td> <td>   10.485</td>\n",
       "</tr>\n",
       "<tr>\n",
       "  <th>radio</th>     <td>    0.2090</td> <td>    0.024</td> <td>    8.716</td> <td> 0.000</td> <td>    0.162</td> <td>    0.256</td>\n",
       "</tr>\n",
       "</table>"
      ],
      "text/plain": [
       "<class 'statsmodels.iolib.table.SimpleTable'>"
      ]
     },
     "execution_count": 263,
     "metadata": {},
     "output_type": "execute_result"
    }
   ],
   "source": [
    "\n",
    "est = smf.ols('sales ~ radio', df_marketing3).fit()\n",
    "est.summary().tables[1]"
   ]
  },
  {
   "cell_type": "code",
   "execution_count": 264,
   "metadata": {},
   "outputs": [
    {
     "data": {
      "text/html": [
       "<table class=\"simpletable\">\n",
       "<tr>\n",
       "      <td></td>         <th>coef</th>     <th>std err</th>      <th>t</th>      <th>P>|t|</th>  <th>[0.025</th>    <th>0.975]</th>  \n",
       "</tr>\n",
       "<tr>\n",
       "  <th>Intercept</th> <td>   12.4752</td> <td>    0.706</td> <td>   17.663</td> <td> 0.000</td> <td>   11.083</td> <td>   13.868</td>\n",
       "</tr>\n",
       "<tr>\n",
       "  <th>newspaper</th> <td>    0.0503</td> <td>    0.019</td> <td>    2.678</td> <td> 0.008</td> <td>    0.013</td> <td>    0.087</td>\n",
       "</tr>\n",
       "</table>"
      ],
      "text/plain": [
       "<class 'statsmodels.iolib.table.SimpleTable'>"
      ]
     },
     "execution_count": 264,
     "metadata": {},
     "output_type": "execute_result"
    }
   ],
   "source": [
    "est = smf.ols('sales ~ newspaper', df_marketing3).fit()\n",
    "est.summary().tables[1]"
   ]
  },
  {
   "cell_type": "code",
   "execution_count": 265,
   "metadata": {},
   "outputs": [
    {
     "data": {
      "text/html": [
       "<table class=\"simpletable\">\n",
       "<tr>\n",
       "      <td></td>         <th>coef</th>     <th>std err</th>      <th>t</th>      <th>P>|t|</th>  <th>[0.025</th>    <th>0.975]</th>  \n",
       "</tr>\n",
       "<tr>\n",
       "  <th>Intercept</th> <td>    6.7144</td> <td>    0.564</td> <td>   11.910</td> <td> 0.000</td> <td>    5.603</td> <td>    7.826</td>\n",
       "</tr>\n",
       "<tr>\n",
       "  <th>TV</th>        <td>    0.0498</td> <td>    0.003</td> <td>   15.018</td> <td> 0.000</td> <td>    0.043</td> <td>    0.056</td>\n",
       "</tr>\n",
       "</table>"
      ],
      "text/plain": [
       "<class 'statsmodels.iolib.table.SimpleTable'>"
      ]
     },
     "execution_count": 265,
     "metadata": {},
     "output_type": "execute_result"
    }
   ],
   "source": [
    "est = smf.ols('sales ~ TV', df_marketing3).fit()\n",
    "est.summary().tables[1]"
   ]
  },
  {
   "cell_type": "code",
   "execution_count": 266,
   "metadata": {},
   "outputs": [
    {
     "data": {
      "text/html": [
       "<table class=\"simpletable\">\n",
       "<caption>OLS Regression Results</caption>\n",
       "<tr>\n",
       "  <th>Dep. Variable:</th>          <td>sales</td>      <th>  R-squared:         </th> <td>   0.757</td>\n",
       "</tr>\n",
       "<tr>\n",
       "  <th>Model:</th>                   <td>OLS</td>       <th>  Adj. R-squared:    </th> <td>   0.753</td>\n",
       "</tr>\n",
       "<tr>\n",
       "  <th>Method:</th>             <td>Least Squares</td>  <th>  F-statistic:       </th> <td>   207.3</td>\n",
       "</tr>\n",
       "<tr>\n",
       "  <th>Date:</th>             <td>Tue, 04 Jun 2019</td> <th>  Prob (F-statistic):</th> <td>4.06e-61</td>\n",
       "</tr>\n",
       "<tr>\n",
       "  <th>Time:</th>                 <td>18:44:57</td>     <th>  Log-Likelihood:    </th> <td> -507.06</td>\n",
       "</tr>\n",
       "<tr>\n",
       "  <th>No. Observations:</th>      <td>   204</td>      <th>  AIC:               </th> <td>   1022.</td>\n",
       "</tr>\n",
       "<tr>\n",
       "  <th>Df Residuals:</th>          <td>   200</td>      <th>  BIC:               </th> <td>   1035.</td>\n",
       "</tr>\n",
       "<tr>\n",
       "  <th>Df Model:</th>              <td>     3</td>      <th>                     </th>     <td> </td>   \n",
       "</tr>\n",
       "<tr>\n",
       "  <th>Covariance Type:</th>      <td>nonrobust</td>    <th>                     </th>     <td> </td>   \n",
       "</tr>\n",
       "</table>\n",
       "<table class=\"simpletable\">\n",
       "<tr>\n",
       "      <td></td>         <th>coef</th>     <th>std err</th>      <th>t</th>      <th>P>|t|</th>  <th>[0.025</th>    <th>0.975]</th>  \n",
       "</tr>\n",
       "<tr>\n",
       "  <th>Intercept</th> <td>    2.6293</td> <td>    0.539</td> <td>    4.881</td> <td> 0.000</td> <td>    1.567</td> <td>    3.692</td>\n",
       "</tr>\n",
       "<tr>\n",
       "  <th>TV</th>        <td>    0.0478</td> <td>    0.002</td> <td>   19.934</td> <td> 0.000</td> <td>    0.043</td> <td>    0.053</td>\n",
       "</tr>\n",
       "<tr>\n",
       "  <th>radio</th>     <td>    0.1930</td> <td>    0.015</td> <td>   12.971</td> <td> 0.000</td> <td>    0.164</td> <td>    0.222</td>\n",
       "</tr>\n",
       "<tr>\n",
       "  <th>newspaper</th> <td>   -0.0026</td> <td>    0.010</td> <td>   -0.257</td> <td> 0.797</td> <td>   -0.023</td> <td>    0.017</td>\n",
       "</tr>\n",
       "</table>\n",
       "<table class=\"simpletable\">\n",
       "<tr>\n",
       "  <th>Omnibus:</th>       <td>279.802</td> <th>  Durbin-Watson:     </th> <td>   1.366</td> \n",
       "</tr>\n",
       "<tr>\n",
       "  <th>Prob(Omnibus):</th> <td> 0.000</td>  <th>  Jarque-Bera (JB):  </th> <td>37633.473</td>\n",
       "</tr>\n",
       "<tr>\n",
       "  <th>Skew:</th>          <td> 5.683</td>  <th>  Prob(JB):          </th> <td>    0.00</td> \n",
       "</tr>\n",
       "<tr>\n",
       "  <th>Kurtosis:</th>      <td>68.561</td>  <th>  Cond. No.          </th> <td>    454.</td> \n",
       "</tr>\n",
       "</table><br/><br/>Warnings:<br/>[1] Standard Errors assume that the covariance matrix of the errors is correctly specified."
      ],
      "text/plain": [
       "<class 'statsmodels.iolib.summary.Summary'>\n",
       "\"\"\"\n",
       "                            OLS Regression Results                            \n",
       "==============================================================================\n",
       "Dep. Variable:                  sales   R-squared:                       0.757\n",
       "Model:                            OLS   Adj. R-squared:                  0.753\n",
       "Method:                 Least Squares   F-statistic:                     207.3\n",
       "Date:                Tue, 04 Jun 2019   Prob (F-statistic):           4.06e-61\n",
       "Time:                        18:44:57   Log-Likelihood:                -507.06\n",
       "No. Observations:                 204   AIC:                             1022.\n",
       "Df Residuals:                     200   BIC:                             1035.\n",
       "Df Model:                           3                                         \n",
       "Covariance Type:            nonrobust                                         \n",
       "==============================================================================\n",
       "                 coef    std err          t      P>|t|      [0.025      0.975]\n",
       "------------------------------------------------------------------------------\n",
       "Intercept      2.6293      0.539      4.881      0.000       1.567       3.692\n",
       "TV             0.0478      0.002     19.934      0.000       0.043       0.053\n",
       "radio          0.1930      0.015     12.971      0.000       0.164       0.222\n",
       "newspaper     -0.0026      0.010     -0.257      0.797      -0.023       0.017\n",
       "==============================================================================\n",
       "Omnibus:                      279.802   Durbin-Watson:                   1.366\n",
       "Prob(Omnibus):                  0.000   Jarque-Bera (JB):            37633.473\n",
       "Skew:                           5.683   Prob(JB):                         0.00\n",
       "Kurtosis:                      68.561   Cond. No.                         454.\n",
       "==============================================================================\n",
       "\n",
       "Warnings:\n",
       "[1] Standard Errors assume that the covariance matrix of the errors is correctly specified.\n",
       "\"\"\""
      ]
     },
     "execution_count": 266,
     "metadata": {},
     "output_type": "execute_result"
    }
   ],
   "source": [
    "est = smf.ols('sales ~ TV + radio + newspaper', df_marketing3).fit()\n",
    "est.summary()"
   ]
  },
  {
   "cell_type": "code",
   "execution_count": 267,
   "metadata": {},
   "outputs": [
    {
     "data": {
      "text/html": [
       "<div>\n",
       "<style scoped>\n",
       "    .dataframe tbody tr th:only-of-type {\n",
       "        vertical-align: middle;\n",
       "    }\n",
       "\n",
       "    .dataframe tbody tr th {\n",
       "        vertical-align: top;\n",
       "    }\n",
       "\n",
       "    .dataframe thead th {\n",
       "        text-align: right;\n",
       "    }\n",
       "</style>\n",
       "<table border=\"1\" class=\"dataframe\">\n",
       "  <thead>\n",
       "    <tr style=\"text-align: right;\">\n",
       "      <th></th>\n",
       "      <th>TV</th>\n",
       "      <th>radio</th>\n",
       "      <th>newspaper</th>\n",
       "      <th>sales</th>\n",
       "      <th>TotalAdvt</th>\n",
       "    </tr>\n",
       "  </thead>\n",
       "  <tbody>\n",
       "    <tr>\n",
       "      <th>TV</th>\n",
       "      <td>1.000000</td>\n",
       "      <td>0.062072</td>\n",
       "      <td>0.039566</td>\n",
       "      <td>0.726316</td>\n",
       "      <td>0.943955</td>\n",
       "    </tr>\n",
       "    <tr>\n",
       "      <th>radio</th>\n",
       "      <td>0.062072</td>\n",
       "      <td>1.000000</td>\n",
       "      <td>0.346209</td>\n",
       "      <td>0.522792</td>\n",
       "      <td>0.298106</td>\n",
       "    </tr>\n",
       "    <tr>\n",
       "      <th>newspaper</th>\n",
       "      <td>0.039566</td>\n",
       "      <td>0.346209</td>\n",
       "      <td>1.000000</td>\n",
       "      <td>0.185176</td>\n",
       "      <td>0.325568</td>\n",
       "    </tr>\n",
       "    <tr>\n",
       "      <th>sales</th>\n",
       "      <td>0.726316</td>\n",
       "      <td>0.522792</td>\n",
       "      <td>0.185176</td>\n",
       "      <td>1.000000</td>\n",
       "      <td>0.776856</td>\n",
       "    </tr>\n",
       "    <tr>\n",
       "      <th>TotalAdvt</th>\n",
       "      <td>0.943955</td>\n",
       "      <td>0.298106</td>\n",
       "      <td>0.325568</td>\n",
       "      <td>0.776856</td>\n",
       "      <td>1.000000</td>\n",
       "    </tr>\n",
       "  </tbody>\n",
       "</table>\n",
       "</div>"
      ],
      "text/plain": [
       "                 TV     radio  newspaper     sales  TotalAdvt\n",
       "TV         1.000000  0.062072   0.039566  0.726316   0.943955\n",
       "radio      0.062072  1.000000   0.346209  0.522792   0.298106\n",
       "newspaper  0.039566  0.346209   1.000000  0.185176   0.325568\n",
       "sales      0.726316  0.522792   0.185176  1.000000   0.776856\n",
       "TotalAdvt  0.943955  0.298106   0.325568  0.776856   1.000000"
      ]
     },
     "execution_count": 267,
     "metadata": {},
     "output_type": "execute_result"
    }
   ],
   "source": [
    "df_marketing3.corr()"
   ]
  },
  {
   "cell_type": "code",
   "execution_count": 268,
   "metadata": {},
   "outputs": [
    {
     "ename": "IndexError",
     "evalue": "index 1 is out of bounds for axis 0 with size 1",
     "output_type": "error",
     "traceback": [
      "\u001b[1;31m---------------------------------------------------------------------------\u001b[0m",
      "\u001b[1;31mIndexError\u001b[0m                                Traceback (most recent call last)",
      "\u001b[1;32m<ipython-input-268-cbd2fca9e133>\u001b[0m in \u001b[0;36m<module>\u001b[1;34m()\u001b[0m\n\u001b[0;32m      8\u001b[0m \u001b[1;33m\u001b[0m\u001b[0m\n\u001b[0;32m      9\u001b[0m \u001b[1;32mfor\u001b[0m \u001b[1;33m(\u001b[0m\u001b[0mi\u001b[0m\u001b[1;33m,\u001b[0m\u001b[0mj\u001b[0m\u001b[1;33m)\u001b[0m\u001b[1;33m,\u001b[0m\u001b[0mv\u001b[0m \u001b[1;32min\u001b[0m \u001b[0mnp\u001b[0m\u001b[1;33m.\u001b[0m\u001b[0mndenumerate\u001b[0m\u001b[1;33m(\u001b[0m\u001b[0mZ\u001b[0m\u001b[1;33m)\u001b[0m\u001b[1;33m:\u001b[0m\u001b[1;33m\u001b[0m\u001b[0m\n\u001b[1;32m---> 10\u001b[1;33m         \u001b[0mZ\u001b[0m\u001b[1;33m[\u001b[0m\u001b[0mi\u001b[0m\u001b[1;33m,\u001b[0m\u001b[0mj\u001b[0m\u001b[1;33m]\u001b[0m \u001b[1;33m=\u001b[0m\u001b[1;33m(\u001b[0m\u001b[0mregr\u001b[0m\u001b[1;33m.\u001b[0m\u001b[0mintercept_\u001b[0m \u001b[1;33m+\u001b[0m \u001b[0mB1\u001b[0m\u001b[1;33m[\u001b[0m\u001b[0mi\u001b[0m\u001b[1;33m,\u001b[0m\u001b[0mj\u001b[0m\u001b[1;33m]\u001b[0m\u001b[1;33m*\u001b[0m\u001b[0mregr\u001b[0m\u001b[1;33m.\u001b[0m\u001b[0mcoef_\u001b[0m\u001b[1;33m[\u001b[0m\u001b[1;36m0\u001b[0m\u001b[1;33m]\u001b[0m \u001b[1;33m+\u001b[0m \u001b[0mB2\u001b[0m\u001b[1;33m[\u001b[0m\u001b[0mi\u001b[0m\u001b[1;33m,\u001b[0m\u001b[0mj\u001b[0m\u001b[1;33m]\u001b[0m\u001b[1;33m*\u001b[0m\u001b[0mregr\u001b[0m\u001b[1;33m.\u001b[0m\u001b[0mcoef_\u001b[0m\u001b[1;33m[\u001b[0m\u001b[1;36m1\u001b[0m\u001b[1;33m]\u001b[0m\u001b[1;33m)\u001b[0m\u001b[1;33m\u001b[0m\u001b[0m\n\u001b[0m",
      "\u001b[1;31mIndexError\u001b[0m: index 1 is out of bounds for axis 0 with size 1"
     ]
    }
   ],
   "source": [
    "# Create a coordinate grid\n",
    "radio = np.arange(0,50)\n",
    "TV = np.arange(0,300)\n",
    "\n",
    "\n",
    "B1, B2 = np.meshgrid(radio, TV, indexing='xy')\n",
    "Z = np.zeros((TV.size, radio.size))\n",
    "\n",
    "for (i,j),v in np.ndenumerate(Z):\n",
    "        Z[i,j] =(regr.intercept_ + B1[i,j]*regr.coef_[0] + B2[i,j]*regr.coef_[1])"
   ]
  },
  {
   "cell_type": "code",
   "execution_count": 269,
   "metadata": {},
   "outputs": [
    {
     "data": {
      "image/png": "[encoded data removed]",
      "text/plain": [
       "<Figure size 720x432 with 1 Axes>"
      ]
     },
     "metadata": {},
     "output_type": "display_data"
    }
   ],
   "source": [
    "# Create plot\n",
    "fig = plt.figure(figsize=(10,6))\n",
    "fig.suptitle('multi_model', fontsize=20)\n",
    "\n",
    "ax = axes3d.Axes3D(fig)\n",
    "\n",
    "ax.plot_surface(B1, B2, Z, rstride=10, cstride=5, alpha=0.4)\n",
    "ax.scatter3D(df_marketing.radio, df_marketing.TV, df_marketing.sales, c='r')\n",
    "\n",
    "ax.set_xlabel('radio')\n",
    "ax.set_xlim(0,50)\n",
    "ax.set_ylabel('TV')\n",
    "ax.set_ylim(ymin=0)\n",
    "ax.set_zlabel('sales');"
   ]
  },
  {
   "cell_type": "code",
   "execution_count": 270,
   "metadata": {},
   "outputs": [
    {
     "data": {
      "text/plain": [
       "'Once we added the data into Python, you may use both sklearn and statsmodels to get the regression results.\\nEither method would work, but I’ll show you both methods for illustration purposes.\\nThe above code of python divide into 3 steps it 1st show the output generated by sklearn: that is intercept and coefficient\\nthe 2nd step shows that predict value and the 3rd show multi model graph between sales and radio in 3 dimension it shows\\nthat how both varies on same vertex '"
      ]
     },
     "execution_count": 270,
     "metadata": {},
     "output_type": "execute_result"
    }
   ],
   "source": [
    "\"\"\"Once we added the data into Python, you may use both sklearn and statsmodels to get the regression results.\n",
    "Either method would work, but I’ll show you both methods for illustration purposes.\n",
    "The above code of python divide into 3 steps it 1st show the output generated by sklearn: that is intercept and coefficient\n",
    "the 2nd step shows that predict value and the 3rd show multi model graph between sales and radio in 3 dimension it shows\n",
    "that how both varies on same vertex \"\"\""
   ]
  },
  {
   "cell_type": "code",
   "execution_count": 271,
   "metadata": {},
   "outputs": [
    {
     "name": "stdout",
     "output_type": "stream",
     "text": [
      "-1.808944479053764\n",
      "[10.58524742]\n"
     ]
    }
   ],
   "source": [
    "#Task 6\n",
    "#b (i)\n",
    "#for TV 90000\n",
    "regr = skl_lm.LinearRegression()\n",
    "\n",
    "X = df_marketing3.sales.values.reshape(-1,1)\n",
    "y = df_marketing3.TV\n",
    "\n",
    "regr.fit(X,y)\n",
    "print(regr.intercept_)\n",
    "print(regr.coef_)"
   ]
  },
  {
   "cell_type": "code",
   "execution_count": 272,
   "metadata": {},
   "outputs": [
    {
     "data": {
      "text/plain": [
       "0.5275344858281263"
      ]
     },
     "execution_count": 272,
     "metadata": {},
     "output_type": "execute_result"
    }
   ],
   "source": [
    "sales_pred = regr.predict(X)\n",
    "r2_score(y, sales_pred)"
   ]
  },
  {
   "cell_type": "code",
   "execution_count": 273,
   "metadata": {},
   "outputs": [],
   "source": [
    "sales_pred=regr.predict([[90000]])"
   ]
  },
  {
   "cell_type": "code",
   "execution_count": 274,
   "metadata": {},
   "outputs": [
    {
     "data": {
      "text/plain": [
       "array([952670.45895127])"
      ]
     },
     "execution_count": 274,
     "metadata": {},
     "output_type": "execute_result"
    }
   ],
   "source": [
    "sales_pred"
   ]
  },
  {
   "cell_type": "code",
   "execution_count": 275,
   "metadata": {},
   "outputs": [
    {
     "name": "stdout",
     "output_type": "stream",
     "text": [
      "4.783850382890613\n",
      "[1.30795633]\n"
     ]
    }
   ],
   "source": [
    "#for radio 3000\n",
    "regr = skl_lm.LinearRegression()\n",
    "\n",
    "X = df_marketing3.sales.values.reshape(-1,1)\n",
    "y = df_marketing3.radio\n",
    "\n",
    "regr.fit(X,y)\n",
    "print(regr.intercept_)\n",
    "print(regr.coef_)"
   ]
  },
  {
   "cell_type": "code",
   "execution_count": 276,
   "metadata": {},
   "outputs": [
    {
     "data": {
      "text/plain": [
       "0.2733110449425743"
      ]
     },
     "execution_count": 276,
     "metadata": {},
     "output_type": "execute_result"
    }
   ],
   "source": [
    "sales_pred = regr.predict(X)\n",
    "r2_score(y, sales_pred)"
   ]
  },
  {
   "cell_type": "code",
   "execution_count": 277,
   "metadata": {},
   "outputs": [],
   "source": [
    "sales_pred=regr.predict([[3000]])"
   ]
  },
  {
   "cell_type": "code",
   "execution_count": 278,
   "metadata": {},
   "outputs": [
    {
     "data": {
      "text/plain": [
       "array([3928.65283442])"
      ]
     },
     "execution_count": 278,
     "metadata": {},
     "output_type": "execute_result"
    }
   ],
   "source": [
    "sales_pred"
   ]
  },
  {
   "cell_type": "code",
   "execution_count": 279,
   "metadata": {},
   "outputs": [
    {
     "name": "stdout",
     "output_type": "stream",
     "text": [
      "21.157737369189768\n",
      "[0.68146339]\n"
     ]
    }
   ],
   "source": [
    "#for newspaper 45000\n",
    "regr = skl_lm.LinearRegression()\n",
    "\n",
    "X = df_marketing3.sales.values.reshape(-1,1)\n",
    "y = df_marketing3.newspaper\n",
    "\n",
    "regr.fit(X,y)\n",
    "print(regr.intercept_)\n",
    "print(regr.coef_)"
   ]
  },
  {
   "cell_type": "code",
   "execution_count": 280,
   "metadata": {},
   "outputs": [
    {
     "data": {
      "text/plain": [
       "0.03429006248519473"
      ]
     },
     "execution_count": 280,
     "metadata": {},
     "output_type": "execute_result"
    }
   ],
   "source": [
    "sales_pred = regr.predict(X)\n",
    "r2_score(y, sales_pred)"
   ]
  },
  {
   "cell_type": "code",
   "execution_count": 281,
   "metadata": {},
   "outputs": [],
   "source": [
    "sales_pred=regr.predict([[45000]])"
   ]
  },
  {
   "cell_type": "code",
   "execution_count": 282,
   "metadata": {},
   "outputs": [
    {
     "data": {
      "text/plain": [
       "array([30687.01010813])"
      ]
     },
     "execution_count": 282,
     "metadata": {},
     "output_type": "execute_result"
    }
   ],
   "source": [
    "sales_pred"
   ]
  },
  {
   "cell_type": "code",
   "execution_count": 283,
   "metadata": {},
   "outputs": [
    {
     "name": "stdout",
     "output_type": "stream",
     "text": [
      "-1.808944479053764\n",
      "[10.58524742]\n"
     ]
    }
   ],
   "source": [
    "#b (ii)\n",
    "#for tv 290000\n",
    "regr = skl_lm.LinearRegression()\n",
    "\n",
    "X = df_marketing3.sales.values.reshape(-1,1)\n",
    "y = df_marketing3.TV\n",
    "\n",
    "regr.fit(X,y)\n",
    "print(regr.intercept_)\n",
    "print(regr.coef_)"
   ]
  },
  {
   "cell_type": "code",
   "execution_count": 284,
   "metadata": {},
   "outputs": [
    {
     "data": {
      "text/plain": [
       "0.5275344858281263"
      ]
     },
     "execution_count": 284,
     "metadata": {},
     "output_type": "execute_result"
    }
   ],
   "source": [
    "sales_pred = regr.predict(X)\n",
    "r2_score(y, sales_pred)"
   ]
  },
  {
   "cell_type": "code",
   "execution_count": 285,
   "metadata": {},
   "outputs": [],
   "source": [
    "sales_pred=regr.predict([[290000]])"
   ]
  },
  {
   "cell_type": "code",
   "execution_count": 286,
   "metadata": {},
   "outputs": [
    {
     "data": {
      "text/plain": [
       "array([3069719.94316405])"
      ]
     },
     "execution_count": 286,
     "metadata": {},
     "output_type": "execute_result"
    }
   ],
   "source": [
    "sales_pred"
   ]
  },
  {
   "cell_type": "code",
   "execution_count": 287,
   "metadata": {},
   "outputs": [
    {
     "name": "stdout",
     "output_type": "stream",
     "text": [
      "21.157737369189768\n",
      "[0.68146339]\n"
     ]
    }
   ],
   "source": [
    "#for newspaper 80000\n",
    "regr = skl_lm.LinearRegression()\n",
    "\n",
    "X = df_marketing3.sales.values.reshape(-1,1)\n",
    "y = df_marketing3.newspaper\n",
    "\n",
    "regr.fit(X,y)\n",
    "print(regr.intercept_)\n",
    "print(regr.coef_)"
   ]
  },
  {
   "cell_type": "code",
   "execution_count": 288,
   "metadata": {},
   "outputs": [
    {
     "data": {
      "text/plain": [
       "0.03429006248519473"
      ]
     },
     "execution_count": 288,
     "metadata": {},
     "output_type": "execute_result"
    }
   ],
   "source": [
    "sales_pred = regr.predict(X)\n",
    "r2_score(y, sales_pred)"
   ]
  },
  {
   "cell_type": "code",
   "execution_count": 289,
   "metadata": {},
   "outputs": [],
   "source": [
    "sales_pred=regr.predict([[80000]])"
   ]
  },
  {
   "cell_type": "code",
   "execution_count": 290,
   "metadata": {},
   "outputs": [
    {
     "data": {
      "text/plain": [
       "array([54538.22861871])"
      ]
     },
     "execution_count": 290,
     "metadata": {},
     "output_type": "execute_result"
    }
   ],
   "source": [
    "sales_pred"
   ]
  },
  {
   "cell_type": "code",
   "execution_count": 291,
   "metadata": {},
   "outputs": [
    {
     "data": {
      "text/plain": [
       "'As we explain above predict method predict the future probability on the basis of given input. here only newspaper goes \\nin loss, or we can say that its stock market will decrease in future.\\n\\npredict method is used to determine stock market of any company on their input basis'"
      ]
     },
     "execution_count": 291,
     "metadata": {},
     "output_type": "execute_result"
    }
   ],
   "source": [
    "\"\"\"As we explain above predict method predict the future probability on the basis of given input. here only newspaper goes \n",
    "in loss, or we can say that its stock market will decrease in future.\n",
    "\n",
    "predict method is used to determine stock market of any company on their input basis\"\"\""
   ]
  },
  {
   "cell_type": "code",
   "execution_count": 292,
   "metadata": {},
   "outputs": [
    {
     "name": "stdout",
     "output_type": "stream",
     "text": [
      "-1.808944479053764\n",
      "[10.58524742]\n"
     ]
    }
   ],
   "source": [
    "#Task 6\n",
    "#c\n",
    "#for TV\n",
    "\n",
    "regr = skl_lm.LinearRegression()\n",
    "\n",
    "X = df_marketing3.sales.values.reshape(-1,1)\n",
    "y = df_marketing3.TV\n",
    "\n",
    "regr.fit(X,y)\n",
    "print(regr.intercept_)\n",
    "print(regr.coef_)"
   ]
  },
  {
   "cell_type": "code",
   "execution_count": 293,
   "metadata": {},
   "outputs": [
    {
     "data": {
      "text/plain": [
       "0.5275344858281263"
      ]
     },
     "execution_count": 293,
     "metadata": {},
     "output_type": "execute_result"
    }
   ],
   "source": [
    "sales_pred = regr.predict(X)\n",
    "r2_score(y, sales_pred)"
   ]
  },
  {
   "cell_type": "code",
   "execution_count": 294,
   "metadata": {},
   "outputs": [
    {
     "data": {
      "text/plain": [
       "[<matplotlib.lines.Line2D at 0x1a86d9e9128>]"
      ]
     },
     "execution_count": 294,
     "metadata": {},
     "output_type": "execute_result"
    },
    {
     "data": {
      "image/png": "[encoded data removed]",
      "text/plain": [
       "<Figure size 432x288 with 1 Axes>"
      ]
     },
     "metadata": {},
     "output_type": "display_data"
    }
   ],
   "source": [
    "plt.scatter(X,y,color='black')\n",
    "plt.plot(X,regr.predict(X),color='blue',linewidth=3)"
   ]
  },
  {
   "cell_type": "code",
   "execution_count": 295,
   "metadata": {},
   "outputs": [
    {
     "name": "stdout",
     "output_type": "stream",
     "text": [
      "21.157737369189768\n",
      "[0.68146339]\n"
     ]
    }
   ],
   "source": [
    "#for newspaper\n",
    "regr = skl_lm.LinearRegression()\n",
    "\n",
    "X = df_marketing3.sales.values.reshape(-1,1)\n",
    "y = df_marketing3.newspaper\n",
    "\n",
    "regr.fit(X,y)\n",
    "print(regr.intercept_)\n",
    "print(regr.coef_)"
   ]
  },
  {
   "cell_type": "code",
   "execution_count": 296,
   "metadata": {},
   "outputs": [
    {
     "data": {
      "text/plain": [
       "0.03429006248519473"
      ]
     },
     "execution_count": 296,
     "metadata": {},
     "output_type": "execute_result"
    }
   ],
   "source": [
    "sales_pred = regr.predict(X)\n",
    "r2_score(y, sales_pred)"
   ]
  },
  {
   "cell_type": "code",
   "execution_count": 297,
   "metadata": {},
   "outputs": [
    {
     "data": {
      "text/plain": [
       "[<matplotlib.lines.Line2D at 0x1a86d4cd908>]"
      ]
     },
     "execution_count": 297,
     "metadata": {},
     "output_type": "execute_result"
    },
    {
     "data": {
      "image/png": "[encoded data removed]",
      "text/plain": [
       "<Figure size 432x288 with 1 Axes>"
      ]
     },
     "metadata": {},
     "output_type": "display_data"
    }
   ],
   "source": [
    "plt.scatter(X,y,color='black')\n",
    "plt.plot(X,regr.predict(X),color='blue',linewidth=3)"
   ]
  },
  {
   "cell_type": "code",
   "execution_count": 298,
   "metadata": {},
   "outputs": [
    {
     "name": "stdout",
     "output_type": "stream",
     "text": [
      "4.783850382890613\n",
      "[1.30795633]\n"
     ]
    }
   ],
   "source": [
    "#for radio\n",
    "regr = skl_lm.LinearRegression()\n",
    "\n",
    "X = df_marketing3.sales.values.reshape(-1,1)\n",
    "y = df_marketing3.radio\n",
    "\n",
    "regr.fit(X,y)\n",
    "print(regr.intercept_)\n",
    "print(regr.coef_)"
   ]
  },
  {
   "cell_type": "code",
   "execution_count": 299,
   "metadata": {},
   "outputs": [
    {
     "data": {
      "text/plain": [
       "0.2733110449425743"
      ]
     },
     "execution_count": 299,
     "metadata": {},
     "output_type": "execute_result"
    }
   ],
   "source": [
    "sales_pred = regr.predict(X)\n",
    "r2_score(y, sales_pred)"
   ]
  },
  {
   "cell_type": "code",
   "execution_count": 300,
   "metadata": {},
   "outputs": [
    {
     "data": {
      "text/plain": [
       "[<matplotlib.lines.Line2D at 0x1a86d5d2f98>]"
      ]
     },
     "execution_count": 300,
     "metadata": {},
     "output_type": "execute_result"
    },
    {
     "data": {
      "image/png": "[encoded data removed]",
      "text/plain": [
       "<Figure size 432x288 with 1 Axes>"
      ]
     },
     "metadata": {},
     "output_type": "display_data"
    }
   ],
   "source": [
    "plt.scatter(X,y,color='black')\n",
    "plt.plot(X,regr.predict(X),color='blue',linewidth=3)"
   ]
  },
  {
   "cell_type": "code",
   "execution_count": 301,
   "metadata": {},
   "outputs": [
    {
     "data": {
      "text/plain": [
       "'Both are calculated using predict method but one diferrence is that the option (c) use scatter plot to show how every \\npoint varies with blue line, here we conclude that it is in the form of equation (y=mx+c) where y is dependent and x is \\nindependent hence we can say that y represent blue line and x represent black point'"
      ]
     },
     "execution_count": 301,
     "metadata": {},
     "output_type": "execute_result"
    }
   ],
   "source": [
    "#Task 6\n",
    "#d\n",
    "\"\"\"Both are calculated using predict method but one diferrence is that the option (c) use scatter plot to show how every \n",
    "point varies with blue line, here we conclude that it is in the form of equation (y=mx+c) where y is dependent and x is \n",
    "independent hence we can say that y represent blue line and x represent black point\"\"\""
   ]
  },
  {
   "cell_type": "code",
   "execution_count": 302,
   "metadata": {},
   "outputs": [
    {
     "name": "stdout",
     "output_type": "stream",
     "text": [
      "146.60245098039218\n",
      "[10.58524742]\n"
     ]
    }
   ],
   "source": [
    "#Task 7\n",
    "#for simple model\n",
    "regr = skl_lm.LinearRegression()\n",
    "\n",
    "X = scale(df_marketing3.sales, with_mean=True, with_std=False).reshape(-1,1)\n",
    "y = df_marketing3.TV\n",
    "\n",
    "regr.fit(X,y)\n",
    "print(regr.intercept_)\n",
    "print(regr.coef_)"
   ]
  },
  {
   "cell_type": "code",
   "execution_count": 303,
   "metadata": {},
   "outputs": [
    {
     "data": {
      "text/plain": [
       "28162.786980968853"
      ]
     },
     "execution_count": 303,
     "metadata": {},
     "output_type": "execute_result"
    }
   ],
   "source": [
    "mean_squared_error(X, y)"
   ]
  },
  {
   "cell_type": "code",
   "execution_count": 304,
   "metadata": {},
   "outputs": [
    {
     "name": "stdout",
     "output_type": "stream",
     "text": [
      "[[ 1.92997487e-01 -2.59760885e-03  4.78061961e-02]\n",
      " [ 1.00000000e+00 -6.55888945e-17  1.12401259e-17]\n",
      " [ 7.46192847e-17 -1.28628200e-18  1.00000000e+00]]\n",
      "[ 2.62934093e+00 -7.10542736e-15  5.68434189e-14]\n"
     ]
    },
    {
     "name": "stderr",
     "output_type": "stream",
     "text": [
      "C:\\ProgramData\\Anaconda3\\lib\\site-packages\\ipykernel_launcher.py:4: FutureWarning: Method .as_matrix will be removed in a future version. Use .values instead.\n",
      "  after removing the cwd from sys.path.\n",
      "C:\\ProgramData\\Anaconda3\\lib\\site-packages\\ipykernel_launcher.py:5: FutureWarning: Method .as_matrix will be removed in a future version. Use .values instead.\n",
      "  \"\"\"\n"
     ]
    }
   ],
   "source": [
    "\n",
    "regr = skl_lm.LinearRegression()\n",
    "\n",
    "X = df_marketing3[['radio','newspaper', 'TV']].as_matrix()\n",
    "y = df_marketing3[['sales','radio','TV']].as_matrix()\n",
    "\n",
    "regr.fit(X,y)\n",
    "print(regr.coef_)\n",
    "print(regr.intercept_)"
   ]
  },
  {
   "cell_type": "code",
   "execution_count": 305,
   "metadata": {},
   "outputs": [
    {
     "data": {
      "text/plain": [
       "255.83990477403805"
      ]
     },
     "execution_count": 305,
     "metadata": {},
     "output_type": "execute_result"
    }
   ],
   "source": [
    "mean_squared_error(X,y)"
   ]
  },
  {
   "cell_type": "code",
   "execution_count": 306,
   "metadata": {},
   "outputs": [
    {
     "name": "stdout",
     "output_type": "stream",
     "text": [
      "[4.78385038]\n",
      "[[1.30795633]]\n"
     ]
    }
   ],
   "source": [
    "#Task 7\n",
    "#a\n",
    "simple_model = skl_lm.LinearRegression()\n",
    "\n",
    "X = df_marketing3.sales.values.reshape(-1,1)\n",
    "y = df_marketing3.radio.values.reshape(-1,1)\n",
    "\n",
    "simple_model.fit(X,y)\n",
    "print(simple_model.intercept_)\n",
    "print(simple_model.coef_)"
   ]
  },
  {
   "cell_type": "code",
   "execution_count": 307,
   "metadata": {},
   "outputs": [
    {
     "data": {
      "text/plain": [
       "-20.002554501669863"
      ]
     },
     "execution_count": 307,
     "metadata": {},
     "output_type": "execute_result"
    }
   ],
   "source": [
    "simple_y = simple_model.predict(y)\n",
    "r2_score(X, simple_y)"
   ]
  },
  {
   "cell_type": "code",
   "execution_count": 308,
   "metadata": {},
   "outputs": [
    {
     "name": "stdout",
     "output_type": "stream",
     "text": [
      "[[ 1.92997487e-01 -2.59760885e-03  4.78061961e-02]\n",
      " [ 1.00000000e+00 -6.55888945e-17  1.12401259e-17]\n",
      " [ 7.46192847e-17 -1.28628200e-18  1.00000000e+00]]\n",
      "[ 2.62934093e+00 -7.10542736e-15  5.68434189e-14]\n"
     ]
    },
    {
     "name": "stderr",
     "output_type": "stream",
     "text": [
      "C:\\ProgramData\\Anaconda3\\lib\\site-packages\\ipykernel_launcher.py:3: FutureWarning: Method .as_matrix will be removed in a future version. Use .values instead.\n",
      "  This is separate from the ipykernel package so we can avoid doing imports until\n",
      "C:\\ProgramData\\Anaconda3\\lib\\site-packages\\ipykernel_launcher.py:4: FutureWarning: Method .as_matrix will be removed in a future version. Use .values instead.\n",
      "  after removing the cwd from sys.path.\n"
     ]
    }
   ],
   "source": [
    "regr = skl_lm.LinearRegression()\n",
    "\n",
    "X = df_marketing3[['radio','newspaper', 'TV']].as_matrix()\n",
    "y = df_marketing3[['sales','radio','TV']].as_matrix()\n",
    "\n",
    "regr.fit(X,y)\n",
    "print(regr.coef_)\n",
    "print(regr.intercept_)"
   ]
  },
  {
   "cell_type": "code",
   "execution_count": 309,
   "metadata": {},
   "outputs": [
    {
     "data": {
      "text/plain": [
       "-0.037086307073523304"
      ]
     },
     "execution_count": 309,
     "metadata": {},
     "output_type": "execute_result"
    }
   ],
   "source": [
    "multi_y = regr.predict(y)\n",
    "r2_score(X, multi_y)"
   ]
  },
  {
   "cell_type": "code",
   "execution_count": 310,
   "metadata": {},
   "outputs": [
    {
     "data": {
      "text/plain": [
       "15.619568334183889"
      ]
     },
     "execution_count": 310,
     "metadata": {},
     "output_type": "execute_result"
    }
   ],
   "source": [
    "#Task 7\n",
    "#b\n",
    "#evaluating the prediction error\n",
    "simple_model = skl_lm.LinearRegression()\n",
    "\n",
    "X = df_marketing3.sales.values.reshape(-1,1)\n",
    "y = df_marketing3.radio.values.reshape(-1,1)\n",
    "\n",
    "simple_model.fit(X,y)\n",
    "\n",
    "simple_mse=np.sqrt(mean_squared_error(X,y))\n",
    "simple_mse"
   ]
  },
  {
   "cell_type": "code",
   "execution_count": 311,
   "metadata": {},
   "outputs": [
    {
     "name": "stderr",
     "output_type": "stream",
     "text": [
      "C:\\ProgramData\\Anaconda3\\lib\\site-packages\\ipykernel_launcher.py:4: FutureWarning: Method .as_matrix will be removed in a future version. Use .values instead.\n",
      "  after removing the cwd from sys.path.\n",
      "C:\\ProgramData\\Anaconda3\\lib\\site-packages\\ipykernel_launcher.py:5: FutureWarning: Method .as_matrix will be removed in a future version. Use .values instead.\n",
      "  \"\"\"\n"
     ]
    },
    {
     "data": {
      "text/plain": [
       "15.994996241763799"
      ]
     },
     "execution_count": 311,
     "metadata": {},
     "output_type": "execute_result"
    }
   ],
   "source": [
    "#Evaluating the prediction error.\n",
    "regr = skl_lm.LinearRegression()\n",
    "\n",
    "X = df_marketing3[['radio','newspaper', 'TV']].as_matrix()\n",
    "y = df_marketing3[['sales','radio','TV']].as_matrix()\n",
    "\n",
    "regr.fit(X,y)\n",
    "\n",
    "multi_mse = np.sqrt(mean_squared_error(X,y))\n",
    "multi_mse"
   ]
  },
  {
   "cell_type": "code",
   "execution_count": 312,
   "metadata": {},
   "outputs": [
    {
     "data": {
      "text/plain": [
       "'The term \"linearity\" in algebra refers to a linear relationship between two or more variables. If we draw this relationship\\nin a two dimensional space (between two variables, in this case), we get a straight line.\\n\\nLet\\'s consider a scenario where we want to determine the linear relationship between the numbers of hours a student studies and\\nthe percentage of marks that student scores in an exam. We want to find out that given the number of hours a student prepares for\\na test, about how high of a score can the student achieve? If we plot the independent variable (hours) on the x-axis and \\ndependent variable (percentage) on the y-axis, linear regression gives us a straight line that best fits the data points,\\nas shown in the figure below.\\n\\n\\nWe know that the equation of a straight line is basically:y = mx + b \\n\\n\\n\\nWhere b is the intercept and m is the slope of the line. So basically, the linear regression algorithm gives us the most optimal\\nvalue for the intercept and the slope (in two dimensions). The y and x variables remain the same, since they are the data \\nfeatures and cannot be changed. The values that we can control are the intercept and slope. There can be multiple straight\\nlines depending upon the values of intercept and slope. Basically what the linear regression algorithm does is it fits multiple\\nlines on the data points and returns the line that results in the least error.\\n\\nThis same concept can be extended to the cases where there are more than two variables. This is called multiple linear \\nregression. For instance, consider a scenario where you have to predict the price of house based upon its area, number of \\nbedrooms, average income of the people in the area, the age of the house, and so on. In this case the dependent variable is\\ndependent upon several independent variables. \\n\\n\\n\\nA regression model involving multiple variables can be represented as: y = b0 + m1b1 + m2b2 + m3b3 + ... ... mnbn\\n    \\nThis is the equation of a hyper plane. Remember, a linear regression model in two dimensions is a straight line; in three\\ndimensions it is a plane, and in more than three dimensions, \\na hyper plane.'"
      ]
     },
     "execution_count": 312,
     "metadata": {},
     "output_type": "execute_result"
    }
   ],
   "source": [
    "#Task 7\n",
    "#c\n",
    "#explaination of task 7\n",
    "\"\"\"The term \"linearity\" in algebra refers to a linear relationship between two or more variables. If we draw this relationship\n",
    "in a two dimensional space (between two variables, in this case), we get a straight line.\n",
    "\n",
    "Let's consider a scenario where we want to determine the linear relationship between the numbers of hours a student studies and\n",
    "the percentage of marks that student scores in an exam. We want to find out that given the number of hours a student prepares for\n",
    "a test, about how high of a score can the student achieve? If we plot the independent variable (hours) on the x-axis and \n",
    "dependent variable (percentage) on the y-axis, linear regression gives us a straight line that best fits the data points,\n",
    "as shown in the figure below.\n",
    "\n",
    "\n",
    "We know that the equation of a straight line is basically:y = mx + b \n",
    "\n",
    "\n",
    "\n",
    "Where b is the intercept and m is the slope of the line. So basically, the linear regression algorithm gives us the most optimal\n",
    "value for the intercept and the slope (in two dimensions). The y and x variables remain the same, since they are the data \n",
    "features and cannot be changed. The values that we can control are the intercept and slope. There can be multiple straight\n",
    "lines depending upon the values of intercept and slope. Basically what the linear regression algorithm does is it fits multiple\n",
    "lines on the data points and returns the line that results in the least error.\n",
    "\n",
    "This same concept can be extended to the cases where there are more than two variables. This is called multiple linear \n",
    "regression. For instance, consider a scenario where you have to predict the price of house based upon its area, number of \n",
    "bedrooms, average income of the people in the area, the age of the house, and so on. In this case the dependent variable is\n",
    "dependent upon several independent variables. \n",
    "\n",
    "\n",
    "\n",
    "A regression model involving multiple variables can be represented as: y = b0 + m1b1 + m2b2 + m3b3 + ... ... mnbn\n",
    "    \n",
    "This is the equation of a hyper plane. Remember, a linear regression model in two dimensions is a straight line; in three\n",
    "dimensions it is a plane, and in more than three dimensions, \n",
    "a hyper plane.\"\"\""
   ]
  },
  {
   "cell_type": "code",
   "execution_count": 313,
   "metadata": {},
   "outputs": [
    {
     "data": {
      "text/plain": [
       "'Multi regression module is better because \\n\\ny = b0 + m1b1 + m2b2 + m3b3 + ... ... mnbn\\n\\nas from above equation it is clear that it have only 1 dependent variable y and there are many independent variable bn.\\n\\nshow we conclude that all data analysis at same time concatinating all data we analysis all data at at different vertex of plot.\\n\\n\\nbut simple regression model is also good on their own place because if we analysis only two data at same time,show by using \\nsimple regression we find diferrence at every point, it clearify where it increase from the other data.'"
      ]
     },
     "execution_count": 313,
     "metadata": {},
     "output_type": "execute_result"
    }
   ],
   "source": [
    "#which regression is better and why \n",
    "\"\"\"Multi regression module is better because \n",
    "\n",
    "y = b0 + m1b1 + m2b2 + m3b3 + ... ... mnbn\n",
    "\n",
    "as from above equation it is clear that it have only 1 dependent variable y and there are many independent variable bn.\n",
    "\n",
    "show we conclude that all data analysis at same time concatinating all data we analysis all data at at different vertex of plot.\n",
    "\n",
    "\n",
    "but simple regression model is also good on their own place because if we analysis only two data at same time,show by using \n",
    "simple regression we find diferrence at every point, it clearify where it increase from the other data.\"\"\"\n"
   ]
  },
  {
   "cell_type": "code",
   "execution_count": null,
   "metadata": {},
   "outputs": [],
   "source": []
  },
  {
   "cell_type": "code",
   "execution_count": null,
   "metadata": {},
   "outputs": [],
   "source": []
  }
 ],
 "metadata": {
  "kernelspec": {
   "display_name": "Python 3",
   "language": "python",
   "name": "python3"
  },
  "language_info": {
   "codemirror_mode": {
    "name": "ipython",
    "version": 3
   },
   "file_extension": ".py",
   "mimetype": "text/x-python",
   "name": "python",
   "nbconvert_exporter": "python",
   "pygments_lexer": "ipython3",
   "version": "3.7.0"
  }
 },
 "nbformat": 4,
 "nbformat_minor": 2
}
